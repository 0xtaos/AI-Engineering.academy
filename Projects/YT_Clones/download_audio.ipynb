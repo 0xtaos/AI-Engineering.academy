{
 "cells": [
  {
   "cell_type": "code",
   "execution_count": null,
   "metadata": {},
   "outputs": [],
   "source": [
    "!pip install pytube --user"
   ]
  },
  {
   "cell_type": "markdown",
   "metadata": {},
   "source": [
    "## Testing video download"
   ]
  },
  {
   "cell_type": "code",
   "execution_count": 1,
   "metadata": {},
   "outputs": [
    {
     "name": "stdout",
     "output_type": "stream",
     "text": [
      "Downloading audio to downloads/the_untold_history_of_web_development.wav...\n",
      "Downloading audio to downloads/my_browser_my_paste.wav...\n",
      "Downloading audio to downloads/Yo_mama_so_FAT32.wav...\n",
      "Downloading audio to downloads/A_Day_in_the_Life_of_a_Proompt_Engineer.wav...\n",
      "Downloading audio to downloads/Uh_oh_AIsearch_engine_for_developers_has_emerged.wav...\n",
      "Downloading audio to downloads/Meet_SAM_Metas_latest_AI_model.wav...\n",
      "Downloading audio to downloads/the_PATH_var_of_righteousness.wav...\n"
     ]
    },
    {
     "ename": "KeyboardInterrupt",
     "evalue": "",
     "output_type": "error",
     "traceback": [
      "\u001b[1;31m---------------------------------------------------------------------------\u001b[0m",
      "\u001b[1;31mKeyboardInterrupt\u001b[0m                         Traceback (most recent call last)",
      "Cell \u001b[1;32mIn[1], line 76\u001b[0m\n\u001b[0;32m     73\u001b[0m text_file_path \u001b[38;5;241m=\u001b[39m \u001b[38;5;124m\"\u001b[39m\u001b[38;5;124m./downloads/Fireship_clone/@Fireship-shorts.txt\u001b[39m\u001b[38;5;124m\"\u001b[39m\n\u001b[0;32m     75\u001b[0m \u001b[38;5;66;03m# Process video links and save data to JSON\u001b[39;00m\n\u001b[1;32m---> 76\u001b[0m \u001b[43mprocess_video_links\u001b[49m\u001b[43m(\u001b[49m\u001b[43mtext_file_path\u001b[49m\u001b[43m)\u001b[49m\n",
      "Cell \u001b[1;32mIn[1], line 60\u001b[0m, in \u001b[0;36mprocess_video_links\u001b[1;34m(file_path)\u001b[0m\n\u001b[0;32m     58\u001b[0m \u001b[38;5;28;01mfor\u001b[39;00m video_link \u001b[38;5;129;01min\u001b[39;00m video_links:\n\u001b[0;32m     59\u001b[0m     video_link \u001b[38;5;241m=\u001b[39m video_link\u001b[38;5;241m.\u001b[39mstrip()\n\u001b[1;32m---> 60\u001b[0m     video_info \u001b[38;5;241m=\u001b[39m \u001b[43mdownload_video_info\u001b[49m\u001b[43m(\u001b[49m\u001b[43mvideo_link\u001b[49m\u001b[43m)\u001b[49m\n\u001b[0;32m     62\u001b[0m     \u001b[38;5;28;01mif\u001b[39;00m video_info:\n\u001b[0;32m     63\u001b[0m         video_data_list\u001b[38;5;241m.\u001b[39mappend(video_info)\n",
      "Cell \u001b[1;32mIn[1], line 21\u001b[0m, in \u001b[0;36mdownload_video_info\u001b[1;34m(video_url, output_directory)\u001b[0m\n\u001b[0;32m     18\u001b[0m     os\u001b[38;5;241m.\u001b[39mmakedirs(output_directory)\n\u001b[0;32m     20\u001b[0m \u001b[38;5;66;03m# Get the highest resolution audio stream\u001b[39;00m\n\u001b[1;32m---> 21\u001b[0m audio_stream \u001b[38;5;241m=\u001b[39m \u001b[43myt\u001b[49m\u001b[38;5;241;43m.\u001b[39;49m\u001b[43mstreams\u001b[49m\u001b[38;5;241m.\u001b[39mfilter(only_audio\u001b[38;5;241m=\u001b[39m\u001b[38;5;28;01mTrue\u001b[39;00m)\u001b[38;5;241m.\u001b[39mfirst()\n\u001b[0;32m     23\u001b[0m \u001b[38;5;66;03m# Download the audio stream\u001b[39;00m\n\u001b[0;32m     25\u001b[0m file_name \u001b[38;5;241m=\u001b[39m remove_special_characters(yt\u001b[38;5;241m.\u001b[39mtitle)\n",
      "File \u001b[1;32mc:\\Projects\\LLM-Cookbook\\LLM-venv\\Lib\\site-packages\\pytube\\__main__.py:296\u001b[0m, in \u001b[0;36mYouTube.streams\u001b[1;34m(self)\u001b[0m\n\u001b[0;32m    291\u001b[0m \u001b[38;5;250m\u001b[39m\u001b[38;5;124;03m\"\"\"Interface to query both adaptive (DASH) and progressive streams.\u001b[39;00m\n\u001b[0;32m    292\u001b[0m \n\u001b[0;32m    293\u001b[0m \u001b[38;5;124;03m:rtype: :class:`StreamQuery <StreamQuery>`.\u001b[39;00m\n\u001b[0;32m    294\u001b[0m \u001b[38;5;124;03m\"\"\"\u001b[39;00m\n\u001b[0;32m    295\u001b[0m \u001b[38;5;28mself\u001b[39m\u001b[38;5;241m.\u001b[39mcheck_availability()\n\u001b[1;32m--> 296\u001b[0m \u001b[38;5;28;01mreturn\u001b[39;00m StreamQuery(\u001b[38;5;28;43mself\u001b[39;49m\u001b[38;5;241;43m.\u001b[39;49m\u001b[43mfmt_streams\u001b[49m)\n",
      "File \u001b[1;32mc:\\Projects\\LLM-Cookbook\\LLM-venv\\Lib\\site-packages\\pytube\\__main__.py:181\u001b[0m, in \u001b[0;36mYouTube.fmt_streams\u001b[1;34m(self)\u001b[0m\n\u001b[0;32m    178\u001b[0m \u001b[38;5;66;03m# If the cached js doesn't work, try fetching a new js file\u001b[39;00m\n\u001b[0;32m    179\u001b[0m \u001b[38;5;66;03m# https://github.com/pytube/pytube/issues/1054\u001b[39;00m\n\u001b[0;32m    180\u001b[0m \u001b[38;5;28;01mtry\u001b[39;00m:\n\u001b[1;32m--> 181\u001b[0m     \u001b[43mextract\u001b[49m\u001b[38;5;241;43m.\u001b[39;49m\u001b[43mapply_signature\u001b[49m\u001b[43m(\u001b[49m\u001b[43mstream_manifest\u001b[49m\u001b[43m,\u001b[49m\u001b[43m \u001b[49m\u001b[38;5;28;43mself\u001b[39;49m\u001b[38;5;241;43m.\u001b[39;49m\u001b[43mvid_info\u001b[49m\u001b[43m,\u001b[49m\u001b[43m \u001b[49m\u001b[38;5;28;43mself\u001b[39;49m\u001b[38;5;241;43m.\u001b[39;49m\u001b[43mjs\u001b[49m\u001b[43m)\u001b[49m\n\u001b[0;32m    182\u001b[0m \u001b[38;5;28;01mexcept\u001b[39;00m exceptions\u001b[38;5;241m.\u001b[39mExtractError:\n\u001b[0;32m    183\u001b[0m     \u001b[38;5;66;03m# To force an update to the js file, we clear the cache and retry\u001b[39;00m\n\u001b[0;32m    184\u001b[0m     \u001b[38;5;28mself\u001b[39m\u001b[38;5;241m.\u001b[39m_js \u001b[38;5;241m=\u001b[39m \u001b[38;5;28;01mNone\u001b[39;00m\n",
      "File \u001b[1;32mc:\\Projects\\LLM-Cookbook\\LLM-venv\\Lib\\site-packages\\pytube\\extract.py:409\u001b[0m, in \u001b[0;36mapply_signature\u001b[1;34m(stream_manifest, vid_info, js)\u001b[0m\n\u001b[0;32m    400\u001b[0m \u001b[38;5;28;01mdef\u001b[39;00m \u001b[38;5;21mapply_signature\u001b[39m(stream_manifest: Dict, vid_info: Dict, js: \u001b[38;5;28mstr\u001b[39m) \u001b[38;5;241m-\u001b[39m\u001b[38;5;241m>\u001b[39m \u001b[38;5;28;01mNone\u001b[39;00m:\n\u001b[0;32m    401\u001b[0m \u001b[38;5;250m    \u001b[39m\u001b[38;5;124;03m\"\"\"Apply the decrypted signature to the stream manifest.\u001b[39;00m\n\u001b[0;32m    402\u001b[0m \n\u001b[0;32m    403\u001b[0m \u001b[38;5;124;03m    :param dict stream_manifest:\u001b[39;00m\n\u001b[1;32m   (...)\u001b[0m\n\u001b[0;32m    407\u001b[0m \n\u001b[0;32m    408\u001b[0m \u001b[38;5;124;03m    \"\"\"\u001b[39;00m\n\u001b[1;32m--> 409\u001b[0m     cipher \u001b[38;5;241m=\u001b[39m \u001b[43mCipher\u001b[49m\u001b[43m(\u001b[49m\u001b[43mjs\u001b[49m\u001b[38;5;241;43m=\u001b[39;49m\u001b[43mjs\u001b[49m\u001b[43m)\u001b[49m\n\u001b[0;32m    411\u001b[0m     \u001b[38;5;28;01mfor\u001b[39;00m i, stream \u001b[38;5;129;01min\u001b[39;00m \u001b[38;5;28menumerate\u001b[39m(stream_manifest):\n\u001b[0;32m    412\u001b[0m         \u001b[38;5;28;01mtry\u001b[39;00m:\n",
      "File \u001b[1;32mc:\\Projects\\LLM-Cookbook\\LLM-venv\\Lib\\site-packages\\pytube\\cipher.py:29\u001b[0m, in \u001b[0;36mCipher.__init__\u001b[1;34m(self, js)\u001b[0m\n\u001b[0;32m     28\u001b[0m \u001b[38;5;28;01mdef\u001b[39;00m \u001b[38;5;21m__init__\u001b[39m(\u001b[38;5;28mself\u001b[39m, js: \u001b[38;5;28mstr\u001b[39m):\n\u001b[1;32m---> 29\u001b[0m     \u001b[38;5;28mself\u001b[39m\u001b[38;5;241m.\u001b[39mtransform_plan: List[\u001b[38;5;28mstr\u001b[39m] \u001b[38;5;241m=\u001b[39m \u001b[43mget_transform_plan\u001b[49m\u001b[43m(\u001b[49m\u001b[43mjs\u001b[49m\u001b[43m)\u001b[49m\n\u001b[0;32m     30\u001b[0m     var_regex \u001b[38;5;241m=\u001b[39m re\u001b[38;5;241m.\u001b[39mcompile(\u001b[38;5;124mr\u001b[39m\u001b[38;5;124m\"\u001b[39m\u001b[38;5;124m^\u001b[39m\u001b[38;5;124m\\\u001b[39m\u001b[38;5;124mw+\u001b[39m\u001b[38;5;124m\\\u001b[39m\u001b[38;5;124mW\u001b[39m\u001b[38;5;124m\"\u001b[39m)\n\u001b[0;32m     31\u001b[0m     var_match \u001b[38;5;241m=\u001b[39m var_regex\u001b[38;5;241m.\u001b[39msearch(\u001b[38;5;28mself\u001b[39m\u001b[38;5;241m.\u001b[39mtransform_plan[\u001b[38;5;241m0\u001b[39m])\n",
      "File \u001b[1;32mc:\\Projects\\LLM-Cookbook\\LLM-venv\\Lib\\site-packages\\pytube\\cipher.py:194\u001b[0m, in \u001b[0;36mget_transform_plan\u001b[1;34m(js)\u001b[0m\n\u001b[0;32m    174\u001b[0m \u001b[38;5;28;01mdef\u001b[39;00m \u001b[38;5;21mget_transform_plan\u001b[39m(js: \u001b[38;5;28mstr\u001b[39m) \u001b[38;5;241m-\u001b[39m\u001b[38;5;241m>\u001b[39m List[\u001b[38;5;28mstr\u001b[39m]:\n\u001b[0;32m    175\u001b[0m \u001b[38;5;250m    \u001b[39m\u001b[38;5;124;03m\"\"\"Extract the \"transform plan\".\u001b[39;00m\n\u001b[0;32m    176\u001b[0m \n\u001b[0;32m    177\u001b[0m \u001b[38;5;124;03m    The \"transform plan\" is the functions that the ciphered signature is\u001b[39;00m\n\u001b[1;32m   (...)\u001b[0m\n\u001b[0;32m    192\u001b[0m \u001b[38;5;124;03m    'DE.kT(a,21)']\u001b[39;00m\n\u001b[0;32m    193\u001b[0m \u001b[38;5;124;03m    \"\"\"\u001b[39;00m\n\u001b[1;32m--> 194\u001b[0m     name \u001b[38;5;241m=\u001b[39m re\u001b[38;5;241m.\u001b[39mescape(\u001b[43mget_initial_function_name\u001b[49m\u001b[43m(\u001b[49m\u001b[43mjs\u001b[49m\u001b[43m)\u001b[49m)\n\u001b[0;32m    195\u001b[0m     pattern \u001b[38;5;241m=\u001b[39m \u001b[38;5;124mr\u001b[39m\u001b[38;5;124m\"\u001b[39m\u001b[38;5;132;01m%s\u001b[39;00m\u001b[38;5;124m=function\u001b[39m\u001b[38;5;124m\\\u001b[39m\u001b[38;5;124m(\u001b[39m\u001b[38;5;124m\\\u001b[39m\u001b[38;5;124mw\u001b[39m\u001b[38;5;124m\\\u001b[39m\u001b[38;5;124m)\u001b[39m\u001b[38;5;124m{\u001b[39m\u001b[38;5;124m[a-z=\u001b[39m\u001b[38;5;124m\\\u001b[39m\u001b[38;5;124m.\u001b[39m\u001b[38;5;124m\\\u001b[39m\u001b[38;5;124m(\u001b[39m\u001b[38;5;130;01m\\\"\u001b[39;00m\u001b[38;5;124m\\\u001b[39m\u001b[38;5;124m)]*;(.*);(?:.+)}\u001b[39m\u001b[38;5;124m\"\u001b[39m \u001b[38;5;241m%\u001b[39m name\n\u001b[0;32m    196\u001b[0m     logger\u001b[38;5;241m.\u001b[39mdebug(\u001b[38;5;124m\"\u001b[39m\u001b[38;5;124mgetting transform plan\u001b[39m\u001b[38;5;124m\"\u001b[39m)\n",
      "File \u001b[1;32mc:\\Projects\\LLM-Cookbook\\LLM-venv\\Lib\\site-packages\\pytube\\cipher.py:165\u001b[0m, in \u001b[0;36mget_initial_function_name\u001b[1;34m(js)\u001b[0m\n\u001b[0;32m    163\u001b[0m regex \u001b[38;5;241m=\u001b[39m re\u001b[38;5;241m.\u001b[39mcompile(pattern)\n\u001b[0;32m    164\u001b[0m function_match \u001b[38;5;241m=\u001b[39m regex\u001b[38;5;241m.\u001b[39msearch(js)\n\u001b[1;32m--> 165\u001b[0m \u001b[38;5;28;01mif\u001b[39;00m function_match:\n\u001b[0;32m    166\u001b[0m     logger\u001b[38;5;241m.\u001b[39mdebug(\u001b[38;5;124m\"\u001b[39m\u001b[38;5;124mfinished regex search, matched: \u001b[39m\u001b[38;5;132;01m%s\u001b[39;00m\u001b[38;5;124m\"\u001b[39m, pattern)\n\u001b[0;32m    167\u001b[0m     \u001b[38;5;28;01mreturn\u001b[39;00m function_match\u001b[38;5;241m.\u001b[39mgroup(\u001b[38;5;241m1\u001b[39m)\n",
      "\u001b[1;31mKeyboardInterrupt\u001b[0m: "
     ]
    }
   ],
   "source": [
    "import os\n",
    "import json\n",
    "from pytube import YouTube\n",
    "import re\n",
    "\n",
    "def remove_special_characters(input_string):\n",
    "    # Using regex to keep only alphanumeric characters and spaces\n",
    "    clean_string = re.sub(r'[^a-zA-Z0-9\\s]', '', input_string)\n",
    "    return clean_string\n",
    "\n",
    "def download_video_info(video_url, output_directory='downloads'):\n",
    "    try:\n",
    "        # Create a YouTube object\n",
    "        yt = YouTube(video_url)\n",
    "\n",
    "        # Create a directory for downloads if it doesn't exist\n",
    "        if not os.path.exists(output_directory):\n",
    "            os.makedirs(output_directory)\n",
    "\n",
    "        # Get the highest resolution audio stream\n",
    "        audio_stream = yt.streams.filter(only_audio=True).first()\n",
    "\n",
    "        # Download the audio stream\n",
    "        \n",
    "        file_name = remove_special_characters(yt.title)\n",
    "        file_name = file_name.replace(\" \",\"_\")\n",
    "        file_name = file_name.replace(\"…\",\"_\")\n",
    "        file_name = file_name.replace(\",\",\"_\")\n",
    "        \n",
    "        audio_stream.download(output_directory,filename=f'{file_name}.wav')\n",
    "        audio_path = os.path.join(f\"{output_directory}/{file_name}.wav\")\n",
    "        print(f\"Downloading audio to {audio_path}...\")\n",
    "\n",
    "        # Collect video information\n",
    "        video_info = {\n",
    "            'title': yt.title,\n",
    "            'duration': yt.length,\n",
    "            'author': yt.author,\n",
    "            'views': yt.views,\n",
    "            'description': yt.description,\n",
    "            'audio_path': audio_path\n",
    "        }\n",
    "\n",
    "        return video_info\n",
    "\n",
    "    except Exception as e:\n",
    "        print(f\"An error occurred: {str(e)}\")\n",
    "        return None\n",
    "\n",
    "def process_video_links(file_path):\n",
    "    with open(file_path, 'r') as file:\n",
    "        video_links = file.readlines()\n",
    "\n",
    "    video_data_list = []\n",
    "    \n",
    "    # video_links = [\"https://www.youtube.com/watch?v=CgruI1RjH_c\"]\n",
    "\n",
    "    for video_link in video_links:\n",
    "        video_link = video_link.strip()\n",
    "        video_info = download_video_info(video_link)\n",
    "        \n",
    "        if video_info:\n",
    "            video_data_list.append(video_info)\n",
    "\n",
    "    # Save video data to a JSON file\n",
    "    output_json_path = 'video_data.json'\n",
    "    with open(output_json_path, 'w') as json_file:\n",
    "        json.dump(video_data_list, json_file, indent=2)\n",
    "\n",
    "    print(f'Video data saved to {output_json_path}')\n",
    "\n",
    "# Replace 'YOUR_TEXT_FILE_PATH' with the path to your text file containing video links\n",
    "text_file_path = \"./downloads/Fireship_clone/@Fireship-shorts.txt\"\n",
    "\n",
    "# Process video links and save data to JSON\n",
    "process_video_links(text_file_path)"
   ]
  },
  {
   "cell_type": "markdown",
   "metadata": {},
   "source": [
    "## Testing Audio Transcription api"
   ]
  },
  {
   "cell_type": "code",
   "execution_count": 2,
   "metadata": {},
   "outputs": [],
   "source": [
    "import json\n",
    "from deepgram import DeepgramClient, PrerecordedOptions\n",
    "\n",
    "def transcribe_audio(audio_file_path):\n",
    "\n",
    "    # Your Deepgram API Key\n",
    "    DEEPGRAM_API_KEY = '7bd6cbddac3ef5b7b8e14b14072d9d978af15e73'\n",
    "\n",
    "    # Initialize the Deepgram SDK\n",
    "    deepgram = DeepgramClient(DEEPGRAM_API_KEY)\n",
    "\n",
    "    # Call the transcribe_file method on the prerecorded class\n",
    "    with open(audio_file_path, \"rb\") as file:\n",
    "        buffer_data = file.read()\n",
    "\n",
    "    payload = {\n",
    "        \"buffer\": buffer_data,\n",
    "    }\n",
    "\n",
    "    options = PrerecordedOptions(\n",
    "        model=\"nova-2\",\n",
    "        language=\"en\",\n",
    "        smart_format=True,\n",
    "        punctuate=True,\n",
    "        paragraphs=True,\n",
    "        diarize=True,\n",
    "        summarize=\"v2\",\n",
    "        detect_topics=True,\n",
    "        filler_words=True,\n",
    "    )\n",
    "\n",
    "    file_response = deepgram.listen.prerecorded.v(\"1\").transcribe_file(payload, options)\n",
    "    file_response = file_response.to_json()\n",
    "\n",
    "    json_final = json.loads(file_response)\n",
    "\n",
    "    with open(f\"test.json\", \"w\") as file:\n",
    "        json.dump(json_final, file, indent=4)\n",
    "        \n",
    "    return json_final\n",
    "    \n",
    "\n",
    "# # Example usage:\n",
    "# audio_file_path = \"./downloads/Fireship_clone/100+_Computer_Science_Concepts_Explained.wav\"\n",
    "# transcribe_audio(audio_file_path)\n",
    "# print(\"Transcribing completed successfully\")\n"
   ]
  },
  {
   "cell_type": "markdown",
   "metadata": {},
   "source": [
    "## Final function"
   ]
  },
  {
   "cell_type": "code",
   "execution_count": 3,
   "metadata": {},
   "outputs": [
    {
     "name": "stderr",
     "output_type": "stream",
     "text": [
      "Processing videos:   0%|          | 0/100 [00:00<?, ?video/s]"
     ]
    },
    {
     "name": "stdout",
     "output_type": "stream",
     "text": [
      "\n",
      "Downloading and transcribing: https://www.youtube.com/watch?v=5ChkQKUzDCs\n",
      "Downloading audio to downloads\\Big_projects_are_ditching_TypeScript_why.wav...\n",
      "Transcript saved to downloads/Big_projects_are_ditching_TypeScript_why_transcript.json\n"
     ]
    },
    {
     "name": "stderr",
     "output_type": "stream",
     "text": [
      "Processing videos:   1%|          | 1/100 [00:46<1:16:06, 46.12s/video]"
     ]
    },
    {
     "name": "stdout",
     "output_type": "stream",
     "text": [
      "Transcript appended to final_json_transcript_final.json\n",
      "\n",
      "Downloading and transcribing: https://www.youtube.com/watch?v=3Ay6qZ88boI\n",
      "Downloading audio to downloads\\PHP_will_make_you_poor_StackOverflow_2023_Results.wav...\n",
      "Transcript saved to downloads/PHP_will_make_you_poor_StackOverflow_2023_Results_transcript.json\n"
     ]
    },
    {
     "name": "stderr",
     "output_type": "stream",
     "text": [
      "Processing videos:   2%|▏         | 2/100 [01:33<1:16:28, 46.82s/video]"
     ]
    },
    {
     "name": "stdout",
     "output_type": "stream",
     "text": [
      "Transcript appended to final_json_transcript_final.json\n",
      "\n",
      "Downloading and transcribing: https://www.youtube.com/watch?v=Uc6lM1Aig9c\n",
      "Downloading audio to downloads\\Apple_makes_risky_bet_on_VRAR_future.wav...\n",
      "Transcript saved to downloads/Apple_makes_risky_bet_on_VRAR_future_transcript.json\n"
     ]
    },
    {
     "name": "stderr",
     "output_type": "stream",
     "text": [
      "Processing videos:   3%|▎         | 3/100 [02:23<1:17:55, 48.20s/video]"
     ]
    },
    {
     "name": "stdout",
     "output_type": "stream",
     "text": [
      "Transcript appended to final_json_transcript_final.json\n",
      "\n",
      "Downloading and transcribing: https://www.youtube.com/watch?v=V4qrvoFodmo\n",
      "Downloading audio to downloads\\Worldcoin_the_shtcoin_for_humanity_just_launched.wav...\n",
      "Transcript saved to downloads/Worldcoin_the_shtcoin_for_humanity_just_launched_transcript.json\n"
     ]
    },
    {
     "name": "stderr",
     "output_type": "stream",
     "text": [
      "Processing videos:   4%|▍         | 4/100 [03:10<1:16:19, 47.71s/video]"
     ]
    },
    {
     "name": "stdout",
     "output_type": "stream",
     "text": [
      "Transcript appended to final_json_transcript_final.json\n",
      "\n",
      "Downloading and transcribing: https://www.youtube.com/watch?v=4_MDP6TcHwU\n",
      "Downloading audio to downloads\\Why_did_my_sidehustle_fail_How_to_validate_business_ideas.wav...\n",
      "Transcript saved to downloads/Why_did_my_sidehustle_fail_How_to_validate_business_ideas_transcript.json\n"
     ]
    },
    {
     "name": "stderr",
     "output_type": "stream",
     "text": [
      "Processing videos:   5%|▌         | 5/100 [04:01<1:17:46, 49.12s/video]"
     ]
    },
    {
     "name": "stdout",
     "output_type": "stream",
     "text": [
      "Transcript appended to final_json_transcript_final.json\n",
      "\n",
      "Downloading and transcribing: https://www.youtube.com/watch?v=nmfRDRNjCnM\n",
      "Downloading audio to downloads\\10_crazy_announcements_from_Google_IO.wav...\n",
      "Transcript saved to downloads/10_crazy_announcements_from_Google_IO_transcript.json\n"
     ]
    },
    {
     "name": "stderr",
     "output_type": "stream",
     "text": [
      "Processing videos:   6%|▌         | 6/100 [04:50<1:16:26, 48.79s/video]"
     ]
    },
    {
     "name": "stdout",
     "output_type": "stream",
     "text": [
      "Transcript appended to final_json_transcript_final.json\n",
      "\n",
      "Downloading and transcribing: https://www.youtube.com/watch?v=LkrI3erbUtw\n"
     ]
    },
    {
     "name": "stderr",
     "output_type": "stream",
     "text": [
      "Processing videos:   7%|▋         | 7/100 [04:51<51:40, 33.34s/video]  "
     ]
    },
    {
     "name": "stdout",
     "output_type": "stream",
     "text": [
      "An error occurred: LkrI3erbUtw is age restricted, and can't be accessed without logging in.\n",
      "\n",
      "Downloading and transcribing: https://www.youtube.com/watch?v=FJACTC9wFhU\n",
      "Downloading audio to downloads\\AWS_CodeWhisperer_The_Copilot_Killer.wav...\n",
      "Transcript saved to downloads/AWS_CodeWhisperer_The_Copilot_Killer_transcript.json\n"
     ]
    },
    {
     "name": "stderr",
     "output_type": "stream",
     "text": [
      "Processing videos:   8%|▊         | 8/100 [05:39<58:14, 37.98s/video]"
     ]
    },
    {
     "name": "stdout",
     "output_type": "stream",
     "text": [
      "Transcript appended to final_json_transcript_final.json\n",
      "\n",
      "Downloading and transcribing: https://www.youtube.com/watch?v=klTvEwg3oJ4\n",
      "Downloading audio to downloads\\Vector_databases_are_so_hot_right_now_WTF_are_they.wav...\n",
      "Transcript saved to downloads/Vector_databases_are_so_hot_right_now_WTF_are_they_transcript.json\n"
     ]
    },
    {
     "name": "stderr",
     "output_type": "stream",
     "text": [
      "Processing videos:   9%|▉         | 9/100 [06:25<1:01:14, 40.38s/video]"
     ]
    },
    {
     "name": "stdout",
     "output_type": "stream",
     "text": [
      "Transcript appended to final_json_transcript_final.json\n",
      "\n",
      "Downloading and transcribing: https://www.youtube.com/watch?v=GXN34w8kju4\n",
      "Downloading audio to downloads\\Twitter_algorithm_opensourced_Is_Elon_playing_5D_chess.wav...\n",
      "Transcript saved to downloads/Twitter_algorithm_opensourced_Is_Elon_playing_5D_chess_transcript.json\n"
     ]
    },
    {
     "name": "stderr",
     "output_type": "stream",
     "text": [
      "Processing videos:  10%|█         | 10/100 [07:12<1:04:01, 42.68s/video]"
     ]
    },
    {
     "name": "stdout",
     "output_type": "stream",
     "text": [
      "Transcript appended to final_json_transcript_final.json\n",
      "\n",
      "Downloading and transcribing: https://www.youtube.com/watch?v=xW9DJTvB3NI\n",
      "Downloading audio to downloads\\Google_Bard_the_ChatGPT_killer.wav...\n",
      "Transcript saved to downloads/Google_Bard_the_ChatGPT_killer_transcript.json\n"
     ]
    },
    {
     "name": "stderr",
     "output_type": "stream",
     "text": [
      "Processing videos:  11%|█         | 11/100 [08:00<1:05:43, 44.31s/video]"
     ]
    },
    {
     "name": "stdout",
     "output_type": "stream",
     "text": [
      "Transcript appended to final_json_transcript_final.json\n",
      "\n",
      "Downloading and transcribing: https://www.youtube.com/watch?v=66tfvFeALBQ\n"
     ]
    },
    {
     "name": "stderr",
     "output_type": "stream",
     "text": [
      "Processing videos:  12%|█▏        | 12/100 [08:02<45:49, 31.25s/video]  "
     ]
    },
    {
     "name": "stdout",
     "output_type": "stream",
     "text": [
      "An error occurred: 66tfvFeALBQ is age restricted, and can't be accessed without logging in.\n",
      "\n",
      "Downloading and transcribing: https://www.youtube.com/watch?v=gUYBFDPZ5qk\n",
      "Downloading audio to downloads\\I_built_a_5_chat_app_with_Pocketbase__Svelte_Will_it_scale.wav...\n",
      "Transcript saved to downloads/I_built_a_5_chat_app_with_Pocketbase__Svelte_Will_it_scale_transcript.json\n"
     ]
    },
    {
     "name": "stderr",
     "output_type": "stream",
     "text": [
      "Processing videos:  13%|█▎        | 13/100 [08:57<55:53, 38.55s/video]"
     ]
    },
    {
     "name": "stdout",
     "output_type": "stream",
     "text": [
      "Transcript appended to final_json_transcript_final.json\n",
      "\n",
      "Downloading and transcribing: https://www.youtube.com/watch?v=eaedq1Jl2fc\n",
      "Downloading audio to downloads\\What_will_AI_Programming_look_like_in_5_Years.wav...\n",
      "Transcript saved to downloads/What_will_AI_Programming_look_like_in_5_Years_transcript.json\n"
     ]
    },
    {
     "name": "stderr",
     "output_type": "stream",
     "text": [
      "Processing videos:  14%|█▍        | 14/100 [09:43<58:33, 40.86s/video]"
     ]
    },
    {
     "name": "stdout",
     "output_type": "stream",
     "text": [
      "Transcript appended to final_json_transcript_final.json\n",
      "\n",
      "Downloading and transcribing: https://www.youtube.com/watch?v=2pfcynxODJc\n",
      "Downloading audio to downloads\\Is_FAANG_fked.wav...\n",
      "Transcript saved to downloads/Is_FAANG_fked_transcript.json\n"
     ]
    },
    {
     "name": "stderr",
     "output_type": "stream",
     "text": [
      "Processing videos:  15%|█▌        | 15/100 [10:27<59:01, 41.67s/video]"
     ]
    },
    {
     "name": "stdout",
     "output_type": "stream",
     "text": [
      "Transcript appended to final_json_transcript_final.json\n",
      "\n",
      "Downloading and transcribing: https://www.youtube.com/watch?v=Zs9Tifup1Bc\n",
      "Downloading audio to downloads\\Is_coding_really_dead_6_trends_that_look_bad.wav...\n",
      "Transcript saved to downloads/Is_coding_really_dead_6_trends_that_look_bad_transcript.json\n"
     ]
    },
    {
     "name": "stderr",
     "output_type": "stream",
     "text": [
      "Processing videos:  16%|█▌        | 16/100 [11:14<1:00:48, 43.43s/video]"
     ]
    },
    {
     "name": "stdout",
     "output_type": "stream",
     "text": [
      "Transcript appended to final_json_transcript_final.json\n",
      "\n",
      "Downloading and transcribing: https://www.youtube.com/watch?v=x2eF3YLiNhY\n",
      "Downloading audio to downloads\\Qwik_the_worlds_first_O1_JavaScript_framework.wav...\n",
      "Transcript saved to downloads/Qwik_the_worlds_first_O1_JavaScript_framework_transcript.json\n"
     ]
    },
    {
     "name": "stderr",
     "output_type": "stream",
     "text": [
      "Processing videos:  17%|█▋        | 17/100 [11:56<59:19, 42.89s/video]  "
     ]
    },
    {
     "name": "stdout",
     "output_type": "stream",
     "text": [
      "Transcript appended to final_json_transcript_final.json\n",
      "\n",
      "Downloading and transcribing: https://www.youtube.com/watch?v=Wqy3PBEglXQ\n",
      "Downloading audio to downloads\\PocketBase_The_Ultimate_SideHustle_Backend.wav...\n",
      "Transcript saved to downloads/PocketBase_The_Ultimate_SideHustle_Backend_transcript.json\n"
     ]
    },
    {
     "name": "stderr",
     "output_type": "stream",
     "text": [
      "Processing videos:  18%|█▊        | 18/100 [12:40<58:54, 43.11s/video]"
     ]
    },
    {
     "name": "stdout",
     "output_type": "stream",
     "text": [
      "Transcript appended to final_json_transcript_final.json\n",
      "\n",
      "Downloading and transcribing: https://www.youtube.com/watch?v=ciF7WZXmpjU\n",
      "Downloading audio to downloads\\There_aint_no_such_thing_as_a_free_tier.wav...\n",
      "Transcript saved to downloads/There_aint_no_such_thing_as_a_free_tier_transcript.json\n"
     ]
    },
    {
     "name": "stderr",
     "output_type": "stream",
     "text": [
      "Processing videos:  19%|█▉        | 19/100 [13:24<58:39, 43.45s/video]"
     ]
    },
    {
     "name": "stdout",
     "output_type": "stream",
     "text": [
      "Transcript appended to final_json_transcript_final.json\n",
      "\n",
      "Downloading and transcribing: https://www.youtube.com/watch?v=gxBkghlglTg\n",
      "Downloading audio to downloads\\Astro_just_Launched_Could_it_be_the_ultimate_web_framework.wav...\n",
      "Transcript saved to downloads/Astro_just_Launched_Could_it_be_the_ultimate_web_framework_transcript.json\n"
     ]
    },
    {
     "name": "stderr",
     "output_type": "stream",
     "text": [
      "Processing videos:  20%|██        | 20/100 [14:07<57:52, 43.41s/video]"
     ]
    },
    {
     "name": "stdout",
     "output_type": "stream",
     "text": [
      "Transcript appended to final_json_transcript_final.json\n",
      "\n",
      "Downloading and transcribing: https://www.youtube.com/watch?v=-bHK0qmp06c\n",
      "Downloading audio to downloads\\Carbon_Lang_The_C_killer.wav...\n",
      "Transcript saved to downloads/Carbon_Lang_The_C_killer_transcript.json\n"
     ]
    },
    {
     "name": "stderr",
     "output_type": "stream",
     "text": [
      "Processing videos:  21%|██        | 21/100 [14:51<57:17, 43.51s/video]"
     ]
    },
    {
     "name": "stdout",
     "output_type": "stream",
     "text": [
      "Transcript appended to final_json_transcript_final.json\n",
      "\n",
      "Downloading and transcribing: https://www.youtube.com/watch?v=yOP5-3_WFus\n",
      "Downloading audio to downloads\\Is_edge_computing_really_faster.wav...\n",
      "Transcript saved to downloads/Is_edge_computing_really_faster_transcript.json\n"
     ]
    },
    {
     "name": "stderr",
     "output_type": "stream",
     "text": [
      "Processing videos:  22%|██▏       | 22/100 [15:40<58:31, 45.02s/video]"
     ]
    },
    {
     "name": "stdout",
     "output_type": "stream",
     "text": [
      "Transcript appended to final_json_transcript_final.json\n",
      "\n",
      "Downloading and transcribing: https://www.youtube.com/watch?v=HDZWWFSZUF0\n",
      "Downloading audio to downloads\\Web5_The_Web3_Killer.wav...\n",
      "Transcript saved to downloads/Web5_The_Web3_Killer_transcript.json\n"
     ]
    },
    {
     "name": "stderr",
     "output_type": "stream",
     "text": [
      "Processing videos:  23%|██▎       | 23/100 [16:24<57:31, 44.82s/video]"
     ]
    },
    {
     "name": "stdout",
     "output_type": "stream",
     "text": [
      "Transcript appended to final_json_transcript_final.json\n",
      "\n",
      "Downloading and transcribing: https://www.youtube.com/watch?v=g-_hVXzkn0o\n",
      "Downloading audio to downloads\\Is_the_tech_bubble_bursting_right_now.wav...\n",
      "Transcript saved to downloads/Is_the_tech_bubble_bursting_right_now_transcript.json\n"
     ]
    },
    {
     "name": "stderr",
     "output_type": "stream",
     "text": [
      "Processing videos:  24%|██▍       | 24/100 [17:08<56:20, 44.49s/video]"
     ]
    },
    {
     "name": "stdout",
     "output_type": "stream",
     "text": [
      "Transcript appended to final_json_transcript_final.json\n",
      "\n",
      "Downloading and transcribing: https://www.youtube.com/watch?v=noq-ZHTD2Cg\n",
      "Downloading audio to downloads\\The_Nuxt_big_thing_in_web_development.wav...\n",
      "Transcript saved to downloads/The_Nuxt_big_thing_in_web_development_transcript.json\n"
     ]
    },
    {
     "name": "stderr",
     "output_type": "stream",
     "text": [
      "Processing videos:  25%|██▌       | 25/100 [17:52<55:31, 44.41s/video]"
     ]
    },
    {
     "name": "stdout",
     "output_type": "stream",
     "text": [
      "Transcript appended to final_json_transcript_final.json\n",
      "\n",
      "Downloading and transcribing: https://www.youtube.com/watch?v=UgIwjLg4ONk\n",
      "Downloading audio to downloads\\The_Parallax_Effect__5_Minute_WebDev_Project.wav...\n",
      "Transcript saved to downloads/The_Parallax_Effect__5_Minute_WebDev_Project_transcript.json\n"
     ]
    },
    {
     "name": "stderr",
     "output_type": "stream",
     "text": [
      "Processing videos:  26%|██▌       | 26/100 [18:35<54:17, 44.02s/video]"
     ]
    },
    {
     "name": "stdout",
     "output_type": "stream",
     "text": [
      "Transcript appended to final_json_transcript_final.json\n",
      "\n",
      "Downloading and transcribing: https://www.youtube.com/watch?v=iMVgvkVJuDI\n",
      "Downloading audio to downloads\\Time_a_programmers_worst_enemy__The_Code_Report.wav...\n",
      "Transcript saved to downloads/Time_a_programmers_worst_enemy__The_Code_Report_transcript.json\n"
     ]
    },
    {
     "name": "stderr",
     "output_type": "stream",
     "text": [
      "Processing videos:  27%|██▋       | 27/100 [19:18<53:14, 43.76s/video]"
     ]
    },
    {
     "name": "stdout",
     "output_type": "stream",
     "text": [
      "Transcript appended to final_json_transcript_final.json\n",
      "\n",
      "Downloading and transcribing: https://www.youtube.com/watch?v=O9F4K804XC8\n",
      "Downloading audio to downloads\\A_heroic_new_proposal_for_JavaScript__The_Code_Report.wav...\n",
      "Transcript saved to downloads/A_heroic_new_proposal_for_JavaScript__The_Code_Report_transcript.json\n"
     ]
    },
    {
     "name": "stderr",
     "output_type": "stream",
     "text": [
      "Processing videos:  28%|██▊       | 28/100 [19:59<51:36, 43.01s/video]"
     ]
    },
    {
     "name": "stdout",
     "output_type": "stream",
     "text": [
      "Transcript appended to final_json_transcript_final.json\n",
      "\n",
      "Downloading and transcribing: https://www.youtube.com/watch?v=deg8bOoziaE\n",
      "Downloading audio to downloads\\This_video_was_made_with_code_But_how.wav...\n",
      "Transcript saved to downloads/This_video_was_made_with_code_But_how_transcript.json\n"
     ]
    },
    {
     "name": "stderr",
     "output_type": "stream",
     "text": [
      "Processing videos:  29%|██▉       | 29/100 [20:45<51:52, 43.84s/video]"
     ]
    },
    {
     "name": "stdout",
     "output_type": "stream",
     "text": [
      "Transcript appended to final_json_transcript_final.json\n",
      "\n",
      "Downloading and transcribing: https://www.youtube.com/watch?v=3OqQhtLwY9o\n",
      "Downloading audio to downloads\\I_feel_cyber_attacked__The_Code_Report.wav...\n",
      "Transcript saved to downloads/I_feel_cyber_attacked__The_Code_Report_transcript.json\n"
     ]
    },
    {
     "name": "stderr",
     "output_type": "stream",
     "text": [
      "Processing videos:  30%|███       | 30/100 [21:28<50:50, 43.58s/video]"
     ]
    },
    {
     "name": "stdout",
     "output_type": "stream",
     "text": [
      "Transcript appended to final_json_transcript_final.json\n",
      "\n",
      "Downloading and transcribing: https://www.youtube.com/watch?v=1L2hrG-7i2Y\n",
      "Downloading audio to downloads\\The_Shocking_State_of_JavaScript__The_Code_Report.wav...\n",
      "Transcript saved to downloads/The_Shocking_State_of_JavaScript__The_Code_Report_transcript.json\n"
     ]
    },
    {
     "name": "stderr",
     "output_type": "stream",
     "text": [
      "Processing videos:  31%|███       | 31/100 [22:10<49:39, 43.18s/video]"
     ]
    },
    {
     "name": "stdout",
     "output_type": "stream",
     "text": [
      "Transcript appended to final_json_transcript_final.json\n",
      "\n",
      "Downloading and transcribing: https://www.youtube.com/watch?v=KPyeJ5J2a7A\n",
      "Downloading audio to downloads\\What_happens_if_you_hack_45_billion_BTC__The_Code_Report.wav...\n",
      "Transcript saved to downloads/What_happens_if_you_hack_45_billion_BTC__The_Code_Report_transcript.json\n"
     ]
    },
    {
     "name": "stderr",
     "output_type": "stream",
     "text": [
      "Processing videos:  32%|███▏      | 32/100 [22:53<48:46, 43.03s/video]"
     ]
    },
    {
     "name": "stdout",
     "output_type": "stream",
     "text": [
      "Transcript appended to final_json_transcript_final.json\n",
      "\n",
      "Downloading and transcribing: https://www.youtube.com/watch?v=MBqS1kYzwTc\n",
      "Downloading audio to downloads\\BIG_new_feature_lands_in_Nodejs__The_Code_Report.wav...\n",
      "Transcript saved to downloads/BIG_new_feature_lands_in_Nodejs__The_Code_Report_transcript.json\n"
     ]
    },
    {
     "name": "stderr",
     "output_type": "stream",
     "text": [
      "Processing videos:  33%|███▎      | 33/100 [23:38<48:43, 43.63s/video]"
     ]
    },
    {
     "name": "stdout",
     "output_type": "stream",
     "text": [
      "Transcript appended to final_json_transcript_final.json\n",
      "\n",
      "Downloading and transcribing: https://www.youtube.com/watch?v=V7LEihbOv3Y\n",
      "Downloading audio to downloads\\How_I_post_banger_tweets_with_artificial_intelligence__Twitter_Bot_Tutorial.wav...\n",
      "Transcript saved to downloads/How_I_post_banger_tweets_with_artificial_intelligence__Twitter_Bot_Tutorial_transcript.json\n"
     ]
    },
    {
     "name": "stderr",
     "output_type": "stream",
     "text": [
      "Processing videos:  34%|███▍      | 34/100 [24:26<49:24, 44.92s/video]"
     ]
    },
    {
     "name": "stdout",
     "output_type": "stream",
     "text": [
      "Transcript appended to final_json_transcript_final.json\n",
      "\n",
      "Downloading and transcribing: https://www.youtube.com/watch?v=bJUl3OAIT0k\n",
      "Downloading audio to downloads\\How_a_CS_student_tracks_Elons_Private_Jet_with_Python__The_Code_Report.wav...\n",
      "Transcript saved to downloads/How_a_CS_student_tracks_Elons_Private_Jet_with_Python__The_Code_Report_transcript.json\n"
     ]
    },
    {
     "name": "stderr",
     "output_type": "stream",
     "text": [
      "Processing videos:  35%|███▌      | 35/100 [25:11<48:38, 44.90s/video]"
     ]
    },
    {
     "name": "stdout",
     "output_type": "stream",
     "text": [
      "Transcript appended to final_json_transcript_final.json\n",
      "\n",
      "Downloading and transcribing: https://www.youtube.com/watch?v=_oHByo8tiEY\n",
      "Downloading audio to downloads\\I_created_a_Command_Line_Game_for_you__5Minute_Nodejs_CLI_Project.wav...\n",
      "Transcript saved to downloads/I_created_a_Command_Line_Game_for_you__5Minute_Nodejs_CLI_Project_transcript.json\n"
     ]
    },
    {
     "name": "stderr",
     "output_type": "stream",
     "text": [
      "Processing videos:  36%|███▌      | 36/100 [26:00<49:19, 46.25s/video]"
     ]
    },
    {
     "name": "stdout",
     "output_type": "stream",
     "text": [
      "Transcript appended to final_json_transcript_final.json\n",
      "\n",
      "Downloading and transcribing: https://www.youtube.com/watch?v=BrcugNqRwUs\n",
      "Downloading audio to downloads\\How_to_buy_Stocks_with_JavaScript__Algo_Trading_Tutorial_for_Dummies.wav...\n",
      "Transcript saved to downloads/How_to_buy_Stocks_with_JavaScript__Algo_Trading_Tutorial_for_Dummies_transcript.json\n"
     ]
    },
    {
     "name": "stderr",
     "output_type": "stream",
     "text": [
      "Processing videos:  37%|███▋      | 37/100 [26:49<49:21, 47.01s/video]"
     ]
    },
    {
     "name": "stdout",
     "output_type": "stream",
     "text": [
      "Transcript appended to final_json_transcript_final.json\n",
      "\n",
      "Downloading and transcribing: https://www.youtube.com/watch?v=Xg9ihH15Uto\n",
      "Downloading audio to downloads\\How_to_Land_a_100Kyr_Tech_Job__10_Strategies.wav...\n",
      "Transcript saved to downloads/How_to_Land_a_100Kyr_Tech_Job__10_Strategies_transcript.json\n"
     ]
    },
    {
     "name": "stderr",
     "output_type": "stream",
     "text": [
      "Processing videos:  38%|███▊      | 38/100 [27:40<49:49, 48.22s/video]"
     ]
    },
    {
     "name": "stdout",
     "output_type": "stream",
     "text": [
      "Transcript appended to final_json_transcript_final.json\n",
      "\n",
      "Downloading and transcribing: https://www.youtube.com/watch?v=meTpMP0J5E8\n",
      "Downloading audio to downloads\\Build_a_WEB3_app_to_mint_unlimited_NFTs_But_should_you.wav...\n",
      "Transcript saved to downloads/Build_a_WEB3_app_to_mint_unlimited_NFTs_But_should_you_transcript.json\n"
     ]
    },
    {
     "name": "stderr",
     "output_type": "stream",
     "text": [
      "Processing videos:  39%|███▉      | 39/100 [28:40<52:40, 51.81s/video]"
     ]
    },
    {
     "name": "stdout",
     "output_type": "stream",
     "text": [
      "Transcript appended to final_json_transcript_final.json\n",
      "\n",
      "Downloading and transcribing: https://www.youtube.com/watch?v=DOIWQddRD5M\n",
      "Downloading audio to downloads\\Is_Redis_the_ONLY_database_you_need__Fullstack_app_from_scratch_with_Nextjs__Redis.wav...\n",
      "Transcript saved to downloads/Is_Redis_the_ONLY_database_you_need__Fullstack_app_from_scratch_with_Nextjs__Redis_transcript.json\n"
     ]
    },
    {
     "name": "stderr",
     "output_type": "stream",
     "text": [
      "Processing videos:  40%|████      | 40/100 [29:31<51:22, 51.37s/video]"
     ]
    },
    {
     "name": "stdout",
     "output_type": "stream",
     "text": [
      "Transcript appended to final_json_transcript_final.json\n",
      "\n",
      "Downloading and transcribing: https://www.youtube.com/watch?v=R6S-b_k-ZKY\n",
      "Downloading audio to downloads\\The_Dark_Side_of_Open_Source__What_really_happened_to_Fakerjs.wav...\n",
      "Transcript saved to downloads/The_Dark_Side_of_Open_Source__What_really_happened_to_Fakerjs_transcript.json\n"
     ]
    },
    {
     "name": "stderr",
     "output_type": "stream",
     "text": [
      "Processing videos:  41%|████      | 41/100 [30:12<47:41, 48.50s/video]"
     ]
    },
    {
     "name": "stdout",
     "output_type": "stream",
     "text": [
      "Transcript appended to final_json_transcript_final.json\n",
      "\n",
      "Downloading and transcribing: https://www.youtube.com/watch?v=9iU_IE6vnJ8\n",
      "Downloading audio to downloads\\Monorepos__How_the_Pros_Scale_Huge_Software_Projects__Turborepo_vs_Nx.wav...\n",
      "Transcript saved to downloads/Monorepos__How_the_Pros_Scale_Huge_Software_Projects__Turborepo_vs_Nx_transcript.json\n"
     ]
    },
    {
     "name": "stderr",
     "output_type": "stream",
     "text": [
      "Processing videos:  42%|████▏     | 42/100 [31:06<48:17, 49.96s/video]"
     ]
    },
    {
     "name": "stdout",
     "output_type": "stream",
     "text": [
      "Transcript appended to final_json_transcript_final.json\n",
      "\n",
      "Downloading and transcribing: https://www.youtube.com/watch?v=hdHjjBS4cs8\n",
      "Downloading audio to downloads\\Brainfk_in_100_Seconds.wav...\n",
      "Transcript saved to downloads/Brainfk_in_100_Seconds_transcript.json\n"
     ]
    },
    {
     "name": "stderr",
     "output_type": "stream",
     "text": [
      "Processing videos:  43%|████▎     | 43/100 [31:50<45:42, 48.11s/video]"
     ]
    },
    {
     "name": "stdout",
     "output_type": "stream",
     "text": [
      "Transcript appended to final_json_transcript_final.json\n",
      "\n",
      "Downloading and transcribing: https://www.youtube.com/watch?v=wHTcrmhskto\n",
      "Downloading audio to downloads\\Is_Web3_all_Hype_Top_10_Web_30_Questions__Answers.wav...\n",
      "Transcript saved to downloads/Is_Web3_all_Hype_Top_10_Web_30_Questions__Answers_transcript.json\n"
     ]
    },
    {
     "name": "stderr",
     "output_type": "stream",
     "text": [
      "Processing videos:  44%|████▍     | 44/100 [32:39<45:20, 48.58s/video]"
     ]
    },
    {
     "name": "stdout",
     "output_type": "stream",
     "text": [
      "Transcript appended to final_json_transcript_final.json\n",
      "\n",
      "Downloading and transcribing: https://www.youtube.com/watch?v=mAsM9c2sGjA\n",
      "Downloading audio to downloads\\Shopify_built_a_JS_Framework__Hydrogen_First_Look.wav...\n",
      "Transcript saved to downloads/Shopify_built_a_JS_Framework__Hydrogen_First_Look_transcript.json\n"
     ]
    },
    {
     "name": "stderr",
     "output_type": "stream",
     "text": [
      "Processing videos:  45%|████▌     | 45/100 [33:26<44:06, 48.11s/video]"
     ]
    },
    {
     "name": "stdout",
     "output_type": "stream",
     "text": [
      "Transcript appended to final_json_transcript_final.json\n",
      "\n",
      "Downloading and transcribing: https://www.youtube.com/watch?v=pfaSUYaSgRo\n",
      "Downloading audio to downloads\\Ultimate_Tailwind_CSS_Tutorial__Build_a_Discordinspired_Animated_Navbar.wav...\n",
      "Transcript saved to downloads/Ultimate_Tailwind_CSS_Tutorial__Build_a_Discordinspired_Animated_Navbar_transcript.json\n"
     ]
    },
    {
     "name": "stderr",
     "output_type": "stream",
     "text": [
      "Processing videos:  46%|████▌     | 46/100 [34:17<44:05, 48.98s/video]"
     ]
    },
    {
     "name": "stdout",
     "output_type": "stream",
     "text": [
      "Transcript appended to final_json_transcript_final.json\n",
      "\n",
      "Downloading and transcribing: https://www.youtube.com/watch?v=yufqeJLP1rI\n",
      "Downloading audio to downloads\\Auth0_in_100_Seconds__And_beyond_with_a_Nextjs_Authentication_Tutorial.wav...\n",
      "Transcript saved to downloads/Auth0_in_100_Seconds__And_beyond_with_a_Nextjs_Authentication_Tutorial_transcript.json\n"
     ]
    },
    {
     "name": "stderr",
     "output_type": "stream",
     "text": [
      "Processing videos:  47%|████▋     | 47/100 [35:05<42:56, 48.61s/video]"
     ]
    },
    {
     "name": "stdout",
     "output_type": "stream",
     "text": [
      "Transcript appended to final_json_transcript_final.json\n",
      "\n",
      "Downloading and transcribing: https://www.youtube.com/watch?v=Sxxw3qtb3_g\n",
      "Downloading audio to downloads\\How_to_OVER_Engineer_a_Website__What_is_a_Tech_Stack.wav...\n",
      "Transcript saved to downloads/How_to_OVER_Engineer_a_Website__What_is_a_Tech_Stack_transcript.json\n"
     ]
    },
    {
     "name": "stderr",
     "output_type": "stream",
     "text": [
      "Processing videos:  48%|████▊     | 48/100 [35:55<42:34, 49.12s/video]"
     ]
    },
    {
     "name": "stdout",
     "output_type": "stream",
     "text": [
      "Transcript appended to final_json_transcript_final.json\n",
      "\n",
      "Downloading and transcribing: https://www.youtube.com/watch?v=c_8cplBi_gE\n",
      "Downloading audio to downloads\\Content_Platforms_Explained_in_100_Seconds__Build_your_own_with_Sanity.wav...\n",
      "Transcript saved to downloads/Content_Platforms_Explained_in_100_Seconds__Build_your_own_with_Sanity_transcript.json\n"
     ]
    },
    {
     "name": "stderr",
     "output_type": "stream",
     "text": [
      "Processing videos:  49%|████▉     | 49/100 [36:55<44:33, 52.42s/video]"
     ]
    },
    {
     "name": "stdout",
     "output_type": "stream",
     "text": [
      "Transcript appended to final_json_transcript_final.json\n",
      "\n",
      "Downloading and transcribing: https://www.youtube.com/watch?v=cEBkvm0-rg0\n",
      "Downloading audio to downloads\\How_to_Google_It_like_a_Senior_Software_Engineer.wav...\n",
      "Transcript saved to downloads/How_to_Google_It_like_a_Senior_Software_Engineer_transcript.json\n"
     ]
    },
    {
     "name": "stderr",
     "output_type": "stream",
     "text": [
      "Processing videos:  50%|█████     | 50/100 [37:41<42:00, 50.41s/video]"
     ]
    },
    {
     "name": "stdout",
     "output_type": "stream",
     "text": [
      "Transcript appended to final_json_transcript_final.json\n",
      "\n",
      "Downloading and transcribing: https://www.youtube.com/watch?v=SuqU904ZHA4\n",
      "Downloading audio to downloads\\Springy_Animated_Modals__Framer_Motion__React_Tutorial_for_Beginners.wav...\n",
      "Transcript saved to downloads/Springy_Animated_Modals__Framer_Motion__React_Tutorial_for_Beginners_transcript.json\n"
     ]
    },
    {
     "name": "stderr",
     "output_type": "stream",
     "text": [
      "Processing videos:  51%|█████     | 51/100 [38:33<41:25, 50.72s/video]"
     ]
    },
    {
     "name": "stdout",
     "output_type": "stream",
     "text": [
      "Transcript appended to final_json_transcript_final.json\n",
      "\n",
      "Downloading and transcribing: https://www.youtube.com/watch?v=J5x3OMXjgMc\n",
      "Downloading audio to downloads\\I_built_a_decentralized_chat_dapp__GUN_web3_Tutorial.wav...\n",
      "Transcript saved to downloads/I_built_a_decentralized_chat_dapp__GUN_web3_Tutorial_transcript.json\n"
     ]
    },
    {
     "name": "stderr",
     "output_type": "stream",
     "text": [
      "Processing videos:  52%|█████▏    | 52/100 [39:27<41:24, 51.76s/video]"
     ]
    },
    {
     "name": "stdout",
     "output_type": "stream",
     "text": [
      "Transcript appended to final_json_transcript_final.json\n",
      "\n",
      "Downloading and transcribing: https://www.youtube.com/watch?v=lPJVi797Uy0\n",
      "Downloading audio to downloads\\Build_a_Curvaceous_Homepage__Wavy_Background_Tutorial_with_SVG__CSS.wav...\n",
      "Transcript saved to downloads/Build_a_Curvaceous_Homepage__Wavy_Background_Tutorial_with_SVG__CSS_transcript.json\n"
     ]
    },
    {
     "name": "stderr",
     "output_type": "stream",
     "text": [
      "Processing videos:  53%|█████▎    | 53/100 [40:20<40:50, 52.13s/video]"
     ]
    },
    {
     "name": "stdout",
     "output_type": "stream",
     "text": [
      "Transcript appended to final_json_transcript_final.json\n",
      "\n",
      "Downloading and transcribing: https://www.youtube.com/watch?v=cuHDQhDhvPE\n",
      "Downloading audio to downloads\\I_built_the_same_app_10_times__Which_JS_Framework_is_best.wav...\n",
      "Transcript saved to downloads/I_built_the_same_app_10_times__Which_JS_Framework_is_best_transcript.json\n"
     ]
    },
    {
     "name": "stderr",
     "output_type": "stream",
     "text": [
      "Processing videos:  54%|█████▍    | 54/100 [41:17<41:02, 53.53s/video]"
     ]
    },
    {
     "name": "stdout",
     "output_type": "stream",
     "text": [
      "Transcript appended to final_json_transcript_final.json\n",
      "\n",
      "Downloading and transcribing: https://www.youtube.com/watch?v=zd6ffqoK_EU\n",
      "Downloading audio to downloads\\The_Decline_of_Firebase_bundle_sizes__New_JavaScript_SDK_First_Look.wav...\n",
      "Transcript saved to downloads/The_Decline_of_Firebase_bundle_sizes__New_JavaScript_SDK_First_Look_transcript.json\n"
     ]
    },
    {
     "name": "stderr",
     "output_type": "stream",
     "text": [
      "Processing videos:  55%|█████▌    | 55/100 [42:04<38:51, 51.82s/video]"
     ]
    },
    {
     "name": "stdout",
     "output_type": "stream",
     "text": [
      "Transcript appended to final_json_transcript_final.json\n",
      "\n",
      "Downloading and transcribing: https://www.youtube.com/watch?v=4duqI8WyfqE\n",
      "Downloading audio to downloads\\The_Truth_about_Github_Copilot__AI_Programming_First_Look.wav...\n",
      "Transcript saved to downloads/The_Truth_about_Github_Copilot__AI_Programming_First_Look_transcript.json\n"
     ]
    },
    {
     "name": "stderr",
     "output_type": "stream",
     "text": [
      "Processing videos:  56%|█████▌    | 56/100 [42:56<38:02, 51.88s/video]"
     ]
    },
    {
     "name": "stdout",
     "output_type": "stream",
     "text": [
      "Transcript appended to final_json_transcript_final.json\n",
      "\n",
      "Downloading and transcribing: https://www.youtube.com/watch?v=K6Vcfm7TA5U\n",
      "Downloading audio to downloads\\Google_Sheets_Your_Next_Database.wav...\n",
      "Transcript saved to downloads/Google_Sheets_Your_Next_Database_transcript.json\n"
     ]
    },
    {
     "name": "stderr",
     "output_type": "stream",
     "text": [
      "Processing videos:  57%|█████▋    | 57/100 [43:54<38:20, 53.50s/video]"
     ]
    },
    {
     "name": "stdout",
     "output_type": "stream",
     "text": [
      "Transcript appended to final_json_transcript_final.json\n",
      "\n",
      "Downloading and transcribing: https://www.youtube.com/watch?v=7JdcGBSWo50\n",
      "Downloading audio to downloads\\Build_5_Apps_in_5_Minutes_with_Flutter_But_should_you.wav...\n",
      "Transcript saved to downloads/Build_5_Apps_in_5_Minutes_with_Flutter_But_should_you_transcript.json\n"
     ]
    },
    {
     "name": "stderr",
     "output_type": "stream",
     "text": [
      "Processing videos:  58%|█████▊    | 58/100 [44:45<37:01, 52.90s/video]"
     ]
    },
    {
     "name": "stdout",
     "output_type": "stream",
     "text": [
      "Transcript appended to final_json_transcript_final.json\n",
      "\n",
      "Downloading and transcribing: https://www.youtube.com/watch?v=vKJpN5FAeF4\n",
      "Downloading audio to downloads\\Closures_Explained_in_100_Seconds__Tricky_JavaScript_Interview_Prep.wav...\n",
      "Transcript saved to downloads/Closures_Explained_in_100_Seconds__Tricky_JavaScript_Interview_Prep_transcript.json\n"
     ]
    },
    {
     "name": "stderr",
     "output_type": "stream",
     "text": [
      "Processing videos:  59%|█████▉    | 59/100 [45:33<35:10, 51.49s/video]"
     ]
    },
    {
     "name": "stdout",
     "output_type": "stream",
     "text": [
      "Transcript appended to final_json_transcript_final.json\n",
      "\n",
      "Downloading and transcribing: https://www.youtube.com/watch?v=Jv2uxzhPFl4\n",
      "Downloading audio to downloads\\TestDriven_Development__Fun_TDD_Introduction_with_JavaScript.wav...\n",
      "Transcript saved to downloads/TestDriven_Development__Fun_TDD_Introduction_with_JavaScript_transcript.json\n"
     ]
    },
    {
     "name": "stderr",
     "output_type": "stream",
     "text": [
      "Processing videos:  60%|██████    | 60/100 [46:30<35:15, 52.88s/video]"
     ]
    },
    {
     "name": "stdout",
     "output_type": "stream",
     "text": [
      "Transcript appended to final_json_transcript_final.json\n",
      "\n",
      "Downloading and transcribing: https://www.youtube.com/watch?v=Q7AOvWpIVHU\n",
      "Downloading audio to downloads\\Build_a_Mindblowing_3D_Portfolio_Website__Threejs_Beginners_Tutorial.wav...\n",
      "Transcript saved to downloads/Build_a_Mindblowing_3D_Portfolio_Website__Threejs_Beginners_Tutorial_transcript.json\n"
     ]
    },
    {
     "name": "stderr",
     "output_type": "stream",
     "text": [
      "Processing videos:  61%|██████    | 61/100 [47:25<34:52, 53.66s/video]"
     ]
    },
    {
     "name": "stdout",
     "output_type": "stream",
     "text": [
      "Transcript appended to final_json_transcript_final.json\n",
      "\n",
      "Downloading and transcribing: https://www.youtube.com/watch?v=vqs_0W-MSB0\n",
      "Downloading audio to downloads\\How_a_CPU_Works_in_100_Seconds__Apple_Silicon_M1_vs_Intel_i9.wav...\n",
      "Transcript saved to downloads/How_a_CPU_Works_in_100_Seconds__Apple_Silicon_M1_vs_Intel_i9_transcript.json\n"
     ]
    },
    {
     "name": "stderr",
     "output_type": "stream",
     "text": [
      "Processing videos:  62%|██████▏   | 62/100 [48:21<34:24, 54.32s/video]"
     ]
    },
    {
     "name": "stdout",
     "output_type": "stream",
     "text": [
      "Transcript appended to final_json_transcript_final.json\n",
      "\n",
      "Downloading and transcribing: https://www.youtube.com/watch?v=WiwfiVdfRIc\n",
      "Downloading audio to downloads\\Is_Supabase_Legit_Firebase_Alternative_Breakdown.wav...\n",
      "Transcript saved to downloads/Is_Supabase_Legit_Firebase_Alternative_Breakdown_transcript.json\n"
     ]
    },
    {
     "name": "stderr",
     "output_type": "stream",
     "text": [
      "Processing videos:  63%|██████▎   | 63/100 [49:12<32:59, 53.49s/video]"
     ]
    },
    {
     "name": "stdout",
     "output_type": "stream",
     "text": [
      "Transcript appended to final_json_transcript_final.json\n",
      "\n",
      "Downloading and transcribing: https://www.youtube.com/watch?v=v969_M6cWk0\n",
      "Downloading audio to downloads\\Ethical_Hacking_in_100_Seconds__And_why_do_we_need_CORS.wav...\n",
      "Transcript saved to downloads/Ethical_Hacking_in_100_Seconds__And_why_do_we_need_CORS_transcript.json\n"
     ]
    },
    {
     "name": "stderr",
     "output_type": "stream",
     "text": [
      "Processing videos:  64%|██████▍   | 64/100 [50:04<31:45, 52.92s/video]"
     ]
    },
    {
     "name": "stdout",
     "output_type": "stream",
     "text": [
      "Transcript appended to final_json_transcript_final.json\n",
      "\n",
      "Downloading and transcribing: https://www.youtube.com/watch?v=ydkQlJhodio\n",
      "Downloading audio to downloads\\How_to_use_TypeScript_with_React_But_should_you.wav...\n",
      "Transcript saved to downloads/How_to_use_TypeScript_with_React_But_should_you_transcript.json\n"
     ]
    },
    {
     "name": "stderr",
     "output_type": "stream",
     "text": [
      "Processing videos:  65%|██████▌   | 65/100 [50:55<30:28, 52.25s/video]"
     ]
    },
    {
     "name": "stdout",
     "output_type": "stream",
     "text": [
      "Transcript appended to final_json_transcript_final.json\n",
      "\n",
      "Downloading and transcribing: https://www.youtube.com/watch?v=Cz3WcZLRaWc\n",
      "Downloading audio to downloads\\MySQL__The_Basics__Learn_SQL_in_23_Easy_Steps.wav...\n",
      "Transcript saved to downloads/MySQL__The_Basics__Learn_SQL_in_23_Easy_Steps_transcript.json\n"
     ]
    },
    {
     "name": "stderr",
     "output_type": "stream",
     "text": [
      "Processing videos:  66%|██████▌   | 66/100 [51:53<30:41, 54.16s/video]"
     ]
    },
    {
     "name": "stdout",
     "output_type": "stream",
     "text": [
      "Transcript appended to final_json_transcript_final.json\n",
      "\n",
      "Downloading and transcribing: https://www.youtube.com/watch?v=sZif1kuAjcY\n",
      "Downloading audio to downloads\\Get_Paid_with_Crypto_in_your_App__Coinbase_Commerce_Tutorial.wav...\n",
      "Transcript saved to downloads/Get_Paid_with_Crypto_in_your_App__Coinbase_Commerce_Tutorial_transcript.json\n"
     ]
    },
    {
     "name": "stderr",
     "output_type": "stream",
     "text": [
      "Processing videos:  67%|██████▋   | 67/100 [52:46<29:36, 53.84s/video]"
     ]
    },
    {
     "name": "stdout",
     "output_type": "stream",
     "text": [
      "Transcript appended to final_json_transcript_final.json\n",
      "\n",
      "Downloading and transcribing: https://www.youtube.com/watch?v=UTHgr6NLeEw\n",
      "Downloading audio to downloads\\Make_Awesome_SVG_Animations_with_CSS__7_Useful_Techniques.wav...\n",
      "Transcript saved to downloads/Make_Awesome_SVG_Animations_with_CSS__7_Useful_Techniques_transcript.json\n"
     ]
    },
    {
     "name": "stderr",
     "output_type": "stream",
     "text": [
      "Processing videos:  68%|██████▊   | 68/100 [53:40<28:39, 53.75s/video]"
     ]
    },
    {
     "name": "stdout",
     "output_type": "stream",
     "text": [
      "Transcript appended to final_json_transcript_final.json\n",
      "\n",
      "Downloading and transcribing: https://www.youtube.com/watch?v=ShcR4Zfc6Dw\n",
      "Downloading audio to downloads\\Why_so_many_distros_The_Weird_History_of_Linux.wav...\n",
      "Transcript saved to downloads/Why_so_many_distros_The_Weird_History_of_Linux_transcript.json\n"
     ]
    },
    {
     "name": "stderr",
     "output_type": "stream",
     "text": [
      "Processing videos:  69%|██████▉   | 69/100 [54:34<27:46, 53.76s/video]"
     ]
    },
    {
     "name": "stdout",
     "output_type": "stream",
     "text": [
      "Transcript appended to final_json_transcript_final.json\n",
      "\n",
      "Downloading and transcribing: https://www.youtube.com/watch?v=WmR9IMUD_CY\n",
      "Downloading audio to downloads\\WebRTC_in_100_Seconds__Build_a_Video_Chat_app_from_Scratch.wav...\n",
      "Transcript saved to downloads/WebRTC_in_100_Seconds__Build_a_Video_Chat_app_from_Scratch_transcript.json\n"
     ]
    },
    {
     "name": "stderr",
     "output_type": "stream",
     "text": [
      "Processing videos:  70%|███████   | 70/100 [55:27<26:46, 53.54s/video]"
     ]
    },
    {
     "name": "stdout",
     "output_type": "stream",
     "text": [
      "Transcript appended to final_json_transcript_final.json\n",
      "\n",
      "Downloading and transcribing: https://www.youtube.com/watch?v=qF7dkrce-mQ\n",
      "Downloading audio to downloads\\Bitcoin__in_100_Seconds__Build_your_Own_Blockchain.wav...\n",
      "Transcript saved to downloads/Bitcoin__in_100_Seconds__Build_your_Own_Blockchain_transcript.json\n"
     ]
    },
    {
     "name": "stderr",
     "output_type": "stream",
     "text": [
      "Processing videos:  71%|███████   | 71/100 [56:21<25:59, 53.79s/video]"
     ]
    },
    {
     "name": "stdout",
     "output_type": "stream",
     "text": [
      "Transcript appended to final_json_transcript_final.json\n",
      "\n",
      "Downloading and transcribing: https://www.youtube.com/watch?v=yJ5agkia4o8\n",
      "Downloading audio to downloads\\Invite_Only_Use_FOMO_to_grow_your_app__Exclusive_Phone_SignIn_Tutorial.wav...\n",
      "Transcript saved to downloads/Invite_Only_Use_FOMO_to_grow_your_app__Exclusive_Phone_SignIn_Tutorial_transcript.json\n"
     ]
    },
    {
     "name": "stderr",
     "output_type": "stream",
     "text": [
      "Processing videos:  72%|███████▏  | 72/100 [57:16<25:18, 54.24s/video]"
     ]
    },
    {
     "name": "stdout",
     "output_type": "stream",
     "text": [
      "Transcript appended to final_json_transcript_final.json\n",
      "\n",
      "Downloading and transcribing: https://www.youtube.com/watch?v=-MTSQjw5DrM\n",
      "Downloading audio to downloads\\RESTful_APIs_in_100_Seconds__Build_an_API_from_Scratch_with_Nodejs_Express.wav...\n",
      "Transcript saved to downloads/RESTful_APIs_in_100_Seconds__Build_an_API_from_Scratch_with_Nodejs_Express_transcript.json\n"
     ]
    },
    {
     "name": "stderr",
     "output_type": "stream",
     "text": [
      "Processing videos:  73%|███████▎  | 73/100 [58:09<24:10, 53.73s/video]"
     ]
    },
    {
     "name": "stdout",
     "output_type": "stream",
     "text": [
      "Transcript appended to final_json_transcript_final.json\n",
      "\n",
      "Downloading and transcribing: https://www.youtube.com/watch?v=r_MpUP6aKiQ\n",
      "Downloading audio to downloads\\dotfiles_in_100_Seconds.wav...\n",
      "Transcript saved to downloads/dotfiles_in_100_Seconds_transcript.json\n"
     ]
    },
    {
     "name": "stderr",
     "output_type": "stream",
     "text": [
      "Processing videos:  74%|███████▍  | 74/100 [59:07<23:49, 54.96s/video]"
     ]
    },
    {
     "name": "stdout",
     "output_type": "stream",
     "text": [
      "Transcript appended to final_json_transcript_final.json\n",
      "\n",
      "Downloading and transcribing: https://www.youtube.com/watch?v=O0gmXbN7lVE\n",
      "Downloading audio to downloads\\_in_NaN_Seconds.wav...\n",
      "Transcript saved to downloads/_in_NaN_Seconds_transcript.json\n"
     ]
    },
    {
     "name": "stderr",
     "output_type": "stream",
     "text": [
      "Processing videos:  75%|███████▌  | 75/100 [59:56<22:07, 53.11s/video]"
     ]
    },
    {
     "name": "stdout",
     "output_type": "stream",
     "text": [
      "Transcript appended to final_json_transcript_final.json\n",
      "\n",
      "Downloading and transcribing: https://www.youtube.com/watch?v=TNhaISOUy6Q\n",
      "Downloading audio to downloads\\10_React_Hooks_Explained__Plus_Build_your_own_from_Scratch.wav...\n",
      "Transcript saved to downloads/10_React_Hooks_Explained__Plus_Build_your_own_from_Scratch_transcript.json\n"
     ]
    },
    {
     "name": "stderr",
     "output_type": "stream",
     "text": [
      "Processing videos:  76%|███████▌  | 76/100 [1:00:50<21:20, 53.37s/video]"
     ]
    },
    {
     "name": "stdout",
     "output_type": "stream",
     "text": [
      "Transcript appended to final_json_transcript_final.json\n",
      "\n",
      "Downloading and transcribing: https://www.youtube.com/watch?v=QdHvS0D1zAI\n",
      "Downloading audio to downloads\\Raspberry_Pi_versus_AWS__How_to_host_your_website_on_the_RPi4.wav...\n",
      "Transcript saved to downloads/Raspberry_Pi_versus_AWS__How_to_host_your_website_on_the_RPi4_transcript.json\n"
     ]
    },
    {
     "name": "stderr",
     "output_type": "stream",
     "text": [
      "Processing videos:  77%|███████▋  | 77/100 [1:01:43<20:27, 53.37s/video]"
     ]
    },
    {
     "name": "stdout",
     "output_type": "stream",
     "text": [
      "Transcript appended to final_json_transcript_final.json\n",
      "\n",
      "Downloading and transcribing: https://www.youtube.com/watch?v=Sklc_fQBmcs\n",
      "Downloading audio to downloads\\Nextjs_in_100_Seconds__Plus_Full_Beginners_Tutorial.wav...\n"
     ]
    },
    {
     "name": "stderr",
     "output_type": "stream",
     "text": [
      "Processing videos:  78%|███████▊  | 78/100 [1:01:58<15:18, 41.74s/video]"
     ]
    },
    {
     "name": "stdout",
     "output_type": "stream",
     "text": [
      "An error occurred: <urlopen error [Errno 11001] getaddrinfo failed>\n",
      "\n",
      "Downloading and transcribing: https://www.youtube.com/watch?v=sFsRylCQblw\n",
      "Downloading audio to downloads\\Progressive_Web_Apps_in_100_Seconds__Build_a_PWA_from_Scratch.wav...\n"
     ]
    },
    {
     "name": "stderr",
     "output_type": "stream",
     "text": [
      "Processing videos:  79%|███████▉  | 79/100 [1:02:12<11:44, 33.57s/video]"
     ]
    },
    {
     "name": "stdout",
     "output_type": "stream",
     "text": [
      "An error occurred: <urlopen error [Errno 11001] getaddrinfo failed>\n",
      "\n",
      "Downloading and transcribing: https://www.youtube.com/watch?v=N6lYcXjd4pg\n",
      "Downloading audio to downloads\\How_to_Burn_Money_in_the_Cloud__Avoid_AWS_GCP_Azure_Cost_Disasters.wav...\n"
     ]
    },
    {
     "name": "stderr",
     "output_type": "stream",
     "text": [
      "Processing videos:  80%|████████  | 80/100 [1:02:27<09:17, 27.85s/video]"
     ]
    },
    {
     "name": "stdout",
     "output_type": "stream",
     "text": [
      "An error occurred: <urlopen error [Errno 11001] getaddrinfo failed>\n",
      "\n",
      "Downloading and transcribing: https://www.youtube.com/watch?v=e1KpKBHJOrA\n",
      "Downloading audio to downloads\\CSS_Pseudoelements__in_100_Seconds.wav...\n"
     ]
    },
    {
     "name": "stderr",
     "output_type": "stream",
     "text": [
      "Processing videos:  81%|████████  | 81/100 [1:02:42<07:40, 24.21s/video]"
     ]
    },
    {
     "name": "stdout",
     "output_type": "stream",
     "text": [
      "An error occurred: <urlopen error [Errno 11001] getaddrinfo failed>\n",
      "\n",
      "Downloading and transcribing: https://www.youtube.com/watch?v=yrrw6KdGuxc\n",
      "Downloading audio to downloads\\Animated_CSS_Login_Form_w_Password_Validation_Meter.wav...\n",
      "Transcript saved to downloads/Animated_CSS_Login_Form_w_Password_Validation_Meter_transcript.json\n"
     ]
    },
    {
     "name": "stderr",
     "output_type": "stream",
     "text": [
      "Processing videos:  82%|████████▏ | 82/100 [1:03:48<11:01, 36.75s/video]"
     ]
    },
    {
     "name": "stdout",
     "output_type": "stream",
     "text": [
      "Transcript appended to final_json_transcript_final.json\n",
      "\n",
      "Downloading and transcribing: https://www.youtube.com/watch?v=JTOJsU3FSD8\n",
      "Downloading audio to downloads\\7_Full_Stack_App_Ideas_for_Developers_w_Instructions_Included.wav...\n",
      "Transcript saved to downloads/7_Full_Stack_App_Ideas_for_Developers_w_Instructions_Included_transcript.json\n"
     ]
    },
    {
     "name": "stderr",
     "output_type": "stream",
     "text": [
      "Processing videos:  83%|████████▎ | 83/100 [1:04:44<11:59, 42.29s/video]"
     ]
    },
    {
     "name": "stdout",
     "output_type": "stream",
     "text": [
      "Transcript appended to final_json_transcript_final.json\n",
      "\n",
      "Downloading and transcribing: https://www.youtube.com/watch?v=wvRVfyPKOA0\n"
     ]
    },
    {
     "name": "stderr",
     "output_type": "stream",
     "text": [
      "Processing videos:  85%|████████▌ | 85/100 [1:04:56<05:50, 23.36s/video]"
     ]
    },
    {
     "name": "stdout",
     "output_type": "stream",
     "text": [
      "An error occurred: <urlopen error [Errno 11001] getaddrinfo failed>\n",
      "\n",
      "Downloading and transcribing: https://www.youtube.com/watch?v=-atblwgc63E\n",
      "An error occurred: <urlopen error [Errno 11001] getaddrinfo failed>\n",
      "\n",
      "Downloading and transcribing: https://www.youtube.com/watch?v=YOlr79NaAtQ\n"
     ]
    },
    {
     "name": "stderr",
     "output_type": "stream",
     "text": [
      "Processing videos:  87%|████████▋ | 87/100 [1:04:56<02:30, 11.55s/video]"
     ]
    },
    {
     "name": "stdout",
     "output_type": "stream",
     "text": [
      "An error occurred: <urlopen error [Errno 11001] getaddrinfo failed>\n",
      "\n",
      "Downloading and transcribing: https://www.youtube.com/watch?v=scEDHsr3APg\n",
      "An error occurred: <urlopen error [Errno 11001] getaddrinfo failed>\n",
      "\n",
      "Downloading and transcribing: https://www.youtube.com/watch?v=rjfO2AKEsA8\n"
     ]
    },
    {
     "name": "stderr",
     "output_type": "stream",
     "text": [
      "Processing videos:  89%|████████▉ | 89/100 [1:04:57<01:03,  5.76s/video]"
     ]
    },
    {
     "name": "stdout",
     "output_type": "stream",
     "text": [
      "An error occurred: <urlopen error [Errno 11001] getaddrinfo failed>\n",
      "\n",
      "Downloading and transcribing: https://www.youtube.com/watch?v=3yqDxhR2XxE\n",
      "An error occurred: <urlopen error [Errno 11001] getaddrinfo failed>\n"
     ]
    },
    {
     "name": "stderr",
     "output_type": "stream",
     "text": [
      "Processing videos:  90%|█████████ | 90/100 [1:04:57<00:40,  4.09s/video]"
     ]
    },
    {
     "name": "stdout",
     "output_type": "stream",
     "text": [
      "\n",
      "Downloading and transcribing: https://www.youtube.com/watch?v=biOMz4puGt8\n",
      "An error occurred: <urlopen error [Errno 11001] getaddrinfo failed>\n"
     ]
    },
    {
     "name": "stderr",
     "output_type": "stream",
     "text": [
      "Processing videos:  91%|█████████ | 91/100 [1:04:57<00:26,  2.92s/video]"
     ]
    },
    {
     "name": "stdout",
     "output_type": "stream",
     "text": [
      "\n",
      "Downloading and transcribing: https://www.youtube.com/watch?v=OWy0e231eMI\n",
      "An error occurred: <urlopen error [Errno 11001] getaddrinfo failed>\n",
      "\n",
      "Downloading and transcribing: https://www.youtube.com/watch?v=sSDHdWrSqLY\n"
     ]
    },
    {
     "name": "stderr",
     "output_type": "stream",
     "text": [
      "Processing videos:  93%|█████████▎| 93/100 [1:04:58<00:10,  1.53s/video]"
     ]
    },
    {
     "name": "stdout",
     "output_type": "stream",
     "text": [
      "An error occurred: <urlopen error [Errno 11001] getaddrinfo failed>\n",
      "\n",
      "Downloading and transcribing: https://www.youtube.com/watch?v=gigtS_5KOqo\n",
      "An error occurred: <urlopen error [Errno 11001] getaddrinfo failed>\n"
     ]
    },
    {
     "name": "stderr",
     "output_type": "stream",
     "text": [
      "Processing videos:  94%|█████████▍| 94/100 [1:04:58<00:06,  1.13s/video]"
     ]
    },
    {
     "name": "stdout",
     "output_type": "stream",
     "text": [
      "\n",
      "Downloading and transcribing: https://www.youtube.com/watch?v=tV9byUUfPQM\n",
      "An error occurred: <urlopen error [Errno 11001] getaddrinfo failed>\n",
      "\n",
      "Downloading and transcribing: https://www.youtube.com/watch?v=MYHVyl-juUk\n"
     ]
    },
    {
     "name": "stderr",
     "output_type": "stream",
     "text": [
      "Processing videos:  96%|█████████▌| 96/100 [1:04:58<00:02,  1.52video/s]"
     ]
    },
    {
     "name": "stdout",
     "output_type": "stream",
     "text": [
      "An error occurred: <urlopen error [Errno 11001] getaddrinfo failed>\n",
      "\n",
      "Downloading and transcribing: https://www.youtube.com/watch?v=bL3I7Pls-1w\n",
      "An error occurred: <urlopen error [Errno 11001] getaddrinfo failed>\n"
     ]
    },
    {
     "name": "stderr",
     "output_type": "stream",
     "text": [
      "Processing videos:  97%|█████████▋| 97/100 [1:04:58<00:01,  1.92video/s]"
     ]
    },
    {
     "name": "stdout",
     "output_type": "stream",
     "text": [
      "\n",
      "Downloading and transcribing: https://www.youtube.com/watch?v=Zd014DjonqE\n",
      "An error occurred: <urlopen error [Errno 11001] getaddrinfo failed>\n"
     ]
    },
    {
     "name": "stderr",
     "output_type": "stream",
     "text": [
      "Processing videos:  98%|█████████▊| 98/100 [1:04:59<00:00,  2.36video/s]"
     ]
    },
    {
     "name": "stdout",
     "output_type": "stream",
     "text": [
      "\n",
      "Downloading and transcribing: https://www.youtube.com/watch?v=qP5zw7fjQgo\n",
      "An error occurred: <urlopen error [Errno 11001] getaddrinfo failed>\n",
      "\n",
      "Downloading and transcribing: https://www.youtube.com/watch?v=HkdAHXoRtos\n"
     ]
    },
    {
     "name": "stderr",
     "output_type": "stream",
     "text": [
      "Processing videos: 100%|██████████| 100/100 [1:04:59<00:00,  3.18video/s]"
     ]
    },
    {
     "name": "stdout",
     "output_type": "stream",
     "text": [
      "An error occurred: <urlopen error [Errno 11001] getaddrinfo failed>\n",
      "\n",
      "Downloading and transcribing: https://www.youtube.com/watch?v=8Wy1AqY5gqE\n",
      "An error occurred: <urlopen error [Errno 11001] getaddrinfo failed>\n"
     ]
    },
    {
     "name": "stderr",
     "output_type": "stream",
     "text": [
      "Processing videos: 100%|██████████| 100/100 [1:04:59<00:00, 39.00s/video]\n"
     ]
    }
   ],
   "source": [
    "import os\n",
    "import json\n",
    "from pytube import YouTube\n",
    "from tqdm import tqdm\n",
    "from deepgram import DeepgramClient, PrerecordedOptions\n",
    "\n",
    "def download_and_transcribe_video(video_url, output_directory='downloads'):\n",
    "    try:\n",
    "        # Create a YouTube object\n",
    "        yt = YouTube(video_url)\n",
    "\n",
    "        # Create a directory for downloads if it doesn't exist\n",
    "        if not os.path.exists(output_directory):\n",
    "            os.makedirs(output_directory)\n",
    "\n",
    "        # Get the highest resolution audio stream\n",
    "        audio_stream = yt.streams.filter(only_audio=True).first()\n",
    "\n",
    "        # Download the audio stream with tqdm progress bar\n",
    "        file_name = remove_special_characters(yt.title)\n",
    "        file_name = file_name.replace(\" \",\"_\")\n",
    "        file_name = file_name.replace(\"…\",\"_\")\n",
    "        file_name = file_name.replace(\",\",\"_\")\n",
    "        audio_path = os.path.join(output_directory, f'{file_name}.wav')\n",
    "        print(f\"Downloading audio to {audio_path}...\")\n",
    "        # with tqdm(total=audio_stream.filesize, unit='B', unit_scale=True, desc=f'Downloading {file_name}') as bar:\n",
    "        #     def on_progress(chunk, _):\n",
    "        #         bar.update(len(chunk))\n",
    "\n",
    "        audio_stream.download(output_directory, filename=f'{file_name}.wav')\n",
    "\n",
    "        transcript = transcribe_audio(audio_path)\n",
    "\n",
    "        # Collect video information\n",
    "        video_info = {\n",
    "            'link': video_url,\n",
    "            'title': yt.title,\n",
    "            'duration': yt.length,\n",
    "            'author': yt.author,\n",
    "            'views': yt.views,\n",
    "            'description': yt.description,\n",
    "            'audio_path': audio_path,\n",
    "            'transcript': transcript\n",
    "        }\n",
    "        \n",
    "        save_transcript_to_json(video_info, f'{output_directory}/{file_name}_transcript.json')\n",
    "        append_transcript_to_json(video_info, f'final_json_transcript_final.json')\n",
    "\n",
    "        return video_info\n",
    "\n",
    "    except Exception as e:\n",
    "        print(f\"An error occurred: {str(e)}\")\n",
    "        return None\n",
    "\n",
    "def save_transcript_to_json(transcript, json_path):\n",
    "    with open(json_path, 'w') as file:\n",
    "        json.dump(transcript, file, indent=4)\n",
    "    print(f'Transcript saved to {json_path}')\n",
    "\n",
    "def append_transcript_to_json(transcript, json_path):\n",
    "    # Create an empty list if the file doesn't exist yet\n",
    "    if not os.path.exists(json_path):\n",
    "        with open(json_path, 'w') as file:\n",
    "            json.dump([], file)\n",
    "\n",
    "    # Load existing data from the file\n",
    "    with open(json_path, 'r') as file:\n",
    "        data = json.load(file)\n",
    "\n",
    "    # Append the new transcript to the list\n",
    "    data.append(transcript)\n",
    "\n",
    "    # Save the updated list to the file\n",
    "    with open(json_path, 'w') as file:\n",
    "        json.dump(data, file, indent=4)\n",
    "\n",
    "    print(f'Transcript appended to {json_path}')\n",
    "\n",
    "def process_video_links(file_path):\n",
    "    with open(file_path, 'r') as file:\n",
    "        video_list = file.readlines()\n",
    "        \n",
    "    video_data_list = []\n",
    "    videos_to_process = [video_line.strip().split(\",\") for video_line in video_list if video_line.strip().endswith(',0')]\n",
    "\n",
    "    # for video_link in tqdm(video_list, desc='Processing videos', unit='video'):\n",
    "    # for idx, video_line in enumerate(tqdm(video_list, desc='Processing videos', unit='video')):\n",
    "    for video_link, progress in tqdm(videos_to_process, desc='Processing videos', unit='video'):\n",
    "        # video_link, progress = video_line.split(\",\")\n",
    "        if int(progress) == 0:\n",
    "            video_link = video_link.strip()\n",
    "            print(f'\\nDownloading and transcribing: {video_link}')\n",
    "            try:\n",
    "                video_info = download_and_transcribe_video(video_link)\n",
    "                video_data_list.append(video_info)\n",
    "                idx = video_list.index(f'{video_link},0\\n')\n",
    "                video_list[idx] = f'{video_link},1\\n'\n",
    "            except:\n",
    "                # save failed video links in a text file\n",
    "                print(f'\\nError processing video',video_link)\n",
    "                with open(\"logs_file.txt\", 'a') as log_file:\n",
    "                    log_file.write(video_link)\n",
    "        else:\n",
    "            print(\"Video already downloaded and processed\")\n",
    "            \n",
    "        with open(file_path, \"w\") as file:\n",
    "            file.writelines(video_list)\n",
    "\n",
    "# Replace 'YOUR_TEXT_FILE_PATH' with the path to your text file containing video links\n",
    "text_file_path = \"./downloads/Fireship_clone_2/@Fireship-videos-remaining.txt\"\n",
    "\n",
    "# Process video links and save data to JSON\n",
    "process_video_links(text_file_path)\n"
   ]
  },
  {
   "cell_type": "code",
   "execution_count": 4,
   "metadata": {},
   "outputs": [
    {
     "name": "stdout",
     "output_type": "stream",
     "text": [
      "Combined JSON data saved to combined.json\n"
     ]
    }
   ],
   "source": [
    "# combine all the json files into a single file\n",
    "\n",
    "import os\n",
    "import json\n",
    "\n",
    "def combine_json_files(directory_name, output_file='combined.json'):\n",
    "    combined_data = []\n",
    "\n",
    "    # Check if the directory exists\n",
    "    if not os.path.exists(directory_name) or not os.path.isdir(directory_name):\n",
    "        print(f\"Error: {directory_name} is not a valid directory.\")\n",
    "        return\n",
    "\n",
    "    # Loop through all files in the directory\n",
    "    for filename in os.listdir(directory_name):\n",
    "        file_path = os.path.join(directory_name, filename)\n",
    "\n",
    "        # Check if the file is a JSON file\n",
    "        if os.path.isfile(file_path) and filename.endswith('.json'):\n",
    "            with open(file_path, 'r') as file:\n",
    "                try:\n",
    "                    # Load JSON data from the file\n",
    "                    json_data = json.load(file)\n",
    "\n",
    "                    # Append the loaded data to the combined_data list\n",
    "                    combined_data.append(json_data)\n",
    "\n",
    "                except json.JSONDecodeError as e:\n",
    "                    print(f\"Error decoding JSON in file {filename}: {e}\")\n",
    "\n",
    "    # Write the combined_data to a new JSON file\n",
    "    with open(output_file, 'w') as output_file:\n",
    "        json.dump(combined_data, output_file, indent=2)\n",
    "\n",
    "    print(f\"Combined JSON data saved to {output_file.name}\")\n",
    "\n",
    "# Example usage:\n",
    "directory_name = './downloads/'\n",
    "combine_json_files(directory_name)"
   ]
  },
  {
   "cell_type": "markdown",
   "metadata": {},
   "source": [
    "## Huggingface operations"
   ]
  },
  {
   "cell_type": "code",
   "execution_count": 5,
   "metadata": {},
   "outputs": [
    {
     "data": {
      "application/vnd.jupyter.widget-view+json": {
       "model_id": "e374c3f6456a45d6991392e9a7b762ef",
       "version_major": 2,
       "version_minor": 0
      },
      "text/plain": [
       "Generating train split: 0 examples [00:00, ? examples/s]"
      ]
     },
     "metadata": {},
     "output_type": "display_data"
    }
   ],
   "source": [
    "from datasets import load_dataset\n",
    "\n",
    "dataset = load_dataset(\"json\", data_files=\"./combined.json\")\n",
    "# dataset2 = load_dataset(\"json\", data_files=\"./final_json_transcript_final.json\")"
   ]
  },
  {
   "cell_type": "code",
   "execution_count": 6,
   "metadata": {},
   "outputs": [
    {
     "data": {
      "text/plain": [
       "DatasetDict({\n",
       "    train: Dataset({\n",
       "        features: ['author', 'duration', 'description', 'transcript', 'audio_path', 'link', 'title', 'views'],\n",
       "        num_rows: 522\n",
       "    })\n",
       "})"
      ]
     },
     "execution_count": 6,
     "metadata": {},
     "output_type": "execute_result"
    }
   ],
   "source": [
    "dataset"
   ]
  },
  {
   "cell_type": "code",
   "execution_count": 87,
   "metadata": {},
   "outputs": [
    {
     "name": "stdout",
     "output_type": "stream",
     "text": [
      "New links written to output.txt\n"
     ]
    }
   ],
   "source": [
    "# Assuming you have the text file named 'input.txt' and the list of video links\n",
    "# named 'video_link_list'\n",
    "\n",
    "input_file_path = './downloads/Fireship_clone_2/@Fireship-videos.txt'\n",
    "output_file_path = 'output.txt'\n",
    "\n",
    "# Read the existing links from the text file\n",
    "with open(input_file_path, 'r') as file:\n",
    "    existing_links = [line.split(',')[0] for line in file]\n",
    "\n",
    "# Filter out the links that are not in video_link_list\n",
    "new_links = [link for link in existing_links if link not in dataset[\"train\"][\"link\"]]\n",
    "\n",
    "# Write the new links to the output file\n",
    "with open(output_file_path, 'w') as output_file:\n",
    "    for link in new_links:\n",
    "        output_file.write(f\"{link},0\\n\")\n",
    "\n",
    "print(f\"New links written to {output_file_path}\")"
   ]
  },
  {
   "cell_type": "code",
   "execution_count": 7,
   "metadata": {},
   "outputs": [
    {
     "data": {
      "application/vnd.jupyter.widget-view+json": {
       "model_id": "0ad5754150474a868303b2803d12ab9f",
       "version_major": 2,
       "version_minor": 0
      },
      "text/plain": [
       "VBox(children=(HTML(value='<center> <img\\nsrc=https://huggingface.co/front/assets/huggingface_logo-noborder.sv…"
      ]
     },
     "metadata": {},
     "output_type": "display_data"
    }
   ],
   "source": [
    "from huggingface_hub import notebook_login\n",
    "notebook_login()"
   ]
  },
  {
   "cell_type": "code",
   "execution_count": 8,
   "metadata": {},
   "outputs": [
    {
     "data": {
      "application/vnd.jupyter.widget-view+json": {
       "model_id": "277315b5bcac43f4ba41c35137ba4441",
       "version_major": 2,
       "version_minor": 0
      },
      "text/plain": [
       "Uploading the dataset shards:   0%|          | 0/1 [00:00<?, ?it/s]"
      ]
     },
     "metadata": {},
     "output_type": "display_data"
    },
    {
     "data": {
      "application/vnd.jupyter.widget-view+json": {
       "model_id": "48f041063adf4a0eb24fad86ba8da280",
       "version_major": 2,
       "version_minor": 0
      },
      "text/plain": [
       "Creating parquet from Arrow format:   0%|          | 0/1 [00:00<?, ?ba/s]"
      ]
     },
     "metadata": {},
     "output_type": "display_data"
    },
    {
     "data": {
      "application/vnd.jupyter.widget-view+json": {
       "model_id": "28cc89d93c9e448280b68e6a43619352",
       "version_major": 2,
       "version_minor": 0
      },
      "text/plain": [
       "README.md:   0%|          | 0.00/3.59k [00:00<?, ?B/s]"
      ]
     },
     "metadata": {},
     "output_type": "display_data"
    },
    {
     "name": "stderr",
     "output_type": "stream",
     "text": [
      "c:\\Projects\\LLM-Cookbook\\LLM-venv\\Lib\\site-packages\\huggingface_hub\\file_download.py:149: UserWarning: `huggingface_hub` cache-system uses symlinks by default to efficiently store duplicated files but your machine does not support them in C:\\Users\\Adithya\\.cache\\huggingface\\hub\\datasets--CognitiveLab--FS_test. Caching files will still work but in a degraded version that might require more space on your disk. This warning can be disabled by setting the `HF_HUB_DISABLE_SYMLINKS_WARNING` environment variable. For more details, see https://huggingface.co/docs/huggingface_hub/how-to-cache#limitations.\n",
      "To support symlinks on Windows, you either need to activate Developer Mode or to run Python as an administrator. In order to see activate developer mode, see this article: https://docs.microsoft.com/en-us/windows/apps/get-started/enable-your-device-for-development\n",
      "  warnings.warn(message)\n"
     ]
    },
    {
     "data": {
      "text/plain": [
       "CommitInfo(commit_url='https://huggingface.co/datasets/CognitiveLab/FS_test/commit/2b573174a0ad7b4f8c917a257dd26f45cc8be28c', commit_message='Upload dataset', commit_description='', oid='2b573174a0ad7b4f8c917a257dd26f45cc8be28c', pr_url=None, pr_revision=None, pr_num=None)"
      ]
     },
     "execution_count": 8,
     "metadata": {},
     "output_type": "execute_result"
    }
   ],
   "source": [
    "dataset.push_to_hub(\"CognitiveLab/FS_test\")"
   ]
  },
  {
   "cell_type": "code",
   "execution_count": 9,
   "metadata": {},
   "outputs": [
    {
     "data": {
      "text/plain": [
       "DatasetDict({\n",
       "    train: Dataset({\n",
       "        features: ['author', 'duration', 'description', 'transcript', 'audio_path', 'link', 'title', 'views'],\n",
       "        num_rows: 522\n",
       "    })\n",
       "})"
      ]
     },
     "execution_count": 9,
     "metadata": {},
     "output_type": "execute_result"
    }
   ],
   "source": [
    "dataset"
   ]
  },
  {
   "cell_type": "code",
   "execution_count": 10,
   "metadata": {},
   "outputs": [],
   "source": [
    "import pandas as pd\n",
    "df = pd.DataFrame(dataset['train'])"
   ]
  },
  {
   "cell_type": "code",
   "execution_count": 11,
   "metadata": {},
   "outputs": [
    {
     "data": {
      "text/html": [
       "<div>\n",
       "<style scoped>\n",
       "    .dataframe tbody tr th:only-of-type {\n",
       "        vertical-align: middle;\n",
       "    }\n",
       "\n",
       "    .dataframe tbody tr th {\n",
       "        vertical-align: top;\n",
       "    }\n",
       "\n",
       "    .dataframe thead th {\n",
       "        text-align: right;\n",
       "    }\n",
       "</style>\n",
       "<table border=\"1\" class=\"dataframe\">\n",
       "  <thead>\n",
       "    <tr style=\"text-align: right;\">\n",
       "      <th></th>\n",
       "      <th>author</th>\n",
       "      <th>duration</th>\n",
       "      <th>description</th>\n",
       "      <th>transcript</th>\n",
       "      <th>audio_path</th>\n",
       "      <th>link</th>\n",
       "      <th>title</th>\n",
       "      <th>views</th>\n",
       "    </tr>\n",
       "  </thead>\n",
       "  <tbody>\n",
       "    <tr>\n",
       "      <th>0</th>\n",
       "      <td>Fireship</td>\n",
       "      <td>787</td>\n",
       "      <td>Learn the fundamentals of Computer Science wit...</td>\n",
       "      <td>{'metadata': {'channels': 1, 'created': '2024-...</td>\n",
       "      <td>downloads\\100+_Computer_Science_Concepts_Expla...</td>\n",
       "      <td>https://www.youtube.com/watch?v=-uleG_Vecis</td>\n",
       "      <td>100+ Computer Science Concepts Explained</td>\n",
       "      <td>2110216</td>\n",
       "    </tr>\n",
       "    <tr>\n",
       "      <th>1</th>\n",
       "      <td>Fireship</td>\n",
       "      <td>743</td>\n",
       "      <td>The ultimate 10 minute JavaScript course that ...</td>\n",
       "      <td>{'metadata': {'channels': 1, 'created': '2024-...</td>\n",
       "      <td>downloads\\100+_JavaScript_Concepts_you_Need_to...</td>\n",
       "      <td>https://www.youtube.com/watch?v=lkIFF4maKMU</td>\n",
       "      <td>100+ JavaScript Concepts you Need to Know</td>\n",
       "      <td>1642938</td>\n",
       "    </tr>\n",
       "    <tr>\n",
       "      <th>2</th>\n",
       "      <td>Fireship</td>\n",
       "      <td>798</td>\n",
       "      <td>WebDev 101 is a complete introduction into the...</td>\n",
       "      <td>{'metadata': {'channels': 1, 'created': '2024-...</td>\n",
       "      <td>downloads\\100+_Web_Development_Things_you_Shou...</td>\n",
       "      <td>https://www.youtube.com/watch?v=erEgovG9WBs</td>\n",
       "      <td>100+ Web Development Things you Should Know</td>\n",
       "      <td>1296840</td>\n",
       "    </tr>\n",
       "    <tr>\n",
       "      <th>3</th>\n",
       "      <td>Fireship</td>\n",
       "      <td>1471</td>\n",
       "      <td>Top 100 Firebase Pro Tips 🔥💯. Optimize your ap...</td>\n",
       "      <td>{'metadata': {'channels': 1, 'created': '2024-...</td>\n",
       "      <td>downloads\\100_Firebase_Tips,_Tricks,_and_Screw...</td>\n",
       "      <td>https://www.youtube.com/watch?v=iWEgpdVSZyg</td>\n",
       "      <td>100 Firebase Tips, Tricks, and Screw-ups</td>\n",
       "      <td>177364</td>\n",
       "    </tr>\n",
       "    <tr>\n",
       "      <th>4</th>\n",
       "      <td>Fireship</td>\n",
       "      <td>246</td>\n",
       "      <td>Google made a ton of exciting announcements at...</td>\n",
       "      <td>{'metadata': {'channels': 1, 'created': '2024-...</td>\n",
       "      <td>downloads\\10_crazy_announcements_from_Google_I...</td>\n",
       "      <td>https://www.youtube.com/watch?v=nmfRDRNjCnM</td>\n",
       "      <td>10 crazy announcements from Google I/O</td>\n",
       "      <td>968111</td>\n",
       "    </tr>\n",
       "  </tbody>\n",
       "</table>\n",
       "</div>"
      ],
      "text/plain": [
       "     author  duration                                        description  \\\n",
       "0  Fireship       787  Learn the fundamentals of Computer Science wit...   \n",
       "1  Fireship       743  The ultimate 10 minute JavaScript course that ...   \n",
       "2  Fireship       798  WebDev 101 is a complete introduction into the...   \n",
       "3  Fireship      1471  Top 100 Firebase Pro Tips 🔥💯. Optimize your ap...   \n",
       "4  Fireship       246  Google made a ton of exciting announcements at...   \n",
       "\n",
       "                                          transcript  \\\n",
       "0  {'metadata': {'channels': 1, 'created': '2024-...   \n",
       "1  {'metadata': {'channels': 1, 'created': '2024-...   \n",
       "2  {'metadata': {'channels': 1, 'created': '2024-...   \n",
       "3  {'metadata': {'channels': 1, 'created': '2024-...   \n",
       "4  {'metadata': {'channels': 1, 'created': '2024-...   \n",
       "\n",
       "                                          audio_path  \\\n",
       "0  downloads\\100+_Computer_Science_Concepts_Expla...   \n",
       "1  downloads\\100+_JavaScript_Concepts_you_Need_to...   \n",
       "2  downloads\\100+_Web_Development_Things_you_Shou...   \n",
       "3  downloads\\100_Firebase_Tips,_Tricks,_and_Screw...   \n",
       "4  downloads\\10_crazy_announcements_from_Google_I...   \n",
       "\n",
       "                                          link  \\\n",
       "0  https://www.youtube.com/watch?v=-uleG_Vecis   \n",
       "1  https://www.youtube.com/watch?v=lkIFF4maKMU   \n",
       "2  https://www.youtube.com/watch?v=erEgovG9WBs   \n",
       "3  https://www.youtube.com/watch?v=iWEgpdVSZyg   \n",
       "4  https://www.youtube.com/watch?v=nmfRDRNjCnM   \n",
       "\n",
       "                                         title    views  \n",
       "0     100+ Computer Science Concepts Explained  2110216  \n",
       "1    100+ JavaScript Concepts you Need to Know  1642938  \n",
       "2  100+ Web Development Things you Should Know  1296840  \n",
       "3     100 Firebase Tips, Tricks, and Screw-ups   177364  \n",
       "4       10 crazy announcements from Google I/O   968111  "
      ]
     },
     "execution_count": 11,
     "metadata": {},
     "output_type": "execute_result"
    }
   ],
   "source": [
    "df.head()"
   ]
  },
  {
   "cell_type": "code",
   "execution_count": 12,
   "metadata": {},
   "outputs": [
    {
     "data": {
      "text/html": [
       "<div>\n",
       "<style scoped>\n",
       "    .dataframe tbody tr th:only-of-type {\n",
       "        vertical-align: middle;\n",
       "    }\n",
       "\n",
       "    .dataframe tbody tr th {\n",
       "        vertical-align: top;\n",
       "    }\n",
       "\n",
       "    .dataframe thead th {\n",
       "        text-align: right;\n",
       "    }\n",
       "</style>\n",
       "<table border=\"1\" class=\"dataframe\">\n",
       "  <thead>\n",
       "    <tr style=\"text-align: right;\">\n",
       "      <th></th>\n",
       "      <th>author</th>\n",
       "      <th>duration</th>\n",
       "      <th>description</th>\n",
       "      <th>transcript_json</th>\n",
       "      <th>audio_path</th>\n",
       "      <th>link</th>\n",
       "      <th>title</th>\n",
       "      <th>views</th>\n",
       "    </tr>\n",
       "  </thead>\n",
       "  <tbody>\n",
       "    <tr>\n",
       "      <th>0</th>\n",
       "      <td>Fireship</td>\n",
       "      <td>787</td>\n",
       "      <td>Learn the fundamentals of Computer Science wit...</td>\n",
       "      <td>{'metadata': {'channels': 1, 'created': '2024-...</td>\n",
       "      <td>downloads\\100+_Computer_Science_Concepts_Expla...</td>\n",
       "      <td>https://www.youtube.com/watch?v=-uleG_Vecis</td>\n",
       "      <td>100+ Computer Science Concepts Explained</td>\n",
       "      <td>2110216</td>\n",
       "    </tr>\n",
       "    <tr>\n",
       "      <th>1</th>\n",
       "      <td>Fireship</td>\n",
       "      <td>743</td>\n",
       "      <td>The ultimate 10 minute JavaScript course that ...</td>\n",
       "      <td>{'metadata': {'channels': 1, 'created': '2024-...</td>\n",
       "      <td>downloads\\100+_JavaScript_Concepts_you_Need_to...</td>\n",
       "      <td>https://www.youtube.com/watch?v=lkIFF4maKMU</td>\n",
       "      <td>100+ JavaScript Concepts you Need to Know</td>\n",
       "      <td>1642938</td>\n",
       "    </tr>\n",
       "    <tr>\n",
       "      <th>2</th>\n",
       "      <td>Fireship</td>\n",
       "      <td>798</td>\n",
       "      <td>WebDev 101 is a complete introduction into the...</td>\n",
       "      <td>{'metadata': {'channels': 1, 'created': '2024-...</td>\n",
       "      <td>downloads\\100+_Web_Development_Things_you_Shou...</td>\n",
       "      <td>https://www.youtube.com/watch?v=erEgovG9WBs</td>\n",
       "      <td>100+ Web Development Things you Should Know</td>\n",
       "      <td>1296840</td>\n",
       "    </tr>\n",
       "    <tr>\n",
       "      <th>3</th>\n",
       "      <td>Fireship</td>\n",
       "      <td>1471</td>\n",
       "      <td>Top 100 Firebase Pro Tips 🔥💯. Optimize your ap...</td>\n",
       "      <td>{'metadata': {'channels': 1, 'created': '2024-...</td>\n",
       "      <td>downloads\\100_Firebase_Tips,_Tricks,_and_Screw...</td>\n",
       "      <td>https://www.youtube.com/watch?v=iWEgpdVSZyg</td>\n",
       "      <td>100 Firebase Tips, Tricks, and Screw-ups</td>\n",
       "      <td>177364</td>\n",
       "    </tr>\n",
       "    <tr>\n",
       "      <th>4</th>\n",
       "      <td>Fireship</td>\n",
       "      <td>246</td>\n",
       "      <td>Google made a ton of exciting announcements at...</td>\n",
       "      <td>{'metadata': {'channels': 1, 'created': '2024-...</td>\n",
       "      <td>downloads\\10_crazy_announcements_from_Google_I...</td>\n",
       "      <td>https://www.youtube.com/watch?v=nmfRDRNjCnM</td>\n",
       "      <td>10 crazy announcements from Google I/O</td>\n",
       "      <td>968111</td>\n",
       "    </tr>\n",
       "  </tbody>\n",
       "</table>\n",
       "</div>"
      ],
      "text/plain": [
       "     author  duration                                        description  \\\n",
       "0  Fireship       787  Learn the fundamentals of Computer Science wit...   \n",
       "1  Fireship       743  The ultimate 10 minute JavaScript course that ...   \n",
       "2  Fireship       798  WebDev 101 is a complete introduction into the...   \n",
       "3  Fireship      1471  Top 100 Firebase Pro Tips 🔥💯. Optimize your ap...   \n",
       "4  Fireship       246  Google made a ton of exciting announcements at...   \n",
       "\n",
       "                                     transcript_json  \\\n",
       "0  {'metadata': {'channels': 1, 'created': '2024-...   \n",
       "1  {'metadata': {'channels': 1, 'created': '2024-...   \n",
       "2  {'metadata': {'channels': 1, 'created': '2024-...   \n",
       "3  {'metadata': {'channels': 1, 'created': '2024-...   \n",
       "4  {'metadata': {'channels': 1, 'created': '2024-...   \n",
       "\n",
       "                                          audio_path  \\\n",
       "0  downloads\\100+_Computer_Science_Concepts_Expla...   \n",
       "1  downloads\\100+_JavaScript_Concepts_you_Need_to...   \n",
       "2  downloads\\100+_Web_Development_Things_you_Shou...   \n",
       "3  downloads\\100_Firebase_Tips,_Tricks,_and_Screw...   \n",
       "4  downloads\\10_crazy_announcements_from_Google_I...   \n",
       "\n",
       "                                          link  \\\n",
       "0  https://www.youtube.com/watch?v=-uleG_Vecis   \n",
       "1  https://www.youtube.com/watch?v=lkIFF4maKMU   \n",
       "2  https://www.youtube.com/watch?v=erEgovG9WBs   \n",
       "3  https://www.youtube.com/watch?v=iWEgpdVSZyg   \n",
       "4  https://www.youtube.com/watch?v=nmfRDRNjCnM   \n",
       "\n",
       "                                         title    views  \n",
       "0     100+ Computer Science Concepts Explained  2110216  \n",
       "1    100+ JavaScript Concepts you Need to Know  1642938  \n",
       "2  100+ Web Development Things you Should Know  1296840  \n",
       "3     100 Firebase Tips, Tricks, and Screw-ups   177364  \n",
       "4       10 crazy announcements from Google I/O   968111  "
      ]
     },
     "execution_count": 12,
     "metadata": {},
     "output_type": "execute_result"
    }
   ],
   "source": [
    "df.rename(columns={'transcript': 'transcript_json'}, inplace=True)\n",
    "df.head()"
   ]
  },
  {
   "cell_type": "code",
   "execution_count": 13,
   "metadata": {},
   "outputs": [
    {
     "name": "stdout",
     "output_type": "stream",
     "text": [
      "What's the first thing you should do when your code throws an error? Obviously, you should change nothing and try to run it again a few times. If that doesn't work, you're gonna need a computer science degree. The awesome thing about software engineering is that you can learn to code and get a high paying job, while literally having no idea how anything actually works. It all just feels like magic. Like a pilot driving a giant metal tube in the sky while knowing nothing about aerodynamics. Mother of God, no. Holy shit. Shit. Welcome to computer science 101. In today's video, you'll learn the science behind the garbage code you've been writing by learning 101 different computer science terms and concepts. This is a computer. It's just a piece of tape that holds ones and zeros along with a device that can read and write to it. It's called a Turing machine and in theory, it can compute anything, like the graphics in this video or the algorithm that recommended that you watch it. At the core of modern computers, we have the central processing unit. If we crack rack it open, we find a piece of silicon that contains billions of tiny transistors, which are like microscopic on off switches. The value at one of these switches is called a bit end is the smallest piece of information a computer can use. However, 1 bit by itself is not very useful, so they come in a package of 8 called a byte. 1 byte can represent 250 6 different values, like all the characters that you type on your keyboard. In fact, when you type into your keyboard, the character produced is actually mapped to a binary value in a character encoding like ASCII or utf8 binary is just a system for counting, like the base ten system you normally use when counting seeing on your fingers, but it only has 2 characters, 1 and 0. Humans have a hard time reading binary, so most often it's represented in a hexadecimal base 16 format, where ten numbers and 6 letters can represent a 4 bit group called a nibble. As a developer, when you write code in a programming language, it will actually be converted into machine code, which is a binary format that can be decoded and executed by the CPU. What it doesn't do though is store data for your applications. For that, computers have random access memory or RAM. It's like a neighborhood, and inside of every house lives a byte. Every location has a memory address, which the CPU can read and write too. You can think of the CPU and RAM as the brain of the computer. But in order for a computer to be useful, it needs to handle input and output. An input device might be the keyboard and mouse, while an output device might be your monitor. Luckily, most developers don't need to worry about how this hardware fits together because we have operating system kernels, like Linux, Mac, and Windows that control all hardware resources via device drivers. Now, to start hacking on the operating system, your first entry point is the shell, which is a program that is the operating system to the end user. It's called a shell because it wraps the kernel. It takes a line of text as input and produces an output. At this is called a command line interface. Not only can it connect to your own computer, but with the secure shell protocol, it can also connect to remote computers a network. Now that you have access to the mainframe, it's time to pick a programming language, which is a tool that uses the abstraction principle to make computers practical to work with for humans by simplifying different systems layer by layer. Some languages like Python are interpreted. That means there's a program called an interpreter that will execute each line of code 1 by 1. Other languages like c plus plus are compiled. They use a compiler to convert the entire program into machine code in advance before the CPU attempts to execute it. This results in an executable file that can be run by the operating system without any extra dependencies. Now every every programming language has a variety of built in data types to represent the data we're working with in our code. Instead of bytes, we work with more human friendly things select characters and numbers. Now, the most fundamental way to use data in your application is to declare a variable. This attaches a name to a data point, allowing you to reuse it somewhere else in your code. Python is a dynamically typed language, which means we don't need to tell the program exactly which data type is assigned to a variable. It just figures it out automatically. However, other languages like C are statically typed, and that means you need to specify the data type of a variable in your code. When you define a variable, its value is stored somewhere in memory on the hardware, and you may need to allocate and free up memory already throughout the program. A pointer is a variable whose value is the memory address of another variable, which can be used for low level memory control. Many languages don't want to deal with low level memory management and instead implement a garbage collector, which automatically allocates and deallocates memory when an object is no longer referenced in the program. Carpet day. No. Now, the data types available are different in every programming language, but typically you'll find int to represent whole numbers, switch may or may not be signed or unsigned to represent negative numbers as well. When numbers require a decimal point, they typically use the floating point type. It's called a float because there's only enough memory to represent a certain range of numbers at a certain precision, and is basically a form of scientific notation to make computers faster. If you need more range or precision, many languages also have a double that doubles the amount of memory used for the number. Now when it comes to characters, you'll typically find the char data type to represent a single character or more commonly a string to represent multiple characters together. Ultimately, these characters triggers get stored in a memory address somewhere, but they need to be stored in a certain order. When the order starts with the most significant byte and the smallest memory address, it's called big endian or vice versa, if the least significant byte is stored in the smallest address, it's called little endian. When it comes to practical software for engineering. One of the most fundamental things we do is organize data into data structures. The most useful data structure is probably the array or list. Just like a shopping list. It organizes multiple data points and order. However, it also maintains an index of integers that starts at 0 and goes up for every new item in the list. That can be useful, but you don't actually need an index to create a list of items. Another option is a link list where each item has a pointer to the next item in front of Another option is a stack that follows the last in first out principle. It's like stacking a set of plates, then when you want to access data, you pop the last one off the top. The inverse option is a q, which is first in first out. Just like when you get into the breadline, the first person there is the first one to be fed. Now, another extremely useful data structure is the hash, which might also be called a map or dictionary. It's like an array, but instead of an index of integers, you define the keys that point to each individual item, giving you a collection of key value pairs. In many cases though, it's not efficient to organize data in a linear way. To address that problem, we have trees, which organize nodes together in a hierarchy that can often be traversed more quickly. This can sometimes be too rigid of data structure though. So instead, a graph can be created to connect multiple nodes together in a virtually unlimited number of ways. A graph has a node for the data and an edge for the relationship between the data points. Data structures are essential, but they don't do anything by themselves. To do something useful, you'll need to code up an algorithm, which is just code that solves a problem. I took the initiative in creating the Internet. In our code, we have several mechanisms for implementing algorithms. The most fundamental of which is a function, which is a block of code that takes an input then does something and returns an output. Like a variable, a function has a name and it can called from other parts of your code with different input parameters called arguments. One thing you might do in the function body is compare one value to another. Every language has a variety of built in operators like equality, greater than, and less than that you can use to compare 2 values. If a is greater than b, then it forms a value of true, but if b is greater than a, then the value is false. True false is what's known as a boolean data type and whenever your code produces value like this, it's known as an expression, but not all code will produce a value. Sometimes your code will simply do something which is known as a statement. A good example is the if statement which handles conditional logic. For example, if the condition is true, it will execute this code, otherwise it will short circuit and run the code inside of the else block. Another very common type of statement is a loop. A while loop will run this block of code over and over again until the condition in the parenthesis becomes false. That can be useful, but more often than not, you'll want to loop over an iterable data type like an array. Most languages have a for loop that can run some code for every object in the array or iterable data structure. Now in some cases, a function may not have an output, which is generally called a void function. An interesting thing about functions is that they can call themselves. When a function calls itself, it's called recursion because when done like this by default, it will recurse forever creating an infinite loop. That happens because when you call a function, the programming language will put it into memory on what's known as the call stack, which is a short term chunk of memory for executing your code. When a function keeps calling itself, the language will keep pushing frames onto the call stack until you get a stack overflow error. To avoid this, your algorithm needs a base condition so it knows when to terminate the loop. Now, when you write an algorithm, you'll need to determine if it's any good, and the system for doing that is called big o notation. It's a standard format for approximating the performance have an algorithm at scale. It may reference time complexity, which is how fast your algorithm will run, and space complexity, which deals with how much memory is required to run it. Developers have many different algorithm types at their disposal. The most crude option is brute force, where you might loop over every possible combination to hack somebody's credit card pin. A more sophisticated approach might be divide and conquer, like binary search where you cut the problem in half multiple times until you find what you're looking for. Another option is dynamic programming algorithms, where a problem is broken down into multiple smaller sub problems and the result of each computation is stored for later use using a technique called memoization. That means if a function has already been called, it will use the existing value instead of recomputing it again from scratch. Then we have greedy algorithms that will make the choice that is most beneficial in the short term without considering the problem as a whole. One example of this is Dijkstra's shortest path algorithm. On the flip side, we have backtracking algorithms, which take a more incremental approach by looking at all the possible options, like a rat in a maze exploring all the different potential paths. Now, when it comes to implementing your code, there are always multiple ways to get the job done. One aiming paradigm is declarative, where your code describes what the program does and the outcome, but doesn't care about things like control flow. This style of programming is often associated with functional languages like Haskell. The other paradigm is imperative programming, where your code uses statements like if and while, providing explicit instructions about how to produce an outcome. It's associated with procedural languages like C. Today, most general purpose languages like Python, JavaScript, Hotline, Swift, and so on are multi paradigm, which means they support all these options at the same time, in addition to object oriented programming. The idea behind OOP is that you use classes to write a blueprint for the data or objects in your code. A class can encapsulate variables, which are commonly called properties, as well as functions, which are usually called methods in this context. It's a common way to organize and reuse code because classes can share behaviors between each other through inheritance, where a subclass can extend and override the behaviors of the parent class. And it opens the door to all kinds have other ideas called design patterns. Now, a class by itself doesn't actually do anything. Instead, it's used to instantiate objects, which are actual chunks of data that live in your computer's memory. Often, you'll want to reference the same object over and over again in your code. When data is long lived, it can't go in the call stack. Instead, most languages have a separate area of memory hold the heap, which unlike the call stack can grow and shrink based on how your application is used. It also allows you to pass objects by reference, which means you can use the same object in multiple variables without increasing the memory footprint because it always points to the same chunk of memory in the heap. Now, what's interesting is that if we go back to the CPU that we talked about in the beginning, you'll notice that it contains multiple threads. A thread takes the physical CPU core in breaks into virtual cores that allow it to run code simultaneously. There are some programming languages that support parallelism where you can write code that literally executes on 2 different threads at the same time. However, many languages out there are only single threaded, but that doesn't mean they can't do 2 things at the same time. Instead, they implement concurrency models like an event loop or coroutines that can pause or delay the normal execution of code to handle multiple job's on a single thread at the same time. Now, in modern computing, we're rarely working with the bare metal CPU and RAM. Instead, we work in the cloud with a virtual machine, which is just a piece set software that simulates hardware that allows us to take really big computers and split them up into a bunch of smaller virtual computers. These machines are the backbone of the Internet and are connected via the Internet protocol. Each machine has a unique IP address to identify it on the network. Work. That IP address is usually alias to a URL that is registered in a global database called the domain name service. Now to establish a connection, in. The 2 computers will perform a TCP handshake, which will allow them to exchange messages called packets. On top of that, there's usually security layer like SSL to encrypt and decrypt the messages over the network. Now the 2 computers can securely share data with the hypertext transfer for protocol. The client may request a web page, then the server will respond with some HTML. Modern servers provide a standardized way for a client to request data, which is called an application programming interface or API. The most common architecture is REST, where URLs are mapped to different data entities available on the server. And that brings us to our final topic, mother effing printers. You're gonna need to learn how these things work inside fighting out, because every time you go to grandma's house, she's going to ask you to fix it, which shouldn't be a problem for a computer scientist like you. Thanks for watching, and I will see you in the next one.\n"
     ]
    }
   ],
   "source": [
    "json_string = df.loc[0, 'transcript_json']\n",
    "\n",
    "# Display the loaded JSON object\n",
    "print(json_string[\"results\"][\"channels\"][0][\"alternatives\"][0][\"transcript\"])"
   ]
  },
  {
   "cell_type": "code",
   "execution_count": 14,
   "metadata": {},
   "outputs": [],
   "source": [
    "import pandas as pd\n",
    "import json\n",
    "\n",
    "# Assuming your DataFrame is named df\n",
    "\n",
    "def parse_json(row):\n",
    "    try:\n",
    "        transcript_json = row['transcript_json']\n",
    "        if transcript_json[\"results\"][\"summary\"][\"result\"] == \"success\":\n",
    "            transcript = str(transcript_json[\"results\"][\"channels\"][0][\"alternatives\"][0][\"transcript\"])\n",
    "            summary = str(transcript_json[\"results\"][\"summary\"][\"short\"])\n",
    "            return transcript, summary\n",
    "        else:\n",
    "            print(\"an error occurred\")\n",
    "            return None, None\n",
    "    except (json.JSONDecodeError, KeyError):\n",
    "        print(\"an exception occurred\")\n",
    "        return None, None\n",
    "\n",
    "# Apply the custom function to each row\n",
    "df[['transcript', 'summary']] = df.apply(parse_json, axis=1, result_type='expand')\n",
    "\n",
    "# Display the updated DataFrame\n",
    "# print(df.head())"
   ]
  },
  {
   "cell_type": "code",
   "execution_count": 15,
   "metadata": {},
   "outputs": [],
   "source": [
    "from datasets import Dataset\n",
    "import pandas as pd\n",
    "final_dataset = Dataset.from_pandas(df)"
   ]
  },
  {
   "cell_type": "code",
   "execution_count": 16,
   "metadata": {},
   "outputs": [
    {
     "data": {
      "text/plain": [
       "Dataset({\n",
       "    features: ['author', 'duration', 'description', 'transcript_json', 'audio_path', 'link', 'title', 'views', 'transcript', 'summary'],\n",
       "    num_rows: 522\n",
       "})"
      ]
     },
     "execution_count": 16,
     "metadata": {},
     "output_type": "execute_result"
    }
   ],
   "source": [
    "final_dataset"
   ]
  },
  {
   "cell_type": "code",
   "execution_count": 17,
   "metadata": {},
   "outputs": [
    {
     "data": {
      "application/vnd.jupyter.widget-view+json": {
       "model_id": "01ca7fe1e5b942ed93d24dab6f4d33d1",
       "version_major": 2,
       "version_minor": 0
      },
      "text/plain": [
       "Uploading the dataset shards:   0%|          | 0/1 [00:00<?, ?it/s]"
      ]
     },
     "metadata": {},
     "output_type": "display_data"
    },
    {
     "data": {
      "application/vnd.jupyter.widget-view+json": {
       "model_id": "1e57a5a923d94ddcb916cda08558296a",
       "version_major": 2,
       "version_minor": 0
      },
      "text/plain": [
       "Creating parquet from Arrow format:   0%|          | 0/1 [00:00<?, ?ba/s]"
      ]
     },
     "metadata": {},
     "output_type": "display_data"
    },
    {
     "data": {
      "application/vnd.jupyter.widget-view+json": {
       "model_id": "1a01f0dbb20447748b2d5ee8e80ef06f",
       "version_major": 2,
       "version_minor": 0
      },
      "text/plain": [
       "README.md:   0%|          | 0.00/3.67k [00:00<?, ?B/s]"
      ]
     },
     "metadata": {},
     "output_type": "display_data"
    },
    {
     "name": "stderr",
     "output_type": "stream",
     "text": [
      "c:\\Projects\\LLM-Cookbook\\LLM-venv\\Lib\\site-packages\\huggingface_hub\\file_download.py:149: UserWarning: `huggingface_hub` cache-system uses symlinks by default to efficiently store duplicated files but your machine does not support them in C:\\Users\\Adithya\\.cache\\huggingface\\hub\\datasets--CognitiveLab--FS_transcribe_summary. Caching files will still work but in a degraded version that might require more space on your disk. This warning can be disabled by setting the `HF_HUB_DISABLE_SYMLINKS_WARNING` environment variable. For more details, see https://huggingface.co/docs/huggingface_hub/how-to-cache#limitations.\n",
      "To support symlinks on Windows, you either need to activate Developer Mode or to run Python as an administrator. In order to see activate developer mode, see this article: https://docs.microsoft.com/en-us/windows/apps/get-started/enable-your-device-for-development\n",
      "  warnings.warn(message)\n"
     ]
    },
    {
     "data": {
      "text/plain": [
       "CommitInfo(commit_url='https://huggingface.co/datasets/CognitiveLab/FS_transcribe_summary/commit/c7075b4ee3b535b8b82347fb018af70df4dffb86', commit_message='Upload dataset', commit_description='', oid='c7075b4ee3b535b8b82347fb018af70df4dffb86', pr_url=None, pr_revision=None, pr_num=None)"
      ]
     },
     "execution_count": 17,
     "metadata": {},
     "output_type": "execute_result"
    }
   ],
   "source": [
    "final_dataset.push_to_hub(\"CognitiveLab/FS_transcribe_summary\")"
   ]
  },
  {
   "cell_type": "markdown",
   "metadata": {},
   "source": [
    "## Prompt formatting"
   ]
  },
  {
   "cell_type": "code",
   "execution_count": 20,
   "metadata": {},
   "outputs": [
    {
     "data": {
      "text/html": [
       "<div>\n",
       "<style scoped>\n",
       "    .dataframe tbody tr th:only-of-type {\n",
       "        vertical-align: middle;\n",
       "    }\n",
       "\n",
       "    .dataframe tbody tr th {\n",
       "        vertical-align: top;\n",
       "    }\n",
       "\n",
       "    .dataframe thead th {\n",
       "        text-align: right;\n",
       "    }\n",
       "</style>\n",
       "<table border=\"1\" class=\"dataframe\">\n",
       "  <thead>\n",
       "    <tr style=\"text-align: right;\">\n",
       "      <th></th>\n",
       "      <th>author</th>\n",
       "      <th>duration</th>\n",
       "      <th>description</th>\n",
       "      <th>transcript_json</th>\n",
       "      <th>audio_path</th>\n",
       "      <th>link</th>\n",
       "      <th>title</th>\n",
       "      <th>views</th>\n",
       "      <th>transcript</th>\n",
       "      <th>summary</th>\n",
       "      <th>text</th>\n",
       "    </tr>\n",
       "  </thead>\n",
       "  <tbody>\n",
       "    <tr>\n",
       "      <th>0</th>\n",
       "      <td>Fireship</td>\n",
       "      <td>787</td>\n",
       "      <td>Learn the fundamentals of Computer Science wit...</td>\n",
       "      <td>{'metadata': {'channels': 1, 'created': '2024-...</td>\n",
       "      <td>downloads\\100+_Computer_Science_Concepts_Expla...</td>\n",
       "      <td>https://www.youtube.com/watch?v=-uleG_Vecis</td>\n",
       "      <td>100+ Computer Science Concepts Explained</td>\n",
       "      <td>2110216</td>\n",
       "      <td>What's the first thing you should do when your...</td>\n",
       "      <td>The importance of hardware and memory for a co...</td>\n",
       "      <td>\\n        [INST]\\n        You are youtuber cal...</td>\n",
       "    </tr>\n",
       "    <tr>\n",
       "      <th>1</th>\n",
       "      <td>Fireship</td>\n",
       "      <td>743</td>\n",
       "      <td>The ultimate 10 minute JavaScript course that ...</td>\n",
       "      <td>{'metadata': {'channels': 1, 'created': '2024-...</td>\n",
       "      <td>downloads\\100+_JavaScript_Concepts_you_Need_to...</td>\n",
       "      <td>https://www.youtube.com/watch?v=lkIFF4maKMU</td>\n",
       "      <td>100+ JavaScript Concepts you Need to Know</td>\n",
       "      <td>1642938</td>\n",
       "      <td>JavaScript. It's a wonderful programming langu...</td>\n",
       "      <td>The speaker explains that JavaScript is a prog...</td>\n",
       "      <td>\\n        [INST]\\n        You are youtuber cal...</td>\n",
       "    </tr>\n",
       "    <tr>\n",
       "      <th>2</th>\n",
       "      <td>Fireship</td>\n",
       "      <td>798</td>\n",
       "      <td>WebDev 101 is a complete introduction into the...</td>\n",
       "      <td>{'metadata': {'channels': 1, 'created': '2024-...</td>\n",
       "      <td>downloads\\100+_Web_Development_Things_you_Shou...</td>\n",
       "      <td>https://www.youtube.com/watch?v=erEgovG9WBs</td>\n",
       "      <td>100+ Web Development Things you Should Know</td>\n",
       "      <td>1296840</td>\n",
       "      <td>Web development is the best job in the world. ...</td>\n",
       "      <td>The internet is a collection of machines conne...</td>\n",
       "      <td>\\n        [INST]\\n        You are youtuber cal...</td>\n",
       "    </tr>\n",
       "    <tr>\n",
       "      <th>3</th>\n",
       "      <td>Fireship</td>\n",
       "      <td>1471</td>\n",
       "      <td>Top 100 Firebase Pro Tips 🔥💯. Optimize your ap...</td>\n",
       "      <td>{'metadata': {'channels': 1, 'created': '2024-...</td>\n",
       "      <td>downloads\\100_Firebase_Tips,_Tricks,_and_Screw...</td>\n",
       "      <td>https://www.youtube.com/watch?v=iWEgpdVSZyg</td>\n",
       "      <td>100 Firebase Tips, Tricks, and Screw-ups</td>\n",
       "      <td>177364</td>\n",
       "      <td>Welcome to my top 10 Firebase tips. Welcome to...</td>\n",
       "      <td>The speakers discuss how to build successful r...</td>\n",
       "      <td>\\n        [INST]\\n        You are youtuber cal...</td>\n",
       "    </tr>\n",
       "    <tr>\n",
       "      <th>4</th>\n",
       "      <td>Fireship</td>\n",
       "      <td>246</td>\n",
       "      <td>Google made a ton of exciting announcements at...</td>\n",
       "      <td>{'metadata': {'channels': 1, 'created': '2024-...</td>\n",
       "      <td>downloads\\10_crazy_announcements_from_Google_I...</td>\n",
       "      <td>https://www.youtube.com/watch?v=nmfRDRNjCnM</td>\n",
       "      <td>10 crazy announcements from Google I/O</td>\n",
       "      <td>968111</td>\n",
       "      <td>It is May 11, 2023, and you're watching the Co...</td>\n",
       "      <td>In this video, the speakers discuss Google's u...</td>\n",
       "      <td>\\n        [INST]\\n        You are youtuber cal...</td>\n",
       "    </tr>\n",
       "  </tbody>\n",
       "</table>\n",
       "</div>"
      ],
      "text/plain": [
       "     author  duration                                        description  \\\n",
       "0  Fireship       787  Learn the fundamentals of Computer Science wit...   \n",
       "1  Fireship       743  The ultimate 10 minute JavaScript course that ...   \n",
       "2  Fireship       798  WebDev 101 is a complete introduction into the...   \n",
       "3  Fireship      1471  Top 100 Firebase Pro Tips 🔥💯. Optimize your ap...   \n",
       "4  Fireship       246  Google made a ton of exciting announcements at...   \n",
       "\n",
       "                                     transcript_json  \\\n",
       "0  {'metadata': {'channels': 1, 'created': '2024-...   \n",
       "1  {'metadata': {'channels': 1, 'created': '2024-...   \n",
       "2  {'metadata': {'channels': 1, 'created': '2024-...   \n",
       "3  {'metadata': {'channels': 1, 'created': '2024-...   \n",
       "4  {'metadata': {'channels': 1, 'created': '2024-...   \n",
       "\n",
       "                                          audio_path  \\\n",
       "0  downloads\\100+_Computer_Science_Concepts_Expla...   \n",
       "1  downloads\\100+_JavaScript_Concepts_you_Need_to...   \n",
       "2  downloads\\100+_Web_Development_Things_you_Shou...   \n",
       "3  downloads\\100_Firebase_Tips,_Tricks,_and_Screw...   \n",
       "4  downloads\\10_crazy_announcements_from_Google_I...   \n",
       "\n",
       "                                          link  \\\n",
       "0  https://www.youtube.com/watch?v=-uleG_Vecis   \n",
       "1  https://www.youtube.com/watch?v=lkIFF4maKMU   \n",
       "2  https://www.youtube.com/watch?v=erEgovG9WBs   \n",
       "3  https://www.youtube.com/watch?v=iWEgpdVSZyg   \n",
       "4  https://www.youtube.com/watch?v=nmfRDRNjCnM   \n",
       "\n",
       "                                         title    views  \\\n",
       "0     100+ Computer Science Concepts Explained  2110216   \n",
       "1    100+ JavaScript Concepts you Need to Know  1642938   \n",
       "2  100+ Web Development Things you Should Know  1296840   \n",
       "3     100 Firebase Tips, Tricks, and Screw-ups   177364   \n",
       "4       10 crazy announcements from Google I/O   968111   \n",
       "\n",
       "                                          transcript  \\\n",
       "0  What's the first thing you should do when your...   \n",
       "1  JavaScript. It's a wonderful programming langu...   \n",
       "2  Web development is the best job in the world. ...   \n",
       "3  Welcome to my top 10 Firebase tips. Welcome to...   \n",
       "4  It is May 11, 2023, and you're watching the Co...   \n",
       "\n",
       "                                             summary  \\\n",
       "0  The importance of hardware and memory for a co...   \n",
       "1  The speaker explains that JavaScript is a prog...   \n",
       "2  The internet is a collection of machines conne...   \n",
       "3  The speakers discuss how to build successful r...   \n",
       "4  In this video, the speakers discuss Google's u...   \n",
       "\n",
       "                                                text  \n",
       "0  \\n        [INST]\\n        You are youtuber cal...  \n",
       "1  \\n        [INST]\\n        You are youtuber cal...  \n",
       "2  \\n        [INST]\\n        You are youtuber cal...  \n",
       "3  \\n        [INST]\\n        You are youtuber cal...  \n",
       "4  \\n        [INST]\\n        You are youtuber cal...  "
      ]
     },
     "execution_count": 20,
     "metadata": {},
     "output_type": "execute_result"
    }
   ],
   "source": [
    "import pandas as pd\n",
    "import json\n",
    "\n",
    "# Assuming your DataFrame is named df\n",
    "\n",
    "def create_prompt(row):\n",
    "    try:\n",
    "        author = row[\"author\"]\n",
    "        title = row[\"title\"]\n",
    "        video_transcript = row[\"transcript\"]\n",
    "        video_summary = row[\"summary\"]\n",
    "        # transcript_json = row['transcript_json']\n",
    "        text = f\"\"\"\n",
    "        [INST]\n",
    "        You are youtuber called {author} you make engaging high-intensity and entertaining coding tutorials and tech news. \n",
    "        you covers a wide range of topics relevant to programmers, aiming to help them learn and improve their skills quickly.\n",
    "        \n",
    "        Given the title of the video : {title} \n",
    "        and a small summary : {video_summary}\n",
    "        [/INST]\n",
    "        \n",
    "        Generate the video : {video_transcript}\n",
    "        \"\"\"        \n",
    "        return text\n",
    "\n",
    "    except (json.JSONDecodeError, KeyError):\n",
    "        print(\"an exception occurred\")\n",
    "        return None\n",
    "\n",
    "# Apply the custom function to each row\n",
    "df['text'] = df.apply(create_prompt, axis=1, result_type='expand')\n",
    "\n",
    "# Display the updated DataFrame\n",
    "df.head()"
   ]
  },
  {
   "cell_type": "code",
   "execution_count": 21,
   "metadata": {},
   "outputs": [],
   "source": [
    "from datasets import Dataset\n",
    "import pandas as pd\n",
    "final_dataset = Dataset.from_pandas(df)"
   ]
  },
  {
   "cell_type": "code",
   "execution_count": 22,
   "metadata": {},
   "outputs": [
    {
     "data": {
      "application/vnd.jupyter.widget-view+json": {
       "model_id": "0ec0e4c9e3264b6c96762dd449e502ba",
       "version_major": 2,
       "version_minor": 0
      },
      "text/plain": [
       "Uploading the dataset shards:   0%|          | 0/1 [00:00<?, ?it/s]"
      ]
     },
     "metadata": {},
     "output_type": "display_data"
    },
    {
     "data": {
      "application/vnd.jupyter.widget-view+json": {
       "model_id": "e081529e39ff4d7ca1afdc296ff2caee",
       "version_major": 2,
       "version_minor": 0
      },
      "text/plain": [
       "Creating parquet from Arrow format:   0%|          | 0/1 [00:00<?, ?ba/s]"
      ]
     },
     "metadata": {},
     "output_type": "display_data"
    },
    {
     "data": {
      "text/plain": [
       "CommitInfo(commit_url='https://huggingface.co/datasets/CognitiveLab/FS_transcribe_summary_prompt/commit/a102e80f3b8128bb80e65de560d71efe9bbed9a2', commit_message='Upload dataset', commit_description='', oid='a102e80f3b8128bb80e65de560d71efe9bbed9a2', pr_url=None, pr_revision=None, pr_num=None)"
      ]
     },
     "execution_count": 22,
     "metadata": {},
     "output_type": "execute_result"
    }
   ],
   "source": [
    "final_dataset.push_to_hub(\"CognitiveLab/FS_transcribe_summary_prompt\")"
   ]
  },
  {
   "cell_type": "markdown",
   "metadata": {},
   "source": [
    "## Parsing operation for the api response"
   ]
  },
  {
   "cell_type": "code",
   "execution_count": 31,
   "metadata": {},
   "outputs": [],
   "source": [
    "with open(\"dummy.json\",\"r\") as f:\n",
    "    transcribe_json_list = json.load(f)"
   ]
  },
  {
   "cell_type": "code",
   "execution_count": 36,
   "metadata": {},
   "outputs": [
    {
     "data": {
      "text/plain": [
       "\"Have you ever woken up in the middle of the night in a panic wondering how to extract a polygonal mesh of an isosurface from a 3 dimensional discrete scalar field? Yeah. I didn't think so. But back in 87, 2 programmers at General Electric did. They created and patented the marching cubes algorithm, an algorithm that has likely saved countless lives by allowing doctors to visualize data from CT and MRI scans. Whenever you instruct a machine to solve a problem with code, you're creating an algorithm, a procedure for rearranging ones and zeros that can make animals talk and vacuums walk. Most algorithms belong in a dumpster, but some are fast, skin. Some are beautiful and some are so weird, they're indistinguishable from magic. Today, we'll look at 10 of the most interesting algorithms ever engineered sphere, and how they're used to solve very interesting problems in the real world. 1st on the list, we have wave function collapse. One of the weirdest things in all of science is the double slit experiment, where particles behave like a wave when you're not looking, but when you look, they suddenly collapse down to a particle. It seems counterintuitive, but it makes total sense when you realize we're living in a simulation and the universe wrote algorithm to cut down on its AWS build. It's an interesting concept to think about philosophically, but the general idea behind wave function collapse can also be implemented programmatically. Imagine we have a map for a video game, but what if this is a side scrolling game that can go on for eternity? We can't just make a bigger map, we need an algorithm to procedurally generate it on the fly. What's so weird is that we can take this initial map and think of it as being in the initial superposition of all possibilities. It's the wave function. Then upon observation, it collapses into a particle. Or in other words, it selects a random map tile but follows a consistent set of rules, like in this case, making sure that the roads are always connected, providing a random yet cohesive result and doesn't rely on any sort of modern generative AI. Speaking of which, AI is weird as hell. Diffusion is a machine learning algorithm originally developed at OpenAI and is the magic behind image generators like DALL E and Stable Diffusion. But the concept of diffusion actually comes from thermodynamics, where particles spread from areas of higher concentration to lower concentration. In artificial intelligence, the process is reversed. The algorithm starts by generating random noise, which would be like high entropy and thermodynamics, and gradually refines it to a structured image, which would be lower entropy. But first, you'll need to train model that can do this well. The diffusion algorithm works in 2 phases. In the forward phase, it gradually adds noise to an image step by step until it becomes completely random. In the second phase, the algorithm reverses this process, reconstructing it back into a coherent image. When the algorithm runs over millions of labeled images, we get a collection of weights that can be used to generate new images out of thin air, allowing us to build an infinite army OnlyFans models. It's highly compute intensive, but also works well on audio. And the next frontier is diffusion for video generation. But now Now let's talk about simulated annealing. One frustrating thing about programming is that for many problems, there's not just one solution, but many solutions. Like an Amazon warehouse has many different ways to organize its inventory, but some ways are more efficient than others. Annealing is a word that comes from metallurgy, where metals are skid heated up and cooled down over and over again to remove defects. The same idea is used in optimization algorithms to find the best answer or n a c of good answers. Imagine trying to find the highest point in a mountain range full of peaks and valleys. A simple hill climb algorithm won't work because there are many local peaks. Initially, the temperature sky allowing the algorithm to explore freely. As time goes on though, the temperature is lowered, which decreases the probability of accepting a worse solution. The off here is exploration versus exploitation. But the reason I included this algorithm is because it's also a good way for beginners to learn how to code. Initially, you start out exploring all kinds of different technologies and frameworks, then eventually you find one specific area to exploit and specialize in. But we can't talk about algorithms without talking about sorting. And the most ingenious sorting algorithm of all time is without a doubt, sleep sort. The majority of sane sorting algorithms out there use strategies like divide conquer to break up an array into subarrays where it can be sorted more efficiently. However, some random genius on 4 chan found a better way, but it's a bit unconventional. Here's what the code looks like in bash. It's incredibly simple. It loops over the array, and then for each element, it opens up a new thread that sleeps for the amount of time proportional to the value of its element. Then finally, after waking up, it prints that element. It's genius because it delegates the sorting to the CPU scheduler. It's also dumb and useless because it delegates sorting to the CPU scheduler. Speaking of which, you might be familiar with another useless sorting algorithm, BOGO sort, which tries to sort an array by randomly guessing over and over again. It's like playing the lottery. But what if we apply the same algorithm with quantum mechanics to the multiverse? If we're to trust multiverse science, we know that all possible outcomes exist in separate parallel universes. That means as a developer, if you find yourself with an unsorted array, there's or some other parallel universe where it is sorted. The technology isn't quite there yet, but if we could randomly observe these other universes to find the sorted array, we could then use a portal gun to travel to that universe, which would make our lives much easier. Although, we would obviously have to kill the version of ourself in that universe, but if it's a large array, quantum Bogosort might be worth it. That's purely hypothetical, but one of the most practical and goaded algorithms of all time is SCAR SA, a public key cryptosystem. It's essential for digital security, allowing people on the Internet to lock their mailboxes and sign their letters with a unique signature. But it's based on one simple mathematical reality. Multiplying large numbers to find 2 original large prime numbers is extremely difficult and time like it take your laptop 300,000,000,000,000 years to brute force. Unless quantum computers become a thing, and we can start leveraging Shor's algorithm, which can solve the integer factorization problem exponentially faster than any classical algorithm. Prime factoring is pretty simple, but how this algorithm does it is where things get weird. It relies on concepts like cubits, skits superposition and entanglement to perform massive amounts of calculations in parallel. The algorithm is legit, but so far, the biggest number ever factored is 21. Even IBM's state of the art Q System 1 fails when trying to factor the number 35. However, just recently, skin. The Chinese factored this big ass number with a quantum computer, but it uses a different algorithm that doesn't scale very well for large numbers unlike Shor's algorithm. Everything is safe for now, but when someone figures out how to make quantum computers work, expect all hell to break loose in the cybersecurity world. At the beginning of this video, I mentioned the marching cubes algorithm, but it deserves a closer look. So first, we start with a 3 d scalar field, which might represent data from an MRI machine. Each point in the 3 d space is represented by a single number or a scalar. The algorithm starts with a single point, then takes its 8 neighboring locations to form an cube, but treats the eight values as a bit in an 8 bit integer. This results in 256 different possibilities, which point to a precalculated array of polygons. The algorithm marches through each point to create a 3 d mesh that can be used in 3 d software. And at the time, this was really cool because as MRI machines produce slices of data that can now be rendered in 3 d. In modern times, though, we're often dealing with distributed systems in the cloud, And that brings us to the Byzantine generals problem. Imagine you're a general in the Byzantine army. You're camped around a city with a few other generals with plans to attack it the next morning. But what if one of the generals skitrunk and wakes up too hungover to attack. The entire system could collapse. Computers have the same problem. Sometimes they might fail or be infiltrated by hackers, and you never know when or where that's going to happen. Luckily, algorithms like PBFT are designed to solve this. They can keep a distributed network working properly even if up to 1 third of its nodes go haywire. It works by having a node broadcast a pre prepare message to other nodes, indicating its readiness to execute some code that will change the system. The other nodes will respond back in agreement. Then after a certain threshold, a consensus is formed. Once there's a consensus, The original node sends back a commit message to all the other nodes, which can then all execute the changes, making the entire state of the system consistent. Algorithms like this are essential for blockchain technology and things like distributed cloud databases. What's really cool about algorithms, though, is that they can also reflect nature, like Boyd's artificial life program. It was created back in 86 and simulates the flocking behavior of birds. What's so cool about it is that it demonstrates the emergent complexity or beauty that we get out of just a few simple rules. In this case, the birdoids have three rules. They steer to avoid crowding, they steer towards the average heading of the flock, and they steer towards the center of mass of their local flockmates. The end result are these intricate patterns that weren't programmed directly, but just emerge naturally. But finally, that brings us to an old algorithm that blew my mind just the other day and inspired this video, Boyer Moore string search. It's weird because it becomes faster and more efficient as the string it's searching becomes bigger. That seems impossible, but it makes sense when you understand the algorithm. It scans skin's text from right to left, then has two rules. When it encounters a bad character not found in the search pattern, it jumps past it based on an estimation made in a preprocess table. Scale. Likewise, if it finds a partial match, then a mismatch occurs. It has a separate pre calculated table that maximizes the number of characters it can safely skip. These rules are called heuristics, which are like functions that are not guaranteed to be perfect, but are far more practical than looping over every single character. In this case, the algorithm gets faster with more text because it's able to skip a higher proportion of characters. And if you've ever wondered why GREP is so fast, you have this algorithm to thank.\""
      ]
     },
     "execution_count": 36,
     "metadata": {},
     "output_type": "execute_result"
    }
   ],
   "source": [
    "transcribe_json_list[0][\"results\"][\"channels\"][0][\"alternatives\"][0][\"transcript\"]"
   ]
  },
  {
   "cell_type": "code",
   "execution_count": 38,
   "metadata": {},
   "outputs": [
    {
     "data": {
      "text/plain": [
       "'success'"
      ]
     },
     "execution_count": 38,
     "metadata": {},
     "output_type": "execute_result"
    }
   ],
   "source": [
    "transcribe_json_list[0][\"results\"][\"summary\"][\"result\"]"
   ]
  },
  {
   "cell_type": "code",
   "execution_count": 39,
   "metadata": {},
   "outputs": [
    {
     "data": {
      "text/plain": [
       "'The speakers discuss the use of algorithms in scientific research, including random random algorithms like BOGO sort and BOGO sort to solve problems in scientific research, and the potential uses of these algorithms in optimizing algorithms and algorithms for algorithms. They also touch on the use of quantum algorithms in machine design and the future of digital security, including the use of random random random random random random random random random random random random random random random random random random random random random random random random random random random random random random random random random random random random random random random random random random random random random random random random random random random random random random random random random random random random random random random random random random random random random random random random random random random random random random random random random random random random random random random random random random random random random random random random random random random random random random random random random random random random random random random random random random random random random random random random random random random random random random random random random'"
      ]
     },
     "execution_count": 39,
     "metadata": {},
     "output_type": "execute_result"
    }
   ],
   "source": [
    "transcribe_json_list[0][\"results\"][\"summary\"][\"short\"]"
   ]
  },
  {
   "cell_type": "code",
   "execution_count": null,
   "metadata": {},
   "outputs": [],
   "source": [
    "from tqdm import tqdm\n",
    "\n",
    "final_dataset = []\n",
    "# for video_link in tqdm(video_links, desc='Processing videos', unit='video'):\n",
    "for transcribe_json in tqdm(transcribe_json_list,desc='Processing transcribe'):\n",
    "    transcribe = transcribe_json[\"results\"][\"channels\"][0][\"alternatives\"][0][\"transcript\"]\n",
    "    if transcribe_json[\"results\"][\"summary\"][\"result\"]==\"success\":\n",
    "        summary = transcribe_json[\"results\"][\"summary\"][\"short\"]\n",
    "    final_json = {\n",
    "        \"transcribe\": transcribe,\n",
    "        \"summary\": summary\n",
    "    }\n",
    "    final_dataset.append(final_json)\n",
    "\n",
    "with open(\"transcribe_data_final_processed.json\", \"w\") as output:\n",
    "    json.dump(final_dataset, output)\n",
    "    "
   ]
  },
  {
   "cell_type": "code",
   "execution_count": null,
   "metadata": {},
   "outputs": [],
   "source": [
    "transcribe_json_list[0][\"channels\"]"
   ]
  },
  {
   "cell_type": "code",
   "execution_count": null,
   "metadata": {},
   "outputs": [],
   "source": [
    "final_dataset_transcribe = load_dataset(\"json\",data_files=\"./transcribe_data_final.json\")"
   ]
  },
  {
   "cell_type": "code",
   "execution_count": null,
   "metadata": {},
   "outputs": [],
   "source": [
    "final_dataset_transcribe.push_to_hub(\"CognitiveLab/FS_transcribe_summary\")"
   ]
  },
  {
   "cell_type": "code",
   "execution_count": null,
   "metadata": {},
   "outputs": [],
   "source": [
    "final_dataset_transcribe"
   ]
  },
  {
   "cell_type": "code",
   "execution_count": null,
   "metadata": {},
   "outputs": [],
   "source": [
    "final_dataset_transcribe[\"train\"][1]"
   ]
  },
  {
   "cell_type": "code",
   "execution_count": null,
   "metadata": {},
   "outputs": [],
   "source": [
    "import json\n",
    "with open(\"./video_data_and_transcripts.json\") as F:\n",
    "    json_data = json.load(F)"
   ]
  },
  {
   "cell_type": "code",
   "execution_count": null,
   "metadata": {},
   "outputs": [],
   "source": [
    "len(json_data)"
   ]
  }
 ],
 "metadata": {
  "kernelspec": {
   "display_name": "Python 3",
   "language": "python",
   "name": "python3"
  },
  "language_info": {
   "codemirror_mode": {
    "name": "ipython",
    "version": 3
   },
   "file_extension": ".py",
   "mimetype": "text/x-python",
   "name": "python",
   "nbconvert_exporter": "python",
   "pygments_lexer": "ipython3",
   "version": "3.11.0"
  }
 },
 "nbformat": 4,
 "nbformat_minor": 2
}
