{
 "cells": [
  {
   "cell_type": "code",
   "execution_count": 8,
   "metadata": {},
   "outputs": [
    {
     "name": "stdout",
     "output_type": "stream",
     "text": [
      "Requirement already satisfied: pytube in c:\\python311\\lib\\site-packages (15.0.0)\n"
     ]
    }
   ],
   "source": [
    "!pip install pytube --user"
   ]
  },
  {
   "cell_type": "code",
   "execution_count": null,
   "metadata": {},
   "outputs": [],
   "source": [
    "import os\n",
    "import json\n",
    "from pytube import YouTube\n",
    "\n",
    "def download_video_info(video_url, output_directory='downloads'):\n",
    "    try:\n",
    "        # Create a YouTube object\n",
    "        yt = YouTube(video_url)\n",
    "\n",
    "        # Create a directory for downloads if it doesn't exist\n",
    "        if not os.path.exists(output_directory):\n",
    "            os.makedirs(output_directory)\n",
    "\n",
    "        # Get the highest resolution audio stream\n",
    "        audio_stream = yt.streams.filter(only_audio=True).first()\n",
    "\n",
    "        # Download the audio stream\n",
    "        audio_path = os.path.join(output_directory)\n",
    "        print(f\"Downloading audio to {audio_path}...\")\n",
    "        audio_stream.download(output_directory,filename=f'{yt.title}.mp3')\n",
    "\n",
    "        # Collect video information\n",
    "        video_info = {\n",
    "            'title': yt.title,\n",
    "            'duration': yt.length,\n",
    "            'author': yt.author,\n",
    "            'views': yt.views,\n",
    "            'description': yt.description,\n",
    "            'audio_path': audio_path\n",
    "        }\n",
    "\n",
    "        return video_info\n",
    "\n",
    "    except Exception as e:\n",
    "        print(f\"An error occurred: {str(e)}\")\n",
    "        return None\n",
    "\n",
    "def process_video_links(file_path):\n",
    "    with open(file_path, 'r') as file:\n",
    "        video_links = file.readlines()\n",
    "\n",
    "    video_data_list = []\n",
    "\n",
    "    for video_link in video_links:\n",
    "        video_link = video_link.strip()\n",
    "        video_info = download_video_info(video_link)\n",
    "        \n",
    "        if video_info:\n",
    "            video_data_list.append(video_info)\n",
    "\n",
    "    # Save video data to a JSON file\n",
    "    output_json_path = 'video_data.json'\n",
    "    with open(output_json_path, 'w') as json_file:\n",
    "        json.dump(video_data_list, json_file, indent=2)\n",
    "\n",
    "    print(f'Video data saved to {output_json_path}')\n",
    "\n",
    "# Replace 'YOUR_TEXT_FILE_PATH' with the path to your text file containing video links\n",
    "text_file_path = './YT_Clones/Fireship_clone/@'\n",
    "\n",
    "# Process video links and save data to JSON\n",
    "process_video_links(text_file_path)"
   ]
  }
 ],
 "metadata": {
  "kernelspec": {
   "display_name": "Python 3",
   "language": "python",
   "name": "python3"
  },
  "language_info": {
   "codemirror_mode": {
    "name": "ipython",
    "version": 3
   },
   "file_extension": ".py",
   "mimetype": "text/x-python",
   "name": "python",
   "nbconvert_exporter": "python",
   "pygments_lexer": "ipython3",
   "version": "3.11.0"
  }
 },
 "nbformat": 4,
 "nbformat_minor": 2
}
