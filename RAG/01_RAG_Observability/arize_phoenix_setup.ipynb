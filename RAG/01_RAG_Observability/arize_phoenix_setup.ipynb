{
 "cells": [
  {
   "cell_type": "markdown",
   "metadata": {},
   "source": [
    "# RAG Observability - Arize Phoenix Setup\n",
    "\n",
    "Welcome to this notebook, where we explore the setup and observation of a Retrieval-Augmented Generation (RAG) pipeline using Llama Index."
   ]
  },
  {
   "cell_type": "markdown",
   "metadata": {},
   "source": [
    "## Table of Contents\n",
    "\n",
    "1. [Introduction](#introduction)\n",
    "2. [Getting Started](#getting-started)\n",
    "3. [Usage](#usage)\n",
    "4. [Conclusion](#conclusion)\n"
   ]
  },
  {
   "cell_type": "markdown",
   "metadata": {},
   "source": [
    "## Introduction\n",
    "\n",
    "This guide provides a comprehensive walkthrough for configuring the necessary tools and libraries, including embedding models and vector store indexing, to enable efficient document retrieval and query processing. We’ll cover everything from installation and setup to querying and retrieving relevant information, equipping you with the knowledge to harness the power of RAG pipelines for advanced search capabilities."
   ]
  },
  {
   "cell_type": "markdown",
   "metadata": {},
   "source": [
    "## Getting Started\n",
    "\n",
    "To get started with this notebook, you'll need to have a basic understanding of Python and some familiarity with machine learning concepts. Don't worry if you're new to some of these ideas – we'll guide you through each step!\n",
    "\n",
    "### Prerequisites\n",
    "\n",
    "- Python 3.7+\n",
    "- Jupyter Notebook or JupyterLab\n",
    "- Basic knowledge of Python and machine learning concepts"
   ]
  },
  {
   "cell_type": "markdown",
   "metadata": {},
   "source": [
    "## Usage\n",
    "\n",
    "## 1. Setup\n",
    "\n",
    "### 1.1 Install required packages\n",
    "\n",
    "To get started with setting up Arize Phoenix, you'll need to install the required packages.\n",
    "\n",
    "Arize Phoenix is a comprehensive tool designed for observability and monitoring in machine learning and AI systems. It provides functionalities for tracking and analyzing various aspects of machine learning models and data pipelines."
   ]
  },
  {
   "cell_type": "code",
   "execution_count": 5,
   "metadata": {},
   "outputs": [
    {
     "name": "stdout",
     "output_type": "stream",
     "text": [
      "Defaulting to user installation because normal site-packages is not writeable\n",
      "Requirement already satisfied: arize-phoenix in c:\\users\\chandana\\appdata\\roaming\\python\\python311\\site-packages (4.32.0)\n",
      "Requirement already satisfied: aioitertools in c:\\users\\chandana\\appdata\\roaming\\python\\python311\\site-packages (from arize-phoenix) (0.12.0)\n",
      "Requirement already satisfied: aiosqlite in c:\\users\\chandana\\appdata\\roaming\\python\\python311\\site-packages (from arize-phoenix) (0.20.0)\n",
      "Requirement already satisfied: alembic<2,>=1.3.0 in c:\\users\\chandana\\appdata\\roaming\\python\\python311\\site-packages (from arize-phoenix) (1.13.2)\n",
      "Requirement already satisfied: arize-phoenix-evals>=0.13.1 in c:\\users\\chandana\\appdata\\roaming\\python\\python311\\site-packages (from arize-phoenix) (0.15.1)\n",
      "Requirement already satisfied: arize-phoenix-otel>=0.4.1 in c:\\users\\chandana\\appdata\\roaming\\python\\python311\\site-packages (from arize-phoenix) (0.4.1)\n",
      "Requirement already satisfied: cachetools in c:\\users\\chandana\\appdata\\roaming\\python\\python311\\site-packages (from arize-phoenix) (5.3.1)\n",
      "Requirement already satisfied: fastapi in c:\\users\\chandana\\appdata\\roaming\\python\\python311\\site-packages (from arize-phoenix) (0.112.2)\n",
      "Requirement already satisfied: grpcio in c:\\users\\chandana\\appdata\\roaming\\python\\python311\\site-packages (from arize-phoenix) (1.66.0)\n",
      "Requirement already satisfied: hdbscan>=0.8.33 in c:\\users\\chandana\\appdata\\roaming\\python\\python311\\site-packages (from arize-phoenix) (0.8.38.post1)\n",
      "Requirement already satisfied: httpx in c:\\users\\chandana\\appdata\\roaming\\python\\python311\\site-packages (from arize-phoenix) (0.27.0)\n",
      "Requirement already satisfied: jinja2 in c:\\users\\chandana\\appdata\\roaming\\python\\python311\\site-packages (from arize-phoenix) (3.1.2)\n",
      "Requirement already satisfied: numpy<2 in c:\\users\\chandana\\appdata\\roaming\\python\\python311\\site-packages (from arize-phoenix) (1.26.1)\n",
      "Requirement already satisfied: openinference-instrumentation-langchain>=0.1.26 in c:\\users\\chandana\\appdata\\roaming\\python\\python311\\site-packages (from arize-phoenix) (0.1.27)\n",
      "Requirement already satisfied: openinference-instrumentation-llama-index>=2.2.1 in c:\\users\\chandana\\appdata\\roaming\\python\\python311\\site-packages (from arize-phoenix) (3.0.0)\n",
      "Requirement already satisfied: openinference-instrumentation-openai>=0.1.11 in c:\\users\\chandana\\appdata\\roaming\\python\\python311\\site-packages (from arize-phoenix) (0.1.14)\n",
      "Requirement already satisfied: openinference-instrumentation>=0.1.12 in c:\\users\\chandana\\appdata\\roaming\\python\\python311\\site-packages (from arize-phoenix) (0.1.15)\n",
      "Requirement already satisfied: openinference-semantic-conventions>=0.1.9 in c:\\users\\chandana\\appdata\\roaming\\python\\python311\\site-packages (from arize-phoenix) (0.1.10)\n",
      "Requirement already satisfied: opentelemetry-exporter-otlp in c:\\users\\chandana\\appdata\\roaming\\python\\python311\\site-packages (from arize-phoenix) (1.27.0)\n",
      "Requirement already satisfied: opentelemetry-proto>=1.12.0 in c:\\users\\chandana\\appdata\\roaming\\python\\python311\\site-packages (from arize-phoenix) (1.27.0)\n",
      "Requirement already satisfied: opentelemetry-sdk in c:\\users\\chandana\\appdata\\roaming\\python\\python311\\site-packages (from arize-phoenix) (1.27.0)\n",
      "Requirement already satisfied: opentelemetry-semantic-conventions in c:\\users\\chandana\\appdata\\roaming\\python\\python311\\site-packages (from arize-phoenix) (0.48b0)\n",
      "Requirement already satisfied: pandas>=1.0 in c:\\users\\chandana\\appdata\\roaming\\python\\python311\\site-packages (from arize-phoenix) (2.0.0)\n",
      "Requirement already satisfied: protobuf<6.0,>=3.20 in c:\\users\\chandana\\appdata\\roaming\\python\\python311\\site-packages (from arize-phoenix) (4.25.4)\n",
      "Requirement already satisfied: psutil in c:\\users\\chandana\\appdata\\roaming\\python\\python311\\site-packages (from arize-phoenix) (5.9.7)\n",
      "Requirement already satisfied: pyarrow in c:\\users\\chandana\\appdata\\roaming\\python\\python311\\site-packages (from arize-phoenix) (17.0.0)\n",
      "Requirement already satisfied: pydantic!=2.0.*,<3,>=1.0 in c:\\users\\chandana\\appdata\\roaming\\python\\python311\\site-packages (from arize-phoenix) (2.8.2)\n",
      "Requirement already satisfied: pyjwt in c:\\users\\chandana\\appdata\\roaming\\python\\python311\\site-packages (from arize-phoenix) (2.9.0)\n",
      "Requirement already satisfied: python-multipart in c:\\users\\chandana\\appdata\\roaming\\python\\python311\\site-packages (from arize-phoenix) (0.0.9)\n",
      "Requirement already satisfied: scikit-learn in c:\\users\\chandana\\appdata\\roaming\\python\\python311\\site-packages (from arize-phoenix) (1.5.1)\n",
      "Requirement already satisfied: scipy in c:\\users\\chandana\\appdata\\roaming\\python\\python311\\site-packages (from arize-phoenix) (1.14.1)\n",
      "Requirement already satisfied: sqlalchemy[asyncio]<3,>=2.0.4 in c:\\users\\chandana\\appdata\\roaming\\python\\python311\\site-packages (from arize-phoenix) (2.0.32)\n",
      "Requirement already satisfied: sqlean-py>=3.45.1 in c:\\users\\chandana\\appdata\\roaming\\python\\python311\\site-packages (from arize-phoenix) (3.45.1)\n",
      "Requirement already satisfied: starlette in c:\\users\\chandana\\appdata\\roaming\\python\\python311\\site-packages (from arize-phoenix) (0.38.4)\n",
      "Requirement already satisfied: strawberry-graphql==0.236.0 in c:\\users\\chandana\\appdata\\roaming\\python\\python311\\site-packages (from arize-phoenix) (0.236.0)\n",
      "Requirement already satisfied: tqdm in c:\\users\\chandana\\appdata\\roaming\\python\\python311\\site-packages (from arize-phoenix) (4.66.5)\n",
      "Requirement already satisfied: typing-extensions>=4.5 in c:\\users\\chandana\\appdata\\roaming\\python\\python311\\site-packages (from arize-phoenix) (4.12.2)\n",
      "Requirement already satisfied: umap-learn in c:\\users\\chandana\\appdata\\roaming\\python\\python311\\site-packages (from arize-phoenix) (0.5.6)\n",
      "Requirement already satisfied: uvicorn in c:\\users\\chandana\\appdata\\roaming\\python\\python311\\site-packages (from arize-phoenix) (0.30.6)\n",
      "Requirement already satisfied: wrapt in c:\\users\\chandana\\appdata\\roaming\\python\\python311\\site-packages (from arize-phoenix) (1.14.1)\n",
      "Requirement already satisfied: graphql-core<3.3.0,>=3.2.0 in c:\\users\\chandana\\appdata\\roaming\\python\\python311\\site-packages (from strawberry-graphql==0.236.0->arize-phoenix) (3.2.3)\n",
      "Requirement already satisfied: python-dateutil<3.0.0,>=2.7.0 in c:\\users\\chandana\\appdata\\roaming\\python\\python311\\site-packages (from strawberry-graphql==0.236.0->arize-phoenix) (2.8.2)\n",
      "Requirement already satisfied: Mako in c:\\users\\chandana\\appdata\\roaming\\python\\python311\\site-packages (from alembic<2,>=1.3.0->arize-phoenix) (1.3.5)\n",
      "Requirement already satisfied: joblib>=1.0 in c:\\users\\chandana\\appdata\\roaming\\python\\python311\\site-packages (from hdbscan>=0.8.33->arize-phoenix) (1.4.2)\n",
      "Requirement already satisfied: opentelemetry-api in c:\\users\\chandana\\appdata\\roaming\\python\\python311\\site-packages (from openinference-instrumentation>=0.1.12->arize-phoenix) (1.27.0)\n",
      "Requirement already satisfied: opentelemetry-instrumentation in c:\\users\\chandana\\appdata\\roaming\\python\\python311\\site-packages (from openinference-instrumentation-langchain>=0.1.26->arize-phoenix) (0.48b0)\n",
      "Requirement already satisfied: pytz>=2020.1 in c:\\users\\chandana\\appdata\\roaming\\python\\python311\\site-packages (from pandas>=1.0->arize-phoenix) (2023.3)\n",
      "Requirement already satisfied: tzdata>=2022.1 in c:\\users\\chandana\\appdata\\roaming\\python\\python311\\site-packages (from pandas>=1.0->arize-phoenix) (2023.3)\n",
      "Requirement already satisfied: annotated-types>=0.4.0 in c:\\users\\chandana\\appdata\\roaming\\python\\python311\\site-packages (from pydantic!=2.0.*,<3,>=1.0->arize-phoenix) (0.7.0)\n",
      "Requirement already satisfied: pydantic-core==2.20.1 in c:\\users\\chandana\\appdata\\roaming\\python\\python311\\site-packages (from pydantic!=2.0.*,<3,>=1.0->arize-phoenix) (2.20.1)\n",
      "Requirement already satisfied: threadpoolctl>=3.1.0 in c:\\users\\chandana\\appdata\\roaming\\python\\python311\\site-packages (from scikit-learn->arize-phoenix) (3.5.0)\n",
      "Requirement already satisfied: greenlet!=0.4.17 in c:\\users\\chandana\\appdata\\roaming\\python\\python311\\site-packages (from sqlalchemy[asyncio]<3,>=2.0.4->arize-phoenix) (3.0.3)\n",
      "Requirement already satisfied: anyio<5,>=3.4.0 in c:\\users\\chandana\\appdata\\roaming\\python\\python311\\site-packages (from starlette->arize-phoenix) (4.2.0)\n",
      "Requirement already satisfied: certifi in c:\\users\\chandana\\appdata\\roaming\\python\\python311\\site-packages (from httpx->arize-phoenix) (2023.7.22)\n",
      "Requirement already satisfied: httpcore==1.* in c:\\users\\chandana\\appdata\\roaming\\python\\python311\\site-packages (from httpx->arize-phoenix) (1.0.5)\n",
      "Requirement already satisfied: idna in c:\\users\\chandana\\appdata\\roaming\\python\\python311\\site-packages (from httpx->arize-phoenix) (3.4)\n",
      "Requirement already satisfied: sniffio in c:\\users\\chandana\\appdata\\roaming\\python\\python311\\site-packages (from httpx->arize-phoenix) (1.3.0)\n",
      "Requirement already satisfied: h11<0.15,>=0.13 in c:\\users\\chandana\\appdata\\roaming\\python\\python311\\site-packages (from httpcore==1.*->httpx->arize-phoenix) (0.14.0)\n",
      "Requirement already satisfied: MarkupSafe>=2.0 in c:\\users\\chandana\\appdata\\roaming\\python\\python311\\site-packages (from jinja2->arize-phoenix) (2.1.3)\n",
      "Requirement already satisfied: opentelemetry-exporter-otlp-proto-grpc==1.27.0 in c:\\users\\chandana\\appdata\\roaming\\python\\python311\\site-packages (from opentelemetry-exporter-otlp->arize-phoenix) (1.27.0)\n",
      "Requirement already satisfied: opentelemetry-exporter-otlp-proto-http==1.27.0 in c:\\users\\chandana\\appdata\\roaming\\python\\python311\\site-packages (from opentelemetry-exporter-otlp->arize-phoenix) (1.27.0)\n",
      "Requirement already satisfied: deprecated>=1.2.6 in c:\\users\\chandana\\appdata\\roaming\\python\\python311\\site-packages (from opentelemetry-exporter-otlp-proto-grpc==1.27.0->opentelemetry-exporter-otlp->arize-phoenix) (1.2.14)\n",
      "Requirement already satisfied: googleapis-common-protos~=1.52 in c:\\users\\chandana\\appdata\\roaming\\python\\python311\\site-packages (from opentelemetry-exporter-otlp-proto-grpc==1.27.0->opentelemetry-exporter-otlp->arize-phoenix) (1.61.0)\n",
      "Requirement already satisfied: opentelemetry-exporter-otlp-proto-common==1.27.0 in c:\\users\\chandana\\appdata\\roaming\\python\\python311\\site-packages (from opentelemetry-exporter-otlp-proto-grpc==1.27.0->opentelemetry-exporter-otlp->arize-phoenix) (1.27.0)\n",
      "Requirement already satisfied: requests~=2.7 in c:\\users\\chandana\\appdata\\roaming\\python\\python311\\site-packages (from opentelemetry-exporter-otlp-proto-http==1.27.0->opentelemetry-exporter-otlp->arize-phoenix) (2.31.0)\n",
      "Requirement already satisfied: importlib-metadata<=8.4.0,>=6.0 in c:\\users\\chandana\\appdata\\roaming\\python\\python311\\site-packages (from opentelemetry-api->openinference-instrumentation>=0.1.12->arize-phoenix) (8.4.0)\n",
      "Requirement already satisfied: colorama in c:\\users\\chandana\\appdata\\roaming\\python\\python311\\site-packages (from tqdm->arize-phoenix) (0.4.6)\n",
      "Requirement already satisfied: numba>=0.51.2 in c:\\users\\chandana\\appdata\\roaming\\python\\python311\\site-packages (from umap-learn->arize-phoenix) (0.60.0)\n",
      "Requirement already satisfied: pynndescent>=0.5 in c:\\users\\chandana\\appdata\\roaming\\python\\python311\\site-packages (from umap-learn->arize-phoenix) (0.5.13)\n",
      "Requirement already satisfied: click>=7.0 in c:\\users\\chandana\\appdata\\roaming\\python\\python311\\site-packages (from uvicorn->arize-phoenix) (8.1.7)\n",
      "Requirement already satisfied: llvmlite<0.44,>=0.43.0dev0 in c:\\users\\chandana\\appdata\\roaming\\python\\python311\\site-packages (from numba>=0.51.2->umap-learn->arize-phoenix) (0.43.0)\n",
      "Requirement already satisfied: six>=1.5 in c:\\users\\chandana\\appdata\\roaming\\python\\python311\\site-packages (from python-dateutil<3.0.0,>=2.7.0->strawberry-graphql==0.236.0->arize-phoenix) (1.16.0)\n",
      "Requirement already satisfied: setuptools>=16.0 in c:\\program files\\python311\\lib\\site-packages (from opentelemetry-instrumentation->openinference-instrumentation-langchain>=0.1.26->arize-phoenix) (65.5.0)\n",
      "Requirement already satisfied: zipp>=0.5 in c:\\users\\chandana\\appdata\\roaming\\python\\python311\\site-packages (from importlib-metadata<=8.4.0,>=6.0->opentelemetry-api->openinference-instrumentation>=0.1.12->arize-phoenix) (3.20.1)\n",
      "Requirement already satisfied: charset-normalizer<4,>=2 in c:\\users\\chandana\\appdata\\roaming\\python\\python311\\site-packages (from requests~=2.7->opentelemetry-exporter-otlp-proto-http==1.27.0->opentelemetry-exporter-otlp->arize-phoenix) (3.3.0)\n",
      "Requirement already satisfied: urllib3<3,>=1.21.1 in c:\\users\\chandana\\appdata\\roaming\\python\\python311\\site-packages (from requests~=2.7->opentelemetry-exporter-otlp-proto-http==1.27.0->opentelemetry-exporter-otlp->arize-phoenix) (1.26.18)\n"
     ]
    },
    {
     "name": "stderr",
     "output_type": "stream",
     "text": [
      "\n",
      "[notice] A new release of pip is available: 23.0.1 -> 24.2\n",
      "[notice] To update, run: python.exe -m pip install --upgrade pip\n"
     ]
    },
    {
     "name": "stdout",
     "output_type": "stream",
     "text": [
      "Defaulting to user installation because normal site-packages is not writeable\n",
      "Requirement already satisfied: openinference-instrumentation-openai in c:\\users\\chandana\\appdata\\roaming\\python\\python311\\site-packages (0.1.14)\n",
      "Requirement already satisfied: openinference-instrumentation>=0.1.12 in c:\\users\\chandana\\appdata\\roaming\\python\\python311\\site-packages (from openinference-instrumentation-openai) (0.1.15)\n",
      "Requirement already satisfied: openinference-semantic-conventions>=0.1.9 in c:\\users\\chandana\\appdata\\roaming\\python\\python311\\site-packages (from openinference-instrumentation-openai) (0.1.10)\n",
      "Requirement already satisfied: opentelemetry-api in c:\\users\\chandana\\appdata\\roaming\\python\\python311\\site-packages (from openinference-instrumentation-openai) (1.27.0)\n",
      "Requirement already satisfied: opentelemetry-instrumentation in c:\\users\\chandana\\appdata\\roaming\\python\\python311\\site-packages (from openinference-instrumentation-openai) (0.48b0)\n",
      "Requirement already satisfied: opentelemetry-semantic-conventions in c:\\users\\chandana\\appdata\\roaming\\python\\python311\\site-packages (from openinference-instrumentation-openai) (0.48b0)\n",
      "Requirement already satisfied: typing-extensions in c:\\users\\chandana\\appdata\\roaming\\python\\python311\\site-packages (from openinference-instrumentation-openai) (4.12.2)\n",
      "Requirement already satisfied: wrapt in c:\\users\\chandana\\appdata\\roaming\\python\\python311\\site-packages (from openinference-instrumentation-openai) (1.14.1)\n",
      "Requirement already satisfied: deprecated>=1.2.6 in c:\\users\\chandana\\appdata\\roaming\\python\\python311\\site-packages (from opentelemetry-api->openinference-instrumentation-openai) (1.2.14)\n",
      "Requirement already satisfied: importlib-metadata<=8.4.0,>=6.0 in c:\\users\\chandana\\appdata\\roaming\\python\\python311\\site-packages (from opentelemetry-api->openinference-instrumentation-openai) (8.4.0)\n",
      "Requirement already satisfied: setuptools>=16.0 in c:\\program files\\python311\\lib\\site-packages (from opentelemetry-instrumentation->openinference-instrumentation-openai) (65.5.0)\n",
      "Requirement already satisfied: zipp>=0.5 in c:\\users\\chandana\\appdata\\roaming\\python\\python311\\site-packages (from importlib-metadata<=8.4.0,>=6.0->opentelemetry-api->openinference-instrumentation-openai) (3.20.1)\n"
     ]
    },
    {
     "name": "stderr",
     "output_type": "stream",
     "text": [
      "\n",
      "[notice] A new release of pip is available: 23.0.1 -> 24.2\n",
      "[notice] To update, run: python.exe -m pip install --upgrade pip\n"
     ]
    }
   ],
   "source": [
    "!pip install arize-phoenix\n",
    "!pip install openinference-instrumentation-openai"
   ]
  },
  {
   "cell_type": "markdown",
   "metadata": {},
   "source": [
    "These commands will install:\n",
    "\n",
    "- `arize-phoenix`: A tool for observability in machine learning workflows.\n",
    "- `openinference-instrumentation-openai`: A package to instrument OpenAI models with observability tools like Arize Phoenix."
   ]
  },
  {
   "cell_type": "markdown",
   "metadata": {},
   "source": [
    "### 1.2 Setting up Arize Phoenix\n",
    "\n",
    "There are 3 ways to do this:\n",
    "\n",
    "Read more [here.](https://docs.arize.com/phoenix/quickstart)\n",
    "\n",
    "- Command Line\n",
    "\n",
    "  ```bash\n",
    "  python3 -m phoenix.server.main serve\n",
    "  ```\n",
    "\n",
    "- Docker\n",
    "\n",
    "  Launch the phoenix docker image using:\n",
    "\n",
    "  ```bash\n",
    "  docker run -p 6006:6006 -p 4317:4317 arizephoenix/phoenix:latest\n",
    "  ```\n",
    "\n",
    "  This will expose the Phoenix UI and REST API on localhost:6006 and exposes the gRPC endpoint for spans on localhost:4317.\n",
    "\n",
    "- Notebook\n",
    "\n",
    "  ```python\n",
    "  import phoenix as px\n",
    "  px.launch_app()\n",
    "  ```"
   ]
  },
  {
   "cell_type": "markdown",
   "metadata": {},
   "source": [
    "### 1.3 Import Required Libraries and Configure the Environment\n",
    "\n",
    "Before proceeding with data processing and evaluation, import the necessary libraries and set up the environment:"
   ]
  },
  {
   "cell_type": "code",
   "execution_count": 6,
   "metadata": {},
   "outputs": [],
   "source": [
    "import json\n",
    "import os\n",
    "from getpass import getpass\n",
    "import nest_asyncio\n",
    "import pandas as pd\n",
    "from tqdm import tqdm\n",
    "import phoenix as px\n",
    "\n",
    "# Allows concurrent evaluations in notebook environments\n",
    "nest_asyncio.apply()\n",
    "\n",
    "# Set display options for pandas DataFrames to show more content\n",
    "pd.set_option(\"display.max_colwidth\", 1000)"
   ]
  },
  {
   "cell_type": "markdown",
   "metadata": {},
   "source": [
    "- `getpass`: A utility for securely capturing password input.\n",
    "  `nest_asyncio`: Allows the usage of asyncio within Jupyter notebooks.\n",
    "\n",
    "- `pandas` (`pd`): A powerful data manipulation library for Python.\n",
    "\n",
    "- `tqdm`: Provides progress bars for loops, useful for tracking the progress of data processing.\n",
    "\n",
    "- `phoenix` (`px`): The phoenix library is part of Arize's observability tools. It provides an interactive UI for exploring data and monitoring machine learning models.\n",
    "\n",
    "Configure `nest_asyncio` to allow concurrent evaluations in notebook environments and set the maximum column width for pandas DataFrames to ensure better readability."
   ]
  },
  {
   "cell_type": "markdown",
   "metadata": {},
   "source": [
    "### 1.4 Launch the Phoenix App"
   ]
  },
  {
   "cell_type": "code",
   "execution_count": 7,
   "metadata": {},
   "outputs": [
    {
     "name": "stderr",
     "output_type": "stream",
     "text": [
      "WARNI [phoenix.session.session] Existing running Phoenix instance detected! Shutting it down and starting a new instance...\n"
     ]
    },
    {
     "name": "stdout",
     "output_type": "stream",
     "text": [
      "🌍 To view the Phoenix app in your browser, visit http://localhost:6006/\n",
      "📖 For more information on how to use Phoenix, check out https://docs.arize.com/phoenix\n"
     ]
    },
    {
     "data": {
      "text/plain": [
       "<phoenix.session.session.ThreadSession at 0x243f0fb3650>"
      ]
     },
     "execution_count": 7,
     "metadata": {},
     "output_type": "execute_result"
    }
   ],
   "source": [
    "import phoenix as px\n",
    "px.launch_app()"
   ]
  },
  {
   "cell_type": "markdown",
   "metadata": {},
   "source": [
    "This function initializes and launches the Phoenix app, which opens in a new tab in your default web browser. It provides an interactive interface for exploring datasets, visualizing model performance, and debugging."
   ]
  },
  {
   "cell_type": "markdown",
   "metadata": {},
   "source": [
    "### 1.5 View the Phoenix App Session\n",
    "\n",
    "Once the Phoenix app is launched, you can use the session object to interact with the app directly in the notebook. Run the following code to launch the Phoenix app and view it in the current session:"
   ]
  },
  {
   "cell_type": "code",
   "execution_count": 8,
   "metadata": {},
   "outputs": [
    {
     "name": "stderr",
     "output_type": "stream",
     "text": [
      "WARNI [phoenix.session.session] Existing running Phoenix instance detected! Shutting it down and starting a new instance...\n"
     ]
    },
    {
     "name": "stdout",
     "output_type": "stream",
     "text": [
      "🌍 To view the Phoenix app in your browser, visit http://localhost:6006/\n",
      "📖 For more information on how to use Phoenix, check out https://docs.arize.com/phoenix\n",
      "📺 Opening a view to the Phoenix app. The app is running at http://localhost:6006/\n"
     ]
    },
    {
     "data": {
      "text/html": [
       "\n",
       "        <iframe\n",
       "            width=\"100%\"\n",
       "            height=\"1000\"\n",
       "            src=\"http://localhost:6006/\"\n",
       "            frameborder=\"0\"\n",
       "            allowfullscreen\n",
       "            \n",
       "        ></iframe>\n",
       "        "
      ],
      "text/plain": [
       "<IPython.lib.display.IFrame at 0x2439ae757d0>"
      ]
     },
     "execution_count": 8,
     "metadata": {},
     "output_type": "execute_result"
    }
   ],
   "source": [
    "# Launch and view the Phoenix app session\n",
    "(session := px.launch_app()).view()"
   ]
  },
  {
   "cell_type": "markdown",
   "metadata": {},
   "source": [
    "This line launches the Phoenix app and assigns the session to a variable named session, with the `view()` method allowing you to display the Phoenix app directly within the notebook interface, providing a more integrated experience without switching between the browser and the notebook."
   ]
  },
  {
   "cell_type": "markdown",
   "metadata": {},
   "source": [
    "### 1.6 Set Up the Endpoint for Traces\n",
    "\n",
    "To send traces to the Phoenix app for analysis and observability, define the endpoint URL where the Phoenix app is listening for incoming data."
   ]
  },
  {
   "cell_type": "code",
   "execution_count": 9,
   "metadata": {},
   "outputs": [],
   "source": [
    "endpoint = \"http://127.0.0.1:6006/v1/traces\""
   ]
  },
  {
   "cell_type": "markdown",
   "metadata": {},
   "source": [
    "The `endpoint` variable stores the URL of the Phoenix app's endpoint that listens for incoming traces."
   ]
  },
  {
   "cell_type": "markdown",
   "metadata": {},
   "source": [
    "## 2. Trace Open AI\n",
    "\n",
    "For more integration, [read.](https://docs.arize.com/phoenix/tracing/integrations-tracing)"
   ]
  },
  {
   "cell_type": "markdown",
   "metadata": {},
   "source": [
    "### 2.1 Install and Import the OpenAI Package"
   ]
  },
  {
   "cell_type": "code",
   "execution_count": 10,
   "metadata": {},
   "outputs": [
    {
     "name": "stdout",
     "output_type": "stream",
     "text": [
      "Defaulting to user installation because normal site-packages is not writeable\n",
      "Requirement already satisfied: openai in c:\\users\\chandana\\appdata\\roaming\\python\\python311\\site-packages (1.42.0)\n",
      "Requirement already satisfied: anyio<5,>=3.5.0 in c:\\users\\chandana\\appdata\\roaming\\python\\python311\\site-packages (from openai) (4.2.0)\n",
      "Requirement already satisfied: distro<2,>=1.7.0 in c:\\users\\chandana\\appdata\\roaming\\python\\python311\\site-packages (from openai) (1.9.0)\n",
      "Requirement already satisfied: httpx<1,>=0.23.0 in c:\\users\\chandana\\appdata\\roaming\\python\\python311\\site-packages (from openai) (0.27.0)\n",
      "Requirement already satisfied: jiter<1,>=0.4.0 in c:\\users\\chandana\\appdata\\roaming\\python\\python311\\site-packages (from openai) (0.5.0)\n",
      "Requirement already satisfied: pydantic<3,>=1.9.0 in c:\\users\\chandana\\appdata\\roaming\\python\\python311\\site-packages (from openai) (2.8.2)\n",
      "Requirement already satisfied: sniffio in c:\\users\\chandana\\appdata\\roaming\\python\\python311\\site-packages (from openai) (1.3.0)\n",
      "Requirement already satisfied: tqdm>4 in c:\\users\\chandana\\appdata\\roaming\\python\\python311\\site-packages (from openai) (4.66.5)\n",
      "Requirement already satisfied: typing-extensions<5,>=4.11 in c:\\users\\chandana\\appdata\\roaming\\python\\python311\\site-packages (from openai) (4.12.2)\n",
      "Requirement already satisfied: idna>=2.8 in c:\\users\\chandana\\appdata\\roaming\\python\\python311\\site-packages (from anyio<5,>=3.5.0->openai) (3.4)\n",
      "Requirement already satisfied: certifi in c:\\users\\chandana\\appdata\\roaming\\python\\python311\\site-packages (from httpx<1,>=0.23.0->openai) (2023.7.22)\n",
      "Requirement already satisfied: httpcore==1.* in c:\\users\\chandana\\appdata\\roaming\\python\\python311\\site-packages (from httpx<1,>=0.23.0->openai) (1.0.5)\n",
      "Requirement already satisfied: h11<0.15,>=0.13 in c:\\users\\chandana\\appdata\\roaming\\python\\python311\\site-packages (from httpcore==1.*->httpx<1,>=0.23.0->openai) (0.14.0)\n",
      "Requirement already satisfied: annotated-types>=0.4.0 in c:\\users\\chandana\\appdata\\roaming\\python\\python311\\site-packages (from pydantic<3,>=1.9.0->openai) (0.7.0)\n",
      "Requirement already satisfied: pydantic-core==2.20.1 in c:\\users\\chandana\\appdata\\roaming\\python\\python311\\site-packages (from pydantic<3,>=1.9.0->openai) (2.20.1)\n",
      "Requirement already satisfied: colorama in c:\\users\\chandana\\appdata\\roaming\\python\\python311\\site-packages (from tqdm>4->openai) (0.4.6)\n"
     ]
    },
    {
     "name": "stderr",
     "output_type": "stream",
     "text": [
      "\n",
      "[notice] A new release of pip is available: 23.0.1 -> 24.2\n",
      "[notice] To update, run: python.exe -m pip install --upgrade pip\n"
     ]
    }
   ],
   "source": [
    "!pip install openai"
   ]
  },
  {
   "cell_type": "code",
   "execution_count": 11,
   "metadata": {},
   "outputs": [],
   "source": [
    "import openai"
   ]
  },
  {
   "cell_type": "markdown",
   "metadata": {},
   "source": [
    "`openai`: The Python client library for OpenAI's API. It enables you to make requests to OpenAI's models, including GPT-3 and GPT-4, for various tasks."
   ]
  },
  {
   "cell_type": "markdown",
   "metadata": {},
   "source": [
    "### 2.2 Configure the OpenAI API Key"
   ]
  },
  {
   "cell_type": "code",
   "execution_count": 12,
   "metadata": {},
   "outputs": [],
   "source": [
    "# Retrieve API key from environment variable or prompt user if not set\n",
    "if not (openai_api_key := os.getenv(\"OPENAI_API_KEY\")):\n",
    "    openai_api_key = getpass(\"🔑 Enter your OpenAI API key: \")\n",
    "\n",
    "# Set the API key for the OpenAI client\n",
    "openai.api_key = openai_api_key\n",
    "\n",
    "# Store the API key in environment variables for future use\n",
    "os.environ[\"OPENAI_API_KEY\"] = openai_api_key"
   ]
  },
  {
   "cell_type": "markdown",
   "metadata": {},
   "source": [
    "- Retrieve API Key: The code first attempts to get the API key from an environment variable (OPENAI_API_KEY). If the key is not found, it prompts the user to enter it securely using getpass.\n",
    "\n",
    "- Set API Key: The retrieved or provided API key is then set for the openai client library.\n",
    "\n",
    "- Store API Key: Finally, the API key is stored in the environment variables to ensure it is available for future use within the session."
   ]
  },
  {
   "cell_type": "markdown",
   "metadata": {},
   "source": [
    "### 2.3 Set Up OpenTelemetry for Tracing\n",
    "\n",
    "To enable tracing for your OpenAI interactions, configure OpenTelemetry with the necessary components."
   ]
  },
  {
   "cell_type": "code",
   "execution_count": 13,
   "metadata": {},
   "outputs": [],
   "source": [
    "from opentelemetry import trace as trace_api\n",
    "from opentelemetry.exporter.otlp.proto.http.trace_exporter import OTLPSpanExporter\n",
    "from opentelemetry.sdk import trace as trace_sdk\n",
    "from opentelemetry.sdk.trace.export import SimpleSpanProcessor\n",
    "\n",
    "# Set up the Tracer Provider\n",
    "tracer_provider = trace_sdk.TracerProvider()\n",
    "\n",
    "# Define the OTLP Span Exporter with the endpoint\n",
    "span_exporter = OTLPSpanExporter(endpoint)\n",
    "\n",
    "# Set up the Span Processor to process and export spans\n",
    "span_processor = SimpleSpanProcessor(span_exporter)\n",
    "\n",
    "# Add the Span Processor to the Tracer Provider\n",
    "tracer_provider.add_span_processor(span_processor)\n",
    "\n",
    "# Set the global Tracer Provider\n",
    "trace_api.set_tracer_provider(tracer_provider)"
   ]
  },
  {
   "cell_type": "markdown",
   "metadata": {},
   "source": [
    "**OpenTelemetry Libraries**\n",
    "\n",
    "In the provided code, several OpenTelemetry libraries are used to set up tracing. Here's an overview of each:\n",
    "\n",
    "- `opentelemetry`:\n",
    "\n",
    "  \\***\\*Purpose\\*\\***: The core library for OpenTelemetry, providing APIs for tracing and metrics.\n",
    "\n",
    "  **Usage**: It includes the trace module, which is used to create and manage traces.\n",
    "\n",
    "- `opentelemetry.exporter.otlp.proto.http.trace_exporter`:\n",
    "\n",
    "  **Purpose**: Provides the OTLP (OpenTelemetry Protocol) exporter for traces using HTTP.\n",
    "\n",
    "  **Usage**: The `OTLPSpanExporter` class in this module sends trace data to an OTLP-compatible backend. This exporter is configured with an endpoint where trace data will be sent.\n",
    "\n",
    "- `opentelemetry.sdk.trace`:\n",
    "\n",
    "  **Purpose**: Contains the SDK implementations for tracing, including the `TracerProvider`.\n",
    "\n",
    "  **Usage**:\n",
    "\n",
    "  - `TracerProvider`: Manages Tracer instances and is responsible for exporting spans (units of work) collected during tracing.\n",
    "\n",
    "  - `SimpleSpanProcessor`: A span processor that exports spans synchronously, used to process and send trace data to the exporter.\n",
    "\n",
    "- `opentelemetry.sdk.trace.export`:\n",
    "\n",
    "  **Purpose**: Provides classes for exporting trace data.\n",
    "\n",
    "  **Usage**:\n",
    "\n",
    "  - `SimpleSpanProcessor`: Processes spans and exports them using the specified exporter. It ensures that spans are sent to the backend for analysis."
   ]
  },
  {
   "cell_type": "markdown",
   "metadata": {},
   "source": [
    "### 2.4 Instrument OpenAI with OpenInference\n",
    "\n",
    "To integrate OpenTelemetry with OpenAI and enable tracing for OpenAI model interactions, use the `OpenAIInstrumentor` from the `openinference` library."
   ]
  },
  {
   "cell_type": "code",
   "execution_count": 14,
   "metadata": {},
   "outputs": [],
   "source": [
    "from openinference.instrumentation.openai import OpenAIInstrumentor\n",
    "\n",
    "# Instantiate and apply instrumentation for OpenAI\n",
    "OpenAIInstrumentor().instrument()"
   ]
  },
  {
   "cell_type": "markdown",
   "metadata": {},
   "source": [
    "- `OpenAIInstrumentor`: A class from the openinference library designed to instrument OpenAI's API calls, enabling tracing and observability.\n",
    "\n",
    "- `instrument()`: This method configures the OpenAI API client to automatically generate and send trace data to the OpenTelemetry backend. It integrates with the tracing setup you have configured, allowing you to monitor and analyze interactions with OpenAI's models.\n",
    "\n",
    "By running this code, you ensure that all OpenAI API calls are traced, allowing you to capture detailed insights into model usage and performance."
   ]
  },
  {
   "cell_type": "markdown",
   "metadata": {},
   "source": [
    "### 2.5 Make a Request to OpenAI API\n",
    "\n",
    "To interact with OpenAI’s API and obtain a response, use the following code. This example demonstrates how to create a chat completion using the OpenAI API and print the result:"
   ]
  },
  {
   "cell_type": "code",
   "execution_count": 15,
   "metadata": {},
   "outputs": [
    {
     "ename": "AuthenticationError",
     "evalue": "Error code: 401 - {'error': {'message': 'Incorrect API key provided: sk-proj-********************************************bqwi. You can find your API key at https://platform.openai.com/account/api-keys.', 'type': 'invalid_request_error', 'param': None, 'code': 'invalid_api_key'}}",
     "output_type": "error",
     "traceback": [
      "\u001b[1;31m---------------------------------------------------------------------------\u001b[0m",
      "\u001b[1;31mAuthenticationError\u001b[0m                       Traceback (most recent call last)",
      "Cell \u001b[1;32mIn[15], line 5\u001b[0m\n\u001b[0;32m      2\u001b[0m client \u001b[38;5;241m=\u001b[39m openai\u001b[38;5;241m.\u001b[39mOpenAI()\n\u001b[0;32m      4\u001b[0m \u001b[38;5;66;03m# Make a request to the OpenAI API for a chat completion\u001b[39;00m\n\u001b[1;32m----> 5\u001b[0m response \u001b[38;5;241m=\u001b[39m \u001b[43mclient\u001b[49m\u001b[38;5;241;43m.\u001b[39;49m\u001b[43mchat\u001b[49m\u001b[38;5;241;43m.\u001b[39;49m\u001b[43mcompletions\u001b[49m\u001b[38;5;241;43m.\u001b[39;49m\u001b[43mcreate\u001b[49m\u001b[43m(\u001b[49m\n\u001b[0;32m      6\u001b[0m \u001b[43m    \u001b[49m\u001b[43mmodel\u001b[49m\u001b[38;5;241;43m=\u001b[39;49m\u001b[38;5;124;43m\"\u001b[39;49m\u001b[38;5;124;43mgpt-4o\u001b[39;49m\u001b[38;5;124;43m\"\u001b[39;49m\u001b[43m,\u001b[49m\n\u001b[0;32m      7\u001b[0m \u001b[43m    \u001b[49m\u001b[43mmessages\u001b[49m\u001b[38;5;241;43m=\u001b[39;49m\u001b[43m[\u001b[49m\u001b[43m{\u001b[49m\u001b[38;5;124;43m\"\u001b[39;49m\u001b[38;5;124;43mrole\u001b[39;49m\u001b[38;5;124;43m\"\u001b[39;49m\u001b[43m:\u001b[49m\u001b[43m \u001b[49m\u001b[38;5;124;43m\"\u001b[39;49m\u001b[38;5;124;43muser\u001b[39;49m\u001b[38;5;124;43m\"\u001b[39;49m\u001b[43m,\u001b[49m\u001b[43m \u001b[49m\u001b[38;5;124;43m\"\u001b[39;49m\u001b[38;5;124;43mcontent\u001b[39;49m\u001b[38;5;124;43m\"\u001b[39;49m\u001b[43m:\u001b[49m\u001b[43m \u001b[49m\u001b[38;5;124;43m\"\u001b[39;49m\u001b[38;5;124;43mWrite a haiku.\u001b[39;49m\u001b[38;5;124;43m\"\u001b[39;49m\u001b[43m}\u001b[49m\u001b[43m]\u001b[49m\u001b[43m,\u001b[49m\n\u001b[0;32m      8\u001b[0m \u001b[43m)\u001b[49m\n\u001b[0;32m     10\u001b[0m \u001b[38;5;66;03m# Print the content of the response\u001b[39;00m\n\u001b[0;32m     11\u001b[0m \u001b[38;5;28mprint\u001b[39m(response\u001b[38;5;241m.\u001b[39mchoices[\u001b[38;5;241m0\u001b[39m]\u001b[38;5;241m.\u001b[39mmessage\u001b[38;5;241m.\u001b[39mcontent)\n",
      "File \u001b[1;32m~\\AppData\\Roaming\\Python\\Python311\\site-packages\\openai\\_utils\\_utils.py:274\u001b[0m, in \u001b[0;36mrequired_args.<locals>.inner.<locals>.wrapper\u001b[1;34m(*args, **kwargs)\u001b[0m\n\u001b[0;32m    272\u001b[0m             msg \u001b[38;5;241m=\u001b[39m \u001b[38;5;124mf\u001b[39m\u001b[38;5;124m\"\u001b[39m\u001b[38;5;124mMissing required argument: \u001b[39m\u001b[38;5;132;01m{\u001b[39;00mquote(missing[\u001b[38;5;241m0\u001b[39m])\u001b[38;5;132;01m}\u001b[39;00m\u001b[38;5;124m\"\u001b[39m\n\u001b[0;32m    273\u001b[0m     \u001b[38;5;28;01mraise\u001b[39;00m \u001b[38;5;167;01mTypeError\u001b[39;00m(msg)\n\u001b[1;32m--> 274\u001b[0m \u001b[38;5;28;01mreturn\u001b[39;00m \u001b[43mfunc\u001b[49m\u001b[43m(\u001b[49m\u001b[38;5;241;43m*\u001b[39;49m\u001b[43margs\u001b[49m\u001b[43m,\u001b[49m\u001b[43m \u001b[49m\u001b[38;5;241;43m*\u001b[39;49m\u001b[38;5;241;43m*\u001b[39;49m\u001b[43mkwargs\u001b[49m\u001b[43m)\u001b[49m\n",
      "File \u001b[1;32m~\\AppData\\Roaming\\Python\\Python311\\site-packages\\openai\\resources\\chat\\completions.py:668\u001b[0m, in \u001b[0;36mCompletions.create\u001b[1;34m(self, messages, model, frequency_penalty, function_call, functions, logit_bias, logprobs, max_tokens, n, parallel_tool_calls, presence_penalty, response_format, seed, service_tier, stop, stream, stream_options, temperature, tool_choice, tools, top_logprobs, top_p, user, extra_headers, extra_query, extra_body, timeout)\u001b[0m\n\u001b[0;32m    633\u001b[0m \u001b[38;5;129m@required_args\u001b[39m([\u001b[38;5;124m\"\u001b[39m\u001b[38;5;124mmessages\u001b[39m\u001b[38;5;124m\"\u001b[39m, \u001b[38;5;124m\"\u001b[39m\u001b[38;5;124mmodel\u001b[39m\u001b[38;5;124m\"\u001b[39m], [\u001b[38;5;124m\"\u001b[39m\u001b[38;5;124mmessages\u001b[39m\u001b[38;5;124m\"\u001b[39m, \u001b[38;5;124m\"\u001b[39m\u001b[38;5;124mmodel\u001b[39m\u001b[38;5;124m\"\u001b[39m, \u001b[38;5;124m\"\u001b[39m\u001b[38;5;124mstream\u001b[39m\u001b[38;5;124m\"\u001b[39m])\n\u001b[0;32m    634\u001b[0m \u001b[38;5;28;01mdef\u001b[39;00m \u001b[38;5;21mcreate\u001b[39m(\n\u001b[0;32m    635\u001b[0m     \u001b[38;5;28mself\u001b[39m,\n\u001b[1;32m   (...)\u001b[0m\n\u001b[0;32m    665\u001b[0m     timeout: \u001b[38;5;28mfloat\u001b[39m \u001b[38;5;241m|\u001b[39m httpx\u001b[38;5;241m.\u001b[39mTimeout \u001b[38;5;241m|\u001b[39m \u001b[38;5;28;01mNone\u001b[39;00m \u001b[38;5;241m|\u001b[39m NotGiven \u001b[38;5;241m=\u001b[39m NOT_GIVEN,\n\u001b[0;32m    666\u001b[0m ) \u001b[38;5;241m-\u001b[39m\u001b[38;5;241m>\u001b[39m ChatCompletion \u001b[38;5;241m|\u001b[39m Stream[ChatCompletionChunk]:\n\u001b[0;32m    667\u001b[0m     validate_response_format(response_format)\n\u001b[1;32m--> 668\u001b[0m     \u001b[38;5;28;01mreturn\u001b[39;00m \u001b[38;5;28;43mself\u001b[39;49m\u001b[38;5;241;43m.\u001b[39;49m\u001b[43m_post\u001b[49m\u001b[43m(\u001b[49m\n\u001b[0;32m    669\u001b[0m \u001b[43m        \u001b[49m\u001b[38;5;124;43m\"\u001b[39;49m\u001b[38;5;124;43m/chat/completions\u001b[39;49m\u001b[38;5;124;43m\"\u001b[39;49m\u001b[43m,\u001b[49m\n\u001b[0;32m    670\u001b[0m \u001b[43m        \u001b[49m\u001b[43mbody\u001b[49m\u001b[38;5;241;43m=\u001b[39;49m\u001b[43mmaybe_transform\u001b[49m\u001b[43m(\u001b[49m\n\u001b[0;32m    671\u001b[0m \u001b[43m            \u001b[49m\u001b[43m{\u001b[49m\n\u001b[0;32m    672\u001b[0m \u001b[43m                \u001b[49m\u001b[38;5;124;43m\"\u001b[39;49m\u001b[38;5;124;43mmessages\u001b[39;49m\u001b[38;5;124;43m\"\u001b[39;49m\u001b[43m:\u001b[49m\u001b[43m \u001b[49m\u001b[43mmessages\u001b[49m\u001b[43m,\u001b[49m\n\u001b[0;32m    673\u001b[0m \u001b[43m                \u001b[49m\u001b[38;5;124;43m\"\u001b[39;49m\u001b[38;5;124;43mmodel\u001b[39;49m\u001b[38;5;124;43m\"\u001b[39;49m\u001b[43m:\u001b[49m\u001b[43m \u001b[49m\u001b[43mmodel\u001b[49m\u001b[43m,\u001b[49m\n\u001b[0;32m    674\u001b[0m \u001b[43m                \u001b[49m\u001b[38;5;124;43m\"\u001b[39;49m\u001b[38;5;124;43mfrequency_penalty\u001b[39;49m\u001b[38;5;124;43m\"\u001b[39;49m\u001b[43m:\u001b[49m\u001b[43m \u001b[49m\u001b[43mfrequency_penalty\u001b[49m\u001b[43m,\u001b[49m\n\u001b[0;32m    675\u001b[0m \u001b[43m                \u001b[49m\u001b[38;5;124;43m\"\u001b[39;49m\u001b[38;5;124;43mfunction_call\u001b[39;49m\u001b[38;5;124;43m\"\u001b[39;49m\u001b[43m:\u001b[49m\u001b[43m \u001b[49m\u001b[43mfunction_call\u001b[49m\u001b[43m,\u001b[49m\n\u001b[0;32m    676\u001b[0m \u001b[43m                \u001b[49m\u001b[38;5;124;43m\"\u001b[39;49m\u001b[38;5;124;43mfunctions\u001b[39;49m\u001b[38;5;124;43m\"\u001b[39;49m\u001b[43m:\u001b[49m\u001b[43m \u001b[49m\u001b[43mfunctions\u001b[49m\u001b[43m,\u001b[49m\n\u001b[0;32m    677\u001b[0m \u001b[43m                \u001b[49m\u001b[38;5;124;43m\"\u001b[39;49m\u001b[38;5;124;43mlogit_bias\u001b[39;49m\u001b[38;5;124;43m\"\u001b[39;49m\u001b[43m:\u001b[49m\u001b[43m \u001b[49m\u001b[43mlogit_bias\u001b[49m\u001b[43m,\u001b[49m\n\u001b[0;32m    678\u001b[0m \u001b[43m                \u001b[49m\u001b[38;5;124;43m\"\u001b[39;49m\u001b[38;5;124;43mlogprobs\u001b[39;49m\u001b[38;5;124;43m\"\u001b[39;49m\u001b[43m:\u001b[49m\u001b[43m \u001b[49m\u001b[43mlogprobs\u001b[49m\u001b[43m,\u001b[49m\n\u001b[0;32m    679\u001b[0m \u001b[43m                \u001b[49m\u001b[38;5;124;43m\"\u001b[39;49m\u001b[38;5;124;43mmax_tokens\u001b[39;49m\u001b[38;5;124;43m\"\u001b[39;49m\u001b[43m:\u001b[49m\u001b[43m \u001b[49m\u001b[43mmax_tokens\u001b[49m\u001b[43m,\u001b[49m\n\u001b[0;32m    680\u001b[0m \u001b[43m                \u001b[49m\u001b[38;5;124;43m\"\u001b[39;49m\u001b[38;5;124;43mn\u001b[39;49m\u001b[38;5;124;43m\"\u001b[39;49m\u001b[43m:\u001b[49m\u001b[43m \u001b[49m\u001b[43mn\u001b[49m\u001b[43m,\u001b[49m\n\u001b[0;32m    681\u001b[0m \u001b[43m                \u001b[49m\u001b[38;5;124;43m\"\u001b[39;49m\u001b[38;5;124;43mparallel_tool_calls\u001b[39;49m\u001b[38;5;124;43m\"\u001b[39;49m\u001b[43m:\u001b[49m\u001b[43m \u001b[49m\u001b[43mparallel_tool_calls\u001b[49m\u001b[43m,\u001b[49m\n\u001b[0;32m    682\u001b[0m \u001b[43m                \u001b[49m\u001b[38;5;124;43m\"\u001b[39;49m\u001b[38;5;124;43mpresence_penalty\u001b[39;49m\u001b[38;5;124;43m\"\u001b[39;49m\u001b[43m:\u001b[49m\u001b[43m \u001b[49m\u001b[43mpresence_penalty\u001b[49m\u001b[43m,\u001b[49m\n\u001b[0;32m    683\u001b[0m \u001b[43m                \u001b[49m\u001b[38;5;124;43m\"\u001b[39;49m\u001b[38;5;124;43mresponse_format\u001b[39;49m\u001b[38;5;124;43m\"\u001b[39;49m\u001b[43m:\u001b[49m\u001b[43m \u001b[49m\u001b[43mresponse_format\u001b[49m\u001b[43m,\u001b[49m\n\u001b[0;32m    684\u001b[0m \u001b[43m                \u001b[49m\u001b[38;5;124;43m\"\u001b[39;49m\u001b[38;5;124;43mseed\u001b[39;49m\u001b[38;5;124;43m\"\u001b[39;49m\u001b[43m:\u001b[49m\u001b[43m \u001b[49m\u001b[43mseed\u001b[49m\u001b[43m,\u001b[49m\n\u001b[0;32m    685\u001b[0m \u001b[43m                \u001b[49m\u001b[38;5;124;43m\"\u001b[39;49m\u001b[38;5;124;43mservice_tier\u001b[39;49m\u001b[38;5;124;43m\"\u001b[39;49m\u001b[43m:\u001b[49m\u001b[43m \u001b[49m\u001b[43mservice_tier\u001b[49m\u001b[43m,\u001b[49m\n\u001b[0;32m    686\u001b[0m \u001b[43m                \u001b[49m\u001b[38;5;124;43m\"\u001b[39;49m\u001b[38;5;124;43mstop\u001b[39;49m\u001b[38;5;124;43m\"\u001b[39;49m\u001b[43m:\u001b[49m\u001b[43m \u001b[49m\u001b[43mstop\u001b[49m\u001b[43m,\u001b[49m\n\u001b[0;32m    687\u001b[0m \u001b[43m                \u001b[49m\u001b[38;5;124;43m\"\u001b[39;49m\u001b[38;5;124;43mstream\u001b[39;49m\u001b[38;5;124;43m\"\u001b[39;49m\u001b[43m:\u001b[49m\u001b[43m \u001b[49m\u001b[43mstream\u001b[49m\u001b[43m,\u001b[49m\n\u001b[0;32m    688\u001b[0m \u001b[43m                \u001b[49m\u001b[38;5;124;43m\"\u001b[39;49m\u001b[38;5;124;43mstream_options\u001b[39;49m\u001b[38;5;124;43m\"\u001b[39;49m\u001b[43m:\u001b[49m\u001b[43m \u001b[49m\u001b[43mstream_options\u001b[49m\u001b[43m,\u001b[49m\n\u001b[0;32m    689\u001b[0m \u001b[43m                \u001b[49m\u001b[38;5;124;43m\"\u001b[39;49m\u001b[38;5;124;43mtemperature\u001b[39;49m\u001b[38;5;124;43m\"\u001b[39;49m\u001b[43m:\u001b[49m\u001b[43m \u001b[49m\u001b[43mtemperature\u001b[49m\u001b[43m,\u001b[49m\n\u001b[0;32m    690\u001b[0m \u001b[43m                \u001b[49m\u001b[38;5;124;43m\"\u001b[39;49m\u001b[38;5;124;43mtool_choice\u001b[39;49m\u001b[38;5;124;43m\"\u001b[39;49m\u001b[43m:\u001b[49m\u001b[43m \u001b[49m\u001b[43mtool_choice\u001b[49m\u001b[43m,\u001b[49m\n\u001b[0;32m    691\u001b[0m \u001b[43m                \u001b[49m\u001b[38;5;124;43m\"\u001b[39;49m\u001b[38;5;124;43mtools\u001b[39;49m\u001b[38;5;124;43m\"\u001b[39;49m\u001b[43m:\u001b[49m\u001b[43m \u001b[49m\u001b[43mtools\u001b[49m\u001b[43m,\u001b[49m\n\u001b[0;32m    692\u001b[0m \u001b[43m                \u001b[49m\u001b[38;5;124;43m\"\u001b[39;49m\u001b[38;5;124;43mtop_logprobs\u001b[39;49m\u001b[38;5;124;43m\"\u001b[39;49m\u001b[43m:\u001b[49m\u001b[43m \u001b[49m\u001b[43mtop_logprobs\u001b[49m\u001b[43m,\u001b[49m\n\u001b[0;32m    693\u001b[0m \u001b[43m                \u001b[49m\u001b[38;5;124;43m\"\u001b[39;49m\u001b[38;5;124;43mtop_p\u001b[39;49m\u001b[38;5;124;43m\"\u001b[39;49m\u001b[43m:\u001b[49m\u001b[43m \u001b[49m\u001b[43mtop_p\u001b[49m\u001b[43m,\u001b[49m\n\u001b[0;32m    694\u001b[0m \u001b[43m                \u001b[49m\u001b[38;5;124;43m\"\u001b[39;49m\u001b[38;5;124;43muser\u001b[39;49m\u001b[38;5;124;43m\"\u001b[39;49m\u001b[43m:\u001b[49m\u001b[43m \u001b[49m\u001b[43muser\u001b[49m\u001b[43m,\u001b[49m\n\u001b[0;32m    695\u001b[0m \u001b[43m            \u001b[49m\u001b[43m}\u001b[49m\u001b[43m,\u001b[49m\n\u001b[0;32m    696\u001b[0m \u001b[43m            \u001b[49m\u001b[43mcompletion_create_params\u001b[49m\u001b[38;5;241;43m.\u001b[39;49m\u001b[43mCompletionCreateParams\u001b[49m\u001b[43m,\u001b[49m\n\u001b[0;32m    697\u001b[0m \u001b[43m        \u001b[49m\u001b[43m)\u001b[49m\u001b[43m,\u001b[49m\n\u001b[0;32m    698\u001b[0m \u001b[43m        \u001b[49m\u001b[43moptions\u001b[49m\u001b[38;5;241;43m=\u001b[39;49m\u001b[43mmake_request_options\u001b[49m\u001b[43m(\u001b[49m\n\u001b[0;32m    699\u001b[0m \u001b[43m            \u001b[49m\u001b[43mextra_headers\u001b[49m\u001b[38;5;241;43m=\u001b[39;49m\u001b[43mextra_headers\u001b[49m\u001b[43m,\u001b[49m\u001b[43m \u001b[49m\u001b[43mextra_query\u001b[49m\u001b[38;5;241;43m=\u001b[39;49m\u001b[43mextra_query\u001b[49m\u001b[43m,\u001b[49m\u001b[43m \u001b[49m\u001b[43mextra_body\u001b[49m\u001b[38;5;241;43m=\u001b[39;49m\u001b[43mextra_body\u001b[49m\u001b[43m,\u001b[49m\u001b[43m \u001b[49m\u001b[43mtimeout\u001b[49m\u001b[38;5;241;43m=\u001b[39;49m\u001b[43mtimeout\u001b[49m\n\u001b[0;32m    700\u001b[0m \u001b[43m        \u001b[49m\u001b[43m)\u001b[49m\u001b[43m,\u001b[49m\n\u001b[0;32m    701\u001b[0m \u001b[43m        \u001b[49m\u001b[43mcast_to\u001b[49m\u001b[38;5;241;43m=\u001b[39;49m\u001b[43mChatCompletion\u001b[49m\u001b[43m,\u001b[49m\n\u001b[0;32m    702\u001b[0m \u001b[43m        \u001b[49m\u001b[43mstream\u001b[49m\u001b[38;5;241;43m=\u001b[39;49m\u001b[43mstream\u001b[49m\u001b[43m \u001b[49m\u001b[38;5;129;43;01mor\u001b[39;49;00m\u001b[43m \u001b[49m\u001b[38;5;28;43;01mFalse\u001b[39;49;00m\u001b[43m,\u001b[49m\n\u001b[0;32m    703\u001b[0m \u001b[43m        \u001b[49m\u001b[43mstream_cls\u001b[49m\u001b[38;5;241;43m=\u001b[39;49m\u001b[43mStream\u001b[49m\u001b[43m[\u001b[49m\u001b[43mChatCompletionChunk\u001b[49m\u001b[43m]\u001b[49m\u001b[43m,\u001b[49m\n\u001b[0;32m    704\u001b[0m \u001b[43m    \u001b[49m\u001b[43m)\u001b[49m\n",
      "File \u001b[1;32m~\\AppData\\Roaming\\Python\\Python311\\site-packages\\openai\\_base_client.py:1260\u001b[0m, in \u001b[0;36mSyncAPIClient.post\u001b[1;34m(self, path, cast_to, body, options, files, stream, stream_cls)\u001b[0m\n\u001b[0;32m   1246\u001b[0m \u001b[38;5;28;01mdef\u001b[39;00m \u001b[38;5;21mpost\u001b[39m(\n\u001b[0;32m   1247\u001b[0m     \u001b[38;5;28mself\u001b[39m,\n\u001b[0;32m   1248\u001b[0m     path: \u001b[38;5;28mstr\u001b[39m,\n\u001b[1;32m   (...)\u001b[0m\n\u001b[0;32m   1255\u001b[0m     stream_cls: \u001b[38;5;28mtype\u001b[39m[_StreamT] \u001b[38;5;241m|\u001b[39m \u001b[38;5;28;01mNone\u001b[39;00m \u001b[38;5;241m=\u001b[39m \u001b[38;5;28;01mNone\u001b[39;00m,\n\u001b[0;32m   1256\u001b[0m ) \u001b[38;5;241m-\u001b[39m\u001b[38;5;241m>\u001b[39m ResponseT \u001b[38;5;241m|\u001b[39m _StreamT:\n\u001b[0;32m   1257\u001b[0m     opts \u001b[38;5;241m=\u001b[39m FinalRequestOptions\u001b[38;5;241m.\u001b[39mconstruct(\n\u001b[0;32m   1258\u001b[0m         method\u001b[38;5;241m=\u001b[39m\u001b[38;5;124m\"\u001b[39m\u001b[38;5;124mpost\u001b[39m\u001b[38;5;124m\"\u001b[39m, url\u001b[38;5;241m=\u001b[39mpath, json_data\u001b[38;5;241m=\u001b[39mbody, files\u001b[38;5;241m=\u001b[39mto_httpx_files(files), \u001b[38;5;241m*\u001b[39m\u001b[38;5;241m*\u001b[39moptions\n\u001b[0;32m   1259\u001b[0m     )\n\u001b[1;32m-> 1260\u001b[0m     \u001b[38;5;28;01mreturn\u001b[39;00m cast(ResponseT, \u001b[38;5;28;43mself\u001b[39;49m\u001b[38;5;241;43m.\u001b[39;49m\u001b[43mrequest\u001b[49m\u001b[43m(\u001b[49m\u001b[43mcast_to\u001b[49m\u001b[43m,\u001b[49m\u001b[43m \u001b[49m\u001b[43mopts\u001b[49m\u001b[43m,\u001b[49m\u001b[43m \u001b[49m\u001b[43mstream\u001b[49m\u001b[38;5;241;43m=\u001b[39;49m\u001b[43mstream\u001b[49m\u001b[43m,\u001b[49m\u001b[43m \u001b[49m\u001b[43mstream_cls\u001b[49m\u001b[38;5;241;43m=\u001b[39;49m\u001b[43mstream_cls\u001b[49m\u001b[43m)\u001b[49m)\n",
      "File \u001b[1;32m~\\AppData\\Roaming\\Python\\Python311\\site-packages\\openinference\\instrumentation\\openai\\_request.py:272\u001b[0m, in \u001b[0;36m_Request.__call__\u001b[1;34m(self, wrapped, instance, args, kwargs)\u001b[0m\n\u001b[0;32m    259\u001b[0m \u001b[38;5;28;01mwith\u001b[39;00m \u001b[38;5;28mself\u001b[39m\u001b[38;5;241m.\u001b[39m_start_as_current_span(\n\u001b[0;32m    260\u001b[0m     span_name\u001b[38;5;241m=\u001b[39mspan_name,\n\u001b[0;32m    261\u001b[0m     attributes\u001b[38;5;241m=\u001b[39m\u001b[38;5;28mself\u001b[39m\u001b[38;5;241m.\u001b[39m_get_attributes_from_request(\n\u001b[1;32m   (...)\u001b[0m\n\u001b[0;32m    269\u001b[0m     ),\n\u001b[0;32m    270\u001b[0m ) \u001b[38;5;28;01mas\u001b[39;00m with_span:\n\u001b[0;32m    271\u001b[0m     \u001b[38;5;28;01mtry\u001b[39;00m:\n\u001b[1;32m--> 272\u001b[0m         response \u001b[38;5;241m=\u001b[39m \u001b[43mwrapped\u001b[49m\u001b[43m(\u001b[49m\u001b[38;5;241;43m*\u001b[39;49m\u001b[43margs\u001b[49m\u001b[43m,\u001b[49m\u001b[43m \u001b[49m\u001b[38;5;241;43m*\u001b[39;49m\u001b[38;5;241;43m*\u001b[39;49m\u001b[43mkwargs\u001b[49m\u001b[43m)\u001b[49m\n\u001b[0;32m    273\u001b[0m     \u001b[38;5;28;01mexcept\u001b[39;00m \u001b[38;5;167;01mException\u001b[39;00m \u001b[38;5;28;01mas\u001b[39;00m exception:\n\u001b[0;32m    274\u001b[0m         with_span\u001b[38;5;241m.\u001b[39mrecord_exception(exception)\n",
      "File \u001b[1;32m~\\AppData\\Roaming\\Python\\Python311\\site-packages\\openai\\_base_client.py:937\u001b[0m, in \u001b[0;36mSyncAPIClient.request\u001b[1;34m(self, cast_to, options, remaining_retries, stream, stream_cls)\u001b[0m\n\u001b[0;32m    928\u001b[0m \u001b[38;5;28;01mdef\u001b[39;00m \u001b[38;5;21mrequest\u001b[39m(\n\u001b[0;32m    929\u001b[0m     \u001b[38;5;28mself\u001b[39m,\n\u001b[0;32m    930\u001b[0m     cast_to: Type[ResponseT],\n\u001b[1;32m   (...)\u001b[0m\n\u001b[0;32m    935\u001b[0m     stream_cls: \u001b[38;5;28mtype\u001b[39m[_StreamT] \u001b[38;5;241m|\u001b[39m \u001b[38;5;28;01mNone\u001b[39;00m \u001b[38;5;241m=\u001b[39m \u001b[38;5;28;01mNone\u001b[39;00m,\n\u001b[0;32m    936\u001b[0m ) \u001b[38;5;241m-\u001b[39m\u001b[38;5;241m>\u001b[39m ResponseT \u001b[38;5;241m|\u001b[39m _StreamT:\n\u001b[1;32m--> 937\u001b[0m     \u001b[38;5;28;01mreturn\u001b[39;00m \u001b[38;5;28;43mself\u001b[39;49m\u001b[38;5;241;43m.\u001b[39;49m\u001b[43m_request\u001b[49m\u001b[43m(\u001b[49m\n\u001b[0;32m    938\u001b[0m \u001b[43m        \u001b[49m\u001b[43mcast_to\u001b[49m\u001b[38;5;241;43m=\u001b[39;49m\u001b[43mcast_to\u001b[49m\u001b[43m,\u001b[49m\n\u001b[0;32m    939\u001b[0m \u001b[43m        \u001b[49m\u001b[43moptions\u001b[49m\u001b[38;5;241;43m=\u001b[39;49m\u001b[43moptions\u001b[49m\u001b[43m,\u001b[49m\n\u001b[0;32m    940\u001b[0m \u001b[43m        \u001b[49m\u001b[43mstream\u001b[49m\u001b[38;5;241;43m=\u001b[39;49m\u001b[43mstream\u001b[49m\u001b[43m,\u001b[49m\n\u001b[0;32m    941\u001b[0m \u001b[43m        \u001b[49m\u001b[43mstream_cls\u001b[49m\u001b[38;5;241;43m=\u001b[39;49m\u001b[43mstream_cls\u001b[49m\u001b[43m,\u001b[49m\n\u001b[0;32m    942\u001b[0m \u001b[43m        \u001b[49m\u001b[43mremaining_retries\u001b[49m\u001b[38;5;241;43m=\u001b[39;49m\u001b[43mremaining_retries\u001b[49m\u001b[43m,\u001b[49m\n\u001b[0;32m    943\u001b[0m \u001b[43m    \u001b[49m\u001b[43m)\u001b[49m\n",
      "File \u001b[1;32m~\\AppData\\Roaming\\Python\\Python311\\site-packages\\openai\\_base_client.py:1041\u001b[0m, in \u001b[0;36mSyncAPIClient._request\u001b[1;34m(self, cast_to, options, remaining_retries, stream, stream_cls)\u001b[0m\n\u001b[0;32m   1038\u001b[0m         err\u001b[38;5;241m.\u001b[39mresponse\u001b[38;5;241m.\u001b[39mread()\n\u001b[0;32m   1040\u001b[0m     log\u001b[38;5;241m.\u001b[39mdebug(\u001b[38;5;124m\"\u001b[39m\u001b[38;5;124mRe-raising status error\u001b[39m\u001b[38;5;124m\"\u001b[39m)\n\u001b[1;32m-> 1041\u001b[0m     \u001b[38;5;28;01mraise\u001b[39;00m \u001b[38;5;28mself\u001b[39m\u001b[38;5;241m.\u001b[39m_make_status_error_from_response(err\u001b[38;5;241m.\u001b[39mresponse) \u001b[38;5;28;01mfrom\u001b[39;00m \u001b[38;5;28;01mNone\u001b[39;00m\n\u001b[0;32m   1043\u001b[0m \u001b[38;5;28;01mreturn\u001b[39;00m \u001b[38;5;28mself\u001b[39m\u001b[38;5;241m.\u001b[39m_process_response(\n\u001b[0;32m   1044\u001b[0m     cast_to\u001b[38;5;241m=\u001b[39mcast_to,\n\u001b[0;32m   1045\u001b[0m     options\u001b[38;5;241m=\u001b[39moptions,\n\u001b[1;32m   (...)\u001b[0m\n\u001b[0;32m   1049\u001b[0m     retries_taken\u001b[38;5;241m=\u001b[39moptions\u001b[38;5;241m.\u001b[39mget_max_retries(\u001b[38;5;28mself\u001b[39m\u001b[38;5;241m.\u001b[39mmax_retries) \u001b[38;5;241m-\u001b[39m retries,\n\u001b[0;32m   1050\u001b[0m )\n",
      "\u001b[1;31mAuthenticationError\u001b[0m: Error code: 401 - {'error': {'message': 'Incorrect API key provided: sk-proj-********************************************bqwi. You can find your API key at https://platform.openai.com/account/api-keys.', 'type': 'invalid_request_error', 'param': None, 'code': 'invalid_api_key'}}"
     ]
    }
   ],
   "source": [
    "# Create an OpenAI client instance\n",
    "client = openai.OpenAI()\n",
    "\n",
    "# Make a request to the OpenAI API for a chat completion\n",
    "response = client.chat.completions.create(\n",
    "    model=\"gpt-4o\",\n",
    "    messages=[{\"role\": \"user\", \"content\": \"Write a haiku.\"}],\n",
    ")\n",
    "\n",
    "# Print the content of the response\n",
    "print(response.choices[0].message.content)"
   ]
  },
  {
   "cell_type": "markdown",
   "metadata": {},
   "source": [
    "- `openai.OpenAI()`: Initializes an OpenAI client instance that can be used to interact with the OpenAI API.\n",
    "\n",
    "- `client.chat.completions.create()`: Sends a request to the OpenAI API to create a chat completion using the specified model.\n",
    "\n",
    "  - `model=\"gpt-4o\"`: Specifies the model to use for generating completions. Ensure the model name is correct and available in your OpenAI API account.\n",
    "\n",
    "  - `messages`: A list of message objects representing the conversation history. In this case, it includes a single message from the user asking to \"Write a haiku.\"\n",
    "\n",
    "`response.choices[0].message.content`: Extracts and prints the content of the completion response generated by the model."
   ]
  },
  {
   "cell_type": "markdown",
   "metadata": {},
   "source": [
    "## 3. Trace Llama index\n",
    "\n",
    "### 3.1 Install and Import the Required Libraries"
   ]
  },
  {
   "cell_type": "code",
   "execution_count": 17,
   "metadata": {},
   "outputs": [
    {
     "name": "stdout",
     "output_type": "stream",
     "text": [
      "Defaulting to user installation because normal site-packages is not writeable\n",
      "Requirement already satisfied: llama-index in c:\\users\\chandana\\appdata\\roaming\\python\\python311\\site-packages (0.10.51)\n",
      "Requirement already satisfied: llama-index-agent-openai<0.3.0,>=0.1.4 in c:\\users\\chandana\\appdata\\roaming\\python\\python311\\site-packages (from llama-index) (0.2.7)\n",
      "Requirement already satisfied: llama-index-cli<0.2.0,>=0.1.2 in c:\\users\\chandana\\appdata\\roaming\\python\\python311\\site-packages (from llama-index) (0.1.13)\n",
      "Requirement already satisfied: llama-index-core==0.10.51 in c:\\users\\chandana\\appdata\\roaming\\python\\python311\\site-packages (from llama-index) (0.10.51)\n",
      "Requirement already satisfied: llama-index-embeddings-openai<0.2.0,>=0.1.5 in c:\\users\\chandana\\appdata\\roaming\\python\\python311\\site-packages (from llama-index) (0.1.10)\n",
      "Requirement already satisfied: llama-index-indices-managed-llama-cloud>=0.2.0 in c:\\users\\chandana\\appdata\\roaming\\python\\python311\\site-packages (from llama-index) (0.2.4)\n",
      "Requirement already satisfied: llama-index-legacy<0.10.0,>=0.9.48 in c:\\users\\chandana\\appdata\\roaming\\python\\python311\\site-packages (from llama-index) (0.9.48.post3)\n",
      "Requirement already satisfied: llama-index-llms-openai<0.2.0,>=0.1.13 in c:\\users\\chandana\\appdata\\roaming\\python\\python311\\site-packages (from llama-index) (0.1.24)\n",
      "Requirement already satisfied: llama-index-multi-modal-llms-openai<0.2.0,>=0.1.3 in c:\\users\\chandana\\appdata\\roaming\\python\\python311\\site-packages (from llama-index) (0.1.9)\n",
      "Requirement already satisfied: llama-index-program-openai<0.2.0,>=0.1.3 in c:\\users\\chandana\\appdata\\roaming\\python\\python311\\site-packages (from llama-index) (0.1.6)\n",
      "Requirement already satisfied: llama-index-question-gen-openai<0.2.0,>=0.1.2 in c:\\users\\chandana\\appdata\\roaming\\python\\python311\\site-packages (from llama-index) (0.1.3)\n",
      "Requirement already satisfied: llama-index-readers-file<0.2.0,>=0.1.4 in c:\\users\\chandana\\appdata\\roaming\\python\\python311\\site-packages (from llama-index) (0.1.25)\n",
      "Requirement already satisfied: llama-index-readers-llama-parse<0.2.0,>=0.1.2 in c:\\users\\chandana\\appdata\\roaming\\python\\python311\\site-packages (from llama-index) (0.1.6)\n",
      "Requirement already satisfied: PyYAML>=6.0.1 in c:\\users\\chandana\\appdata\\roaming\\python\\python311\\site-packages (from llama-index-core==0.10.51->llama-index) (6.0.1)\n",
      "Requirement already satisfied: SQLAlchemy[asyncio]>=1.4.49 in c:\\users\\chandana\\appdata\\roaming\\python\\python311\\site-packages (from llama-index-core==0.10.51->llama-index) (2.0.32)\n",
      "Requirement already satisfied: aiohttp<4.0.0,>=3.8.6 in c:\\users\\chandana\\appdata\\roaming\\python\\python311\\site-packages (from llama-index-core==0.10.51->llama-index) (3.10.5)\n",
      "Requirement already satisfied: dataclasses-json in c:\\users\\chandana\\appdata\\roaming\\python\\python311\\site-packages (from llama-index-core==0.10.51->llama-index) (0.6.7)\n",
      "Requirement already satisfied: deprecated>=1.2.9.3 in c:\\users\\chandana\\appdata\\roaming\\python\\python311\\site-packages (from llama-index-core==0.10.51->llama-index) (1.2.14)\n",
      "Requirement already satisfied: dirtyjson<2.0.0,>=1.0.8 in c:\\users\\chandana\\appdata\\roaming\\python\\python311\\site-packages (from llama-index-core==0.10.51->llama-index) (1.0.8)\n",
      "Requirement already satisfied: fsspec>=2023.5.0 in c:\\users\\chandana\\appdata\\roaming\\python\\python311\\site-packages (from llama-index-core==0.10.51->llama-index) (2024.6.1)\n",
      "Requirement already satisfied: httpx in c:\\users\\chandana\\appdata\\roaming\\python\\python311\\site-packages (from llama-index-core==0.10.51->llama-index) (0.27.0)\n",
      "Requirement already satisfied: llama-cloud<0.0.7,>=0.0.6 in c:\\users\\chandana\\appdata\\roaming\\python\\python311\\site-packages (from llama-index-core==0.10.51->llama-index) (0.0.6)\n",
      "Requirement already satisfied: nest-asyncio<2.0.0,>=1.5.8 in c:\\users\\chandana\\appdata\\roaming\\python\\python311\\site-packages (from llama-index-core==0.10.51->llama-index) (1.5.8)\n",
      "Requirement already satisfied: networkx>=3.0 in c:\\users\\chandana\\appdata\\roaming\\python\\python311\\site-packages (from llama-index-core==0.10.51->llama-index) (3.3)\n",
      "Requirement already satisfied: nltk<4.0.0,>=3.8.1 in c:\\users\\chandana\\appdata\\roaming\\python\\python311\\site-packages (from llama-index-core==0.10.51->llama-index) (3.9.1)\n",
      "Requirement already satisfied: numpy<2.0.0 in c:\\users\\chandana\\appdata\\roaming\\python\\python311\\site-packages (from llama-index-core==0.10.51->llama-index) (1.26.1)\n",
      "Requirement already satisfied: openai>=1.1.0 in c:\\users\\chandana\\appdata\\roaming\\python\\python311\\site-packages (from llama-index-core==0.10.51->llama-index) (1.42.0)\n",
      "Requirement already satisfied: pandas in c:\\users\\chandana\\appdata\\roaming\\python\\python311\\site-packages (from llama-index-core==0.10.51->llama-index) (2.0.0)\n",
      "Requirement already satisfied: pillow>=9.0.0 in c:\\users\\chandana\\appdata\\roaming\\python\\python311\\site-packages (from llama-index-core==0.10.51->llama-index) (10.4.0)\n",
      "Requirement already satisfied: requests>=2.31.0 in c:\\users\\chandana\\appdata\\roaming\\python\\python311\\site-packages (from llama-index-core==0.10.51->llama-index) (2.31.0)\n",
      "Requirement already satisfied: tenacity!=8.4.0,<9.0.0,>=8.2.0 in c:\\users\\chandana\\appdata\\roaming\\python\\python311\\site-packages (from llama-index-core==0.10.51->llama-index) (8.5.0)\n",
      "Requirement already satisfied: tiktoken>=0.3.3 in c:\\users\\chandana\\appdata\\roaming\\python\\python311\\site-packages (from llama-index-core==0.10.51->llama-index) (0.7.0)\n",
      "Requirement already satisfied: tqdm<5.0.0,>=4.66.1 in c:\\users\\chandana\\appdata\\roaming\\python\\python311\\site-packages (from llama-index-core==0.10.51->llama-index) (4.66.5)\n",
      "Requirement already satisfied: typing-extensions>=4.5.0 in c:\\users\\chandana\\appdata\\roaming\\python\\python311\\site-packages (from llama-index-core==0.10.51->llama-index) (4.12.2)\n",
      "Requirement already satisfied: typing-inspect>=0.8.0 in c:\\users\\chandana\\appdata\\roaming\\python\\python311\\site-packages (from llama-index-core==0.10.51->llama-index) (0.9.0)\n",
      "Requirement already satisfied: wrapt in c:\\users\\chandana\\appdata\\roaming\\python\\python311\\site-packages (from llama-index-core==0.10.51->llama-index) (1.14.1)\n",
      "Requirement already satisfied: beautifulsoup4<5.0.0,>=4.12.3 in c:\\users\\chandana\\appdata\\roaming\\python\\python311\\site-packages (from llama-index-readers-file<0.2.0,>=0.1.4->llama-index) (4.12.3)\n",
      "Requirement already satisfied: pypdf<5.0.0,>=4.0.1 in c:\\users\\chandana\\appdata\\roaming\\python\\python311\\site-packages (from llama-index-readers-file<0.2.0,>=0.1.4->llama-index) (4.3.1)\n",
      "Requirement already satisfied: striprtf<0.0.27,>=0.0.26 in c:\\users\\chandana\\appdata\\roaming\\python\\python311\\site-packages (from llama-index-readers-file<0.2.0,>=0.1.4->llama-index) (0.0.26)\n",
      "Requirement already satisfied: llama-parse>=0.4.0 in c:\\users\\chandana\\appdata\\roaming\\python\\python311\\site-packages (from llama-index-readers-llama-parse<0.2.0,>=0.1.2->llama-index) (0.4.9)\n",
      "Requirement already satisfied: aiohappyeyeballs>=2.3.0 in c:\\users\\chandana\\appdata\\roaming\\python\\python311\\site-packages (from aiohttp<4.0.0,>=3.8.6->llama-index-core==0.10.51->llama-index) (2.4.0)\n",
      "Requirement already satisfied: aiosignal>=1.1.2 in c:\\users\\chandana\\appdata\\roaming\\python\\python311\\site-packages (from aiohttp<4.0.0,>=3.8.6->llama-index-core==0.10.51->llama-index) (1.3.1)\n",
      "Requirement already satisfied: attrs>=17.3.0 in c:\\users\\chandana\\appdata\\roaming\\python\\python311\\site-packages (from aiohttp<4.0.0,>=3.8.6->llama-index-core==0.10.51->llama-index) (23.1.0)\n",
      "Requirement already satisfied: frozenlist>=1.1.1 in c:\\users\\chandana\\appdata\\roaming\\python\\python311\\site-packages (from aiohttp<4.0.0,>=3.8.6->llama-index-core==0.10.51->llama-index) (1.4.1)\n",
      "Requirement already satisfied: multidict<7.0,>=4.5 in c:\\users\\chandana\\appdata\\roaming\\python\\python311\\site-packages (from aiohttp<4.0.0,>=3.8.6->llama-index-core==0.10.51->llama-index) (6.0.5)\n",
      "Requirement already satisfied: yarl<2.0,>=1.0 in c:\\users\\chandana\\appdata\\roaming\\python\\python311\\site-packages (from aiohttp<4.0.0,>=3.8.6->llama-index-core==0.10.51->llama-index) (1.9.4)\n",
      "Requirement already satisfied: soupsieve>1.2 in c:\\users\\chandana\\appdata\\roaming\\python\\python311\\site-packages (from beautifulsoup4<5.0.0,>=4.12.3->llama-index-readers-file<0.2.0,>=0.1.4->llama-index) (2.5)\n",
      "Requirement already satisfied: pydantic>=1.10 in c:\\users\\chandana\\appdata\\roaming\\python\\python311\\site-packages (from llama-cloud<0.0.7,>=0.0.6->llama-index-core==0.10.51->llama-index) (2.8.2)\n",
      "Requirement already satisfied: anyio in c:\\users\\chandana\\appdata\\roaming\\python\\python311\\site-packages (from httpx->llama-index-core==0.10.51->llama-index) (4.2.0)\n",
      "Requirement already satisfied: certifi in c:\\users\\chandana\\appdata\\roaming\\python\\python311\\site-packages (from httpx->llama-index-core==0.10.51->llama-index) (2023.7.22)\n",
      "Requirement already satisfied: httpcore==1.* in c:\\users\\chandana\\appdata\\roaming\\python\\python311\\site-packages (from httpx->llama-index-core==0.10.51->llama-index) (1.0.5)\n",
      "Requirement already satisfied: idna in c:\\users\\chandana\\appdata\\roaming\\python\\python311\\site-packages (from httpx->llama-index-core==0.10.51->llama-index) (3.4)\n",
      "Requirement already satisfied: sniffio in c:\\users\\chandana\\appdata\\roaming\\python\\python311\\site-packages (from httpx->llama-index-core==0.10.51->llama-index) (1.3.0)\n",
      "Requirement already satisfied: h11<0.15,>=0.13 in c:\\users\\chandana\\appdata\\roaming\\python\\python311\\site-packages (from httpcore==1.*->httpx->llama-index-core==0.10.51->llama-index) (0.14.0)\n",
      "Requirement already satisfied: click in c:\\users\\chandana\\appdata\\roaming\\python\\python311\\site-packages (from nltk<4.0.0,>=3.8.1->llama-index-core==0.10.51->llama-index) (8.1.7)\n",
      "Requirement already satisfied: joblib in c:\\users\\chandana\\appdata\\roaming\\python\\python311\\site-packages (from nltk<4.0.0,>=3.8.1->llama-index-core==0.10.51->llama-index) (1.4.2)\n",
      "Requirement already satisfied: regex>=2021.8.3 in c:\\users\\chandana\\appdata\\roaming\\python\\python311\\site-packages (from nltk<4.0.0,>=3.8.1->llama-index-core==0.10.51->llama-index) (2024.7.24)\n",
      "Requirement already satisfied: distro<2,>=1.7.0 in c:\\users\\chandana\\appdata\\roaming\\python\\python311\\site-packages (from openai>=1.1.0->llama-index-core==0.10.51->llama-index) (1.9.0)\n",
      "Requirement already satisfied: jiter<1,>=0.4.0 in c:\\users\\chandana\\appdata\\roaming\\python\\python311\\site-packages (from openai>=1.1.0->llama-index-core==0.10.51->llama-index) (0.5.0)\n",
      "Requirement already satisfied: charset-normalizer<4,>=2 in c:\\users\\chandana\\appdata\\roaming\\python\\python311\\site-packages (from requests>=2.31.0->llama-index-core==0.10.51->llama-index) (3.3.0)\n",
      "Requirement already satisfied: urllib3<3,>=1.21.1 in c:\\users\\chandana\\appdata\\roaming\\python\\python311\\site-packages (from requests>=2.31.0->llama-index-core==0.10.51->llama-index) (1.26.18)\n",
      "Requirement already satisfied: greenlet!=0.4.17 in c:\\users\\chandana\\appdata\\roaming\\python\\python311\\site-packages (from SQLAlchemy[asyncio]>=1.4.49->llama-index-core==0.10.51->llama-index) (3.0.3)\n",
      "Requirement already satisfied: colorama in c:\\users\\chandana\\appdata\\roaming\\python\\python311\\site-packages (from tqdm<5.0.0,>=4.66.1->llama-index-core==0.10.51->llama-index) (0.4.6)\n",
      "Requirement already satisfied: mypy-extensions>=0.3.0 in c:\\users\\chandana\\appdata\\roaming\\python\\python311\\site-packages (from typing-inspect>=0.8.0->llama-index-core==0.10.51->llama-index) (1.0.0)\n",
      "Requirement already satisfied: marshmallow<4.0.0,>=3.18.0 in c:\\users\\chandana\\appdata\\roaming\\python\\python311\\site-packages (from dataclasses-json->llama-index-core==0.10.51->llama-index) (3.22.0)\n",
      "Requirement already satisfied: python-dateutil>=2.8.2 in c:\\users\\chandana\\appdata\\roaming\\python\\python311\\site-packages (from pandas->llama-index-core==0.10.51->llama-index) (2.8.2)\n",
      "Requirement already satisfied: pytz>=2020.1 in c:\\users\\chandana\\appdata\\roaming\\python\\python311\\site-packages (from pandas->llama-index-core==0.10.51->llama-index) (2023.3)\n",
      "Requirement already satisfied: tzdata>=2022.1 in c:\\users\\chandana\\appdata\\roaming\\python\\python311\\site-packages (from pandas->llama-index-core==0.10.51->llama-index) (2023.3)\n",
      "Requirement already satisfied: packaging>=17.0 in c:\\users\\chandana\\appdata\\roaming\\python\\python311\\site-packages (from marshmallow<4.0.0,>=3.18.0->dataclasses-json->llama-index-core==0.10.51->llama-index) (23.2)\n",
      "Requirement already satisfied: annotated-types>=0.4.0 in c:\\users\\chandana\\appdata\\roaming\\python\\python311\\site-packages (from pydantic>=1.10->llama-cloud<0.0.7,>=0.0.6->llama-index-core==0.10.51->llama-index) (0.7.0)\n",
      "Requirement already satisfied: pydantic-core==2.20.1 in c:\\users\\chandana\\appdata\\roaming\\python\\python311\\site-packages (from pydantic>=1.10->llama-cloud<0.0.7,>=0.0.6->llama-index-core==0.10.51->llama-index) (2.20.1)\n",
      "Requirement already satisfied: six>=1.5 in c:\\users\\chandana\\appdata\\roaming\\python\\python311\\site-packages (from python-dateutil>=2.8.2->pandas->llama-index-core==0.10.51->llama-index) (1.16.0)\n"
     ]
    },
    {
     "name": "stderr",
     "output_type": "stream",
     "text": [
      "\n",
      "[notice] A new release of pip is available: 23.0.1 -> 24.2\n",
      "[notice] To update, run: python.exe -m pip install --upgrade pip\n"
     ]
    },
    {
     "name": "stdout",
     "output_type": "stream",
     "text": [
      "Defaulting to user installation because normal site-packages is not writeable\n",
      "Requirement already satisfied: llama-index-core in c:\\users\\chandana\\appdata\\roaming\\python\\python311\\site-packages (0.10.51)\n",
      "Requirement already satisfied: PyYAML>=6.0.1 in c:\\users\\chandana\\appdata\\roaming\\python\\python311\\site-packages (from llama-index-core) (6.0.1)\n",
      "Requirement already satisfied: SQLAlchemy[asyncio]>=1.4.49 in c:\\users\\chandana\\appdata\\roaming\\python\\python311\\site-packages (from llama-index-core) (2.0.32)\n",
      "Requirement already satisfied: aiohttp<4.0.0,>=3.8.6 in c:\\users\\chandana\\appdata\\roaming\\python\\python311\\site-packages (from llama-index-core) (3.10.5)\n",
      "Requirement already satisfied: dataclasses-json in c:\\users\\chandana\\appdata\\roaming\\python\\python311\\site-packages (from llama-index-core) (0.6.7)\n",
      "Requirement already satisfied: deprecated>=1.2.9.3 in c:\\users\\chandana\\appdata\\roaming\\python\\python311\\site-packages (from llama-index-core) (1.2.14)\n",
      "Requirement already satisfied: dirtyjson<2.0.0,>=1.0.8 in c:\\users\\chandana\\appdata\\roaming\\python\\python311\\site-packages (from llama-index-core) (1.0.8)\n",
      "Requirement already satisfied: fsspec>=2023.5.0 in c:\\users\\chandana\\appdata\\roaming\\python\\python311\\site-packages (from llama-index-core) (2024.6.1)\n",
      "Requirement already satisfied: httpx in c:\\users\\chandana\\appdata\\roaming\\python\\python311\\site-packages (from llama-index-core) (0.27.0)\n",
      "Requirement already satisfied: llama-cloud<0.0.7,>=0.0.6 in c:\\users\\chandana\\appdata\\roaming\\python\\python311\\site-packages (from llama-index-core) (0.0.6)\n",
      "Requirement already satisfied: nest-asyncio<2.0.0,>=1.5.8 in c:\\users\\chandana\\appdata\\roaming\\python\\python311\\site-packages (from llama-index-core) (1.5.8)\n",
      "Requirement already satisfied: networkx>=3.0 in c:\\users\\chandana\\appdata\\roaming\\python\\python311\\site-packages (from llama-index-core) (3.3)\n",
      "Requirement already satisfied: nltk<4.0.0,>=3.8.1 in c:\\users\\chandana\\appdata\\roaming\\python\\python311\\site-packages (from llama-index-core) (3.9.1)\n",
      "Requirement already satisfied: numpy<2.0.0 in c:\\users\\chandana\\appdata\\roaming\\python\\python311\\site-packages (from llama-index-core) (1.26.1)\n",
      "Requirement already satisfied: openai>=1.1.0 in c:\\users\\chandana\\appdata\\roaming\\python\\python311\\site-packages (from llama-index-core) (1.42.0)\n",
      "Requirement already satisfied: pandas in c:\\users\\chandana\\appdata\\roaming\\python\\python311\\site-packages (from llama-index-core) (2.0.0)\n",
      "Requirement already satisfied: pillow>=9.0.0 in c:\\users\\chandana\\appdata\\roaming\\python\\python311\\site-packages (from llama-index-core) (10.4.0)\n",
      "Requirement already satisfied: requests>=2.31.0 in c:\\users\\chandana\\appdata\\roaming\\python\\python311\\site-packages (from llama-index-core) (2.31.0)\n",
      "Requirement already satisfied: tenacity!=8.4.0,<9.0.0,>=8.2.0 in c:\\users\\chandana\\appdata\\roaming\\python\\python311\\site-packages (from llama-index-core) (8.5.0)\n",
      "Requirement already satisfied: tiktoken>=0.3.3 in c:\\users\\chandana\\appdata\\roaming\\python\\python311\\site-packages (from llama-index-core) (0.7.0)\n",
      "Requirement already satisfied: tqdm<5.0.0,>=4.66.1 in c:\\users\\chandana\\appdata\\roaming\\python\\python311\\site-packages (from llama-index-core) (4.66.5)\n",
      "Requirement already satisfied: typing-extensions>=4.5.0 in c:\\users\\chandana\\appdata\\roaming\\python\\python311\\site-packages (from llama-index-core) (4.12.2)\n",
      "Requirement already satisfied: typing-inspect>=0.8.0 in c:\\users\\chandana\\appdata\\roaming\\python\\python311\\site-packages (from llama-index-core) (0.9.0)\n",
      "Requirement already satisfied: wrapt in c:\\users\\chandana\\appdata\\roaming\\python\\python311\\site-packages (from llama-index-core) (1.14.1)\n",
      "Requirement already satisfied: aiohappyeyeballs>=2.3.0 in c:\\users\\chandana\\appdata\\roaming\\python\\python311\\site-packages (from aiohttp<4.0.0,>=3.8.6->llama-index-core) (2.4.0)\n",
      "Requirement already satisfied: aiosignal>=1.1.2 in c:\\users\\chandana\\appdata\\roaming\\python\\python311\\site-packages (from aiohttp<4.0.0,>=3.8.6->llama-index-core) (1.3.1)\n",
      "Requirement already satisfied: attrs>=17.3.0 in c:\\users\\chandana\\appdata\\roaming\\python\\python311\\site-packages (from aiohttp<4.0.0,>=3.8.6->llama-index-core) (23.1.0)\n",
      "Requirement already satisfied: frozenlist>=1.1.1 in c:\\users\\chandana\\appdata\\roaming\\python\\python311\\site-packages (from aiohttp<4.0.0,>=3.8.6->llama-index-core) (1.4.1)\n",
      "Requirement already satisfied: multidict<7.0,>=4.5 in c:\\users\\chandana\\appdata\\roaming\\python\\python311\\site-packages (from aiohttp<4.0.0,>=3.8.6->llama-index-core) (6.0.5)\n",
      "Requirement already satisfied: yarl<2.0,>=1.0 in c:\\users\\chandana\\appdata\\roaming\\python\\python311\\site-packages (from aiohttp<4.0.0,>=3.8.6->llama-index-core) (1.9.4)\n",
      "Requirement already satisfied: pydantic>=1.10 in c:\\users\\chandana\\appdata\\roaming\\python\\python311\\site-packages (from llama-cloud<0.0.7,>=0.0.6->llama-index-core) (2.8.2)\n",
      "Requirement already satisfied: anyio in c:\\users\\chandana\\appdata\\roaming\\python\\python311\\site-packages (from httpx->llama-index-core) (4.2.0)\n",
      "Requirement already satisfied: certifi in c:\\users\\chandana\\appdata\\roaming\\python\\python311\\site-packages (from httpx->llama-index-core) (2023.7.22)\n",
      "Requirement already satisfied: httpcore==1.* in c:\\users\\chandana\\appdata\\roaming\\python\\python311\\site-packages (from httpx->llama-index-core) (1.0.5)\n",
      "Requirement already satisfied: idna in c:\\users\\chandana\\appdata\\roaming\\python\\python311\\site-packages (from httpx->llama-index-core) (3.4)\n",
      "Requirement already satisfied: sniffio in c:\\users\\chandana\\appdata\\roaming\\python\\python311\\site-packages (from httpx->llama-index-core) (1.3.0)\n",
      "Requirement already satisfied: h11<0.15,>=0.13 in c:\\users\\chandana\\appdata\\roaming\\python\\python311\\site-packages (from httpcore==1.*->httpx->llama-index-core) (0.14.0)\n",
      "Requirement already satisfied: click in c:\\users\\chandana\\appdata\\roaming\\python\\python311\\site-packages (from nltk<4.0.0,>=3.8.1->llama-index-core) (8.1.7)\n",
      "Requirement already satisfied: joblib in c:\\users\\chandana\\appdata\\roaming\\python\\python311\\site-packages (from nltk<4.0.0,>=3.8.1->llama-index-core) (1.4.2)\n",
      "Requirement already satisfied: regex>=2021.8.3 in c:\\users\\chandana\\appdata\\roaming\\python\\python311\\site-packages (from nltk<4.0.0,>=3.8.1->llama-index-core) (2024.7.24)\n",
      "Requirement already satisfied: distro<2,>=1.7.0 in c:\\users\\chandana\\appdata\\roaming\\python\\python311\\site-packages (from openai>=1.1.0->llama-index-core) (1.9.0)\n",
      "Requirement already satisfied: jiter<1,>=0.4.0 in c:\\users\\chandana\\appdata\\roaming\\python\\python311\\site-packages (from openai>=1.1.0->llama-index-core) (0.5.0)\n",
      "Requirement already satisfied: charset-normalizer<4,>=2 in c:\\users\\chandana\\appdata\\roaming\\python\\python311\\site-packages (from requests>=2.31.0->llama-index-core) (3.3.0)\n",
      "Requirement already satisfied: urllib3<3,>=1.21.1 in c:\\users\\chandana\\appdata\\roaming\\python\\python311\\site-packages (from requests>=2.31.0->llama-index-core) (1.26.18)\n",
      "Requirement already satisfied: greenlet!=0.4.17 in c:\\users\\chandana\\appdata\\roaming\\python\\python311\\site-packages (from SQLAlchemy[asyncio]>=1.4.49->llama-index-core) (3.0.3)\n",
      "Requirement already satisfied: colorama in c:\\users\\chandana\\appdata\\roaming\\python\\python311\\site-packages (from tqdm<5.0.0,>=4.66.1->llama-index-core) (0.4.6)\n",
      "Requirement already satisfied: mypy-extensions>=0.3.0 in c:\\users\\chandana\\appdata\\roaming\\python\\python311\\site-packages (from typing-inspect>=0.8.0->llama-index-core) (1.0.0)\n",
      "Requirement already satisfied: marshmallow<4.0.0,>=3.18.0 in c:\\users\\chandana\\appdata\\roaming\\python\\python311\\site-packages (from dataclasses-json->llama-index-core) (3.22.0)\n",
      "Requirement already satisfied: python-dateutil>=2.8.2 in c:\\users\\chandana\\appdata\\roaming\\python\\python311\\site-packages (from pandas->llama-index-core) (2.8.2)\n",
      "Requirement already satisfied: pytz>=2020.1 in c:\\users\\chandana\\appdata\\roaming\\python\\python311\\site-packages (from pandas->llama-index-core) (2023.3)\n",
      "Requirement already satisfied: tzdata>=2022.1 in c:\\users\\chandana\\appdata\\roaming\\python\\python311\\site-packages (from pandas->llama-index-core) (2023.3)\n",
      "Requirement already satisfied: packaging>=17.0 in c:\\users\\chandana\\appdata\\roaming\\python\\python311\\site-packages (from marshmallow<4.0.0,>=3.18.0->dataclasses-json->llama-index-core) (23.2)\n",
      "Requirement already satisfied: annotated-types>=0.4.0 in c:\\users\\chandana\\appdata\\roaming\\python\\python311\\site-packages (from pydantic>=1.10->llama-cloud<0.0.7,>=0.0.6->llama-index-core) (0.7.0)\n",
      "Requirement already satisfied: pydantic-core==2.20.1 in c:\\users\\chandana\\appdata\\roaming\\python\\python311\\site-packages (from pydantic>=1.10->llama-cloud<0.0.7,>=0.0.6->llama-index-core) (2.20.1)\n",
      "Requirement already satisfied: six>=1.5 in c:\\users\\chandana\\appdata\\roaming\\python\\python311\\site-packages (from python-dateutil>=2.8.2->pandas->llama-index-core) (1.16.0)\n"
     ]
    },
    {
     "name": "stderr",
     "output_type": "stream",
     "text": [
      "\n",
      "[notice] A new release of pip is available: 23.0.1 -> 24.2\n",
      "[notice] To update, run: python.exe -m pip install --upgrade pip\n"
     ]
    },
    {
     "name": "stdout",
     "output_type": "stream",
     "text": [
      "Defaulting to user installation because normal site-packages is not writeable\n",
      "Requirement already satisfied: llama-index-llms-openai in c:\\users\\chandana\\appdata\\roaming\\python\\python311\\site-packages (0.1.24)\n",
      "Requirement already satisfied: llama-index-core<0.11.0,>=0.10.24 in c:\\users\\chandana\\appdata\\roaming\\python\\python311\\site-packages (from llama-index-llms-openai) (0.10.51)\n",
      "Requirement already satisfied: PyYAML>=6.0.1 in c:\\users\\chandana\\appdata\\roaming\\python\\python311\\site-packages (from llama-index-core<0.11.0,>=0.10.24->llama-index-llms-openai) (6.0.1)\n",
      "Requirement already satisfied: SQLAlchemy[asyncio]>=1.4.49 in c:\\users\\chandana\\appdata\\roaming\\python\\python311\\site-packages (from llama-index-core<0.11.0,>=0.10.24->llama-index-llms-openai) (2.0.32)\n",
      "Requirement already satisfied: aiohttp<4.0.0,>=3.8.6 in c:\\users\\chandana\\appdata\\roaming\\python\\python311\\site-packages (from llama-index-core<0.11.0,>=0.10.24->llama-index-llms-openai) (3.10.5)\n",
      "Requirement already satisfied: dataclasses-json in c:\\users\\chandana\\appdata\\roaming\\python\\python311\\site-packages (from llama-index-core<0.11.0,>=0.10.24->llama-index-llms-openai) (0.6.7)\n",
      "Requirement already satisfied: deprecated>=1.2.9.3 in c:\\users\\chandana\\appdata\\roaming\\python\\python311\\site-packages (from llama-index-core<0.11.0,>=0.10.24->llama-index-llms-openai) (1.2.14)\n",
      "Requirement already satisfied: dirtyjson<2.0.0,>=1.0.8 in c:\\users\\chandana\\appdata\\roaming\\python\\python311\\site-packages (from llama-index-core<0.11.0,>=0.10.24->llama-index-llms-openai) (1.0.8)\n",
      "Requirement already satisfied: fsspec>=2023.5.0 in c:\\users\\chandana\\appdata\\roaming\\python\\python311\\site-packages (from llama-index-core<0.11.0,>=0.10.24->llama-index-llms-openai) (2024.6.1)\n",
      "Requirement already satisfied: httpx in c:\\users\\chandana\\appdata\\roaming\\python\\python311\\site-packages (from llama-index-core<0.11.0,>=0.10.24->llama-index-llms-openai) (0.27.0)\n",
      "Requirement already satisfied: llama-cloud<0.0.7,>=0.0.6 in c:\\users\\chandana\\appdata\\roaming\\python\\python311\\site-packages (from llama-index-core<0.11.0,>=0.10.24->llama-index-llms-openai) (0.0.6)\n",
      "Requirement already satisfied: nest-asyncio<2.0.0,>=1.5.8 in c:\\users\\chandana\\appdata\\roaming\\python\\python311\\site-packages (from llama-index-core<0.11.0,>=0.10.24->llama-index-llms-openai) (1.5.8)\n",
      "Requirement already satisfied: networkx>=3.0 in c:\\users\\chandana\\appdata\\roaming\\python\\python311\\site-packages (from llama-index-core<0.11.0,>=0.10.24->llama-index-llms-openai) (3.3)\n",
      "Requirement already satisfied: nltk<4.0.0,>=3.8.1 in c:\\users\\chandana\\appdata\\roaming\\python\\python311\\site-packages (from llama-index-core<0.11.0,>=0.10.24->llama-index-llms-openai) (3.9.1)\n",
      "Requirement already satisfied: numpy<2.0.0 in c:\\users\\chandana\\appdata\\roaming\\python\\python311\\site-packages (from llama-index-core<0.11.0,>=0.10.24->llama-index-llms-openai) (1.26.1)\n",
      "Requirement already satisfied: openai>=1.1.0 in c:\\users\\chandana\\appdata\\roaming\\python\\python311\\site-packages (from llama-index-core<0.11.0,>=0.10.24->llama-index-llms-openai) (1.42.0)\n",
      "Requirement already satisfied: pandas in c:\\users\\chandana\\appdata\\roaming\\python\\python311\\site-packages (from llama-index-core<0.11.0,>=0.10.24->llama-index-llms-openai) (2.0.0)\n",
      "Requirement already satisfied: pillow>=9.0.0 in c:\\users\\chandana\\appdata\\roaming\\python\\python311\\site-packages (from llama-index-core<0.11.0,>=0.10.24->llama-index-llms-openai) (10.4.0)\n",
      "Requirement already satisfied: requests>=2.31.0 in c:\\users\\chandana\\appdata\\roaming\\python\\python311\\site-packages (from llama-index-core<0.11.0,>=0.10.24->llama-index-llms-openai) (2.31.0)\n",
      "Requirement already satisfied: tenacity!=8.4.0,<9.0.0,>=8.2.0 in c:\\users\\chandana\\appdata\\roaming\\python\\python311\\site-packages (from llama-index-core<0.11.0,>=0.10.24->llama-index-llms-openai) (8.5.0)\n",
      "Requirement already satisfied: tiktoken>=0.3.3 in c:\\users\\chandana\\appdata\\roaming\\python\\python311\\site-packages (from llama-index-core<0.11.0,>=0.10.24->llama-index-llms-openai) (0.7.0)\n",
      "Requirement already satisfied: tqdm<5.0.0,>=4.66.1 in c:\\users\\chandana\\appdata\\roaming\\python\\python311\\site-packages (from llama-index-core<0.11.0,>=0.10.24->llama-index-llms-openai) (4.66.5)\n",
      "Requirement already satisfied: typing-extensions>=4.5.0 in c:\\users\\chandana\\appdata\\roaming\\python\\python311\\site-packages (from llama-index-core<0.11.0,>=0.10.24->llama-index-llms-openai) (4.12.2)\n",
      "Requirement already satisfied: typing-inspect>=0.8.0 in c:\\users\\chandana\\appdata\\roaming\\python\\python311\\site-packages (from llama-index-core<0.11.0,>=0.10.24->llama-index-llms-openai) (0.9.0)\n",
      "Requirement already satisfied: wrapt in c:\\users\\chandana\\appdata\\roaming\\python\\python311\\site-packages (from llama-index-core<0.11.0,>=0.10.24->llama-index-llms-openai) (1.14.1)\n",
      "Requirement already satisfied: aiohappyeyeballs>=2.3.0 in c:\\users\\chandana\\appdata\\roaming\\python\\python311\\site-packages (from aiohttp<4.0.0,>=3.8.6->llama-index-core<0.11.0,>=0.10.24->llama-index-llms-openai) (2.4.0)\n",
      "Requirement already satisfied: aiosignal>=1.1.2 in c:\\users\\chandana\\appdata\\roaming\\python\\python311\\site-packages (from aiohttp<4.0.0,>=3.8.6->llama-index-core<0.11.0,>=0.10.24->llama-index-llms-openai) (1.3.1)\n",
      "Requirement already satisfied: attrs>=17.3.0 in c:\\users\\chandana\\appdata\\roaming\\python\\python311\\site-packages (from aiohttp<4.0.0,>=3.8.6->llama-index-core<0.11.0,>=0.10.24->llama-index-llms-openai) (23.1.0)\n",
      "Requirement already satisfied: frozenlist>=1.1.1 in c:\\users\\chandana\\appdata\\roaming\\python\\python311\\site-packages (from aiohttp<4.0.0,>=3.8.6->llama-index-core<0.11.0,>=0.10.24->llama-index-llms-openai) (1.4.1)\n",
      "Requirement already satisfied: multidict<7.0,>=4.5 in c:\\users\\chandana\\appdata\\roaming\\python\\python311\\site-packages (from aiohttp<4.0.0,>=3.8.6->llama-index-core<0.11.0,>=0.10.24->llama-index-llms-openai) (6.0.5)\n",
      "Requirement already satisfied: yarl<2.0,>=1.0 in c:\\users\\chandana\\appdata\\roaming\\python\\python311\\site-packages (from aiohttp<4.0.0,>=3.8.6->llama-index-core<0.11.0,>=0.10.24->llama-index-llms-openai) (1.9.4)\n",
      "Requirement already satisfied: pydantic>=1.10 in c:\\users\\chandana\\appdata\\roaming\\python\\python311\\site-packages (from llama-cloud<0.0.7,>=0.0.6->llama-index-core<0.11.0,>=0.10.24->llama-index-llms-openai) (2.8.2)\n",
      "Requirement already satisfied: anyio in c:\\users\\chandana\\appdata\\roaming\\python\\python311\\site-packages (from httpx->llama-index-core<0.11.0,>=0.10.24->llama-index-llms-openai) (4.2.0)\n",
      "Requirement already satisfied: certifi in c:\\users\\chandana\\appdata\\roaming\\python\\python311\\site-packages (from httpx->llama-index-core<0.11.0,>=0.10.24->llama-index-llms-openai) (2023.7.22)\n",
      "Requirement already satisfied: httpcore==1.* in c:\\users\\chandana\\appdata\\roaming\\python\\python311\\site-packages (from httpx->llama-index-core<0.11.0,>=0.10.24->llama-index-llms-openai) (1.0.5)\n",
      "Requirement already satisfied: idna in c:\\users\\chandana\\appdata\\roaming\\python\\python311\\site-packages (from httpx->llama-index-core<0.11.0,>=0.10.24->llama-index-llms-openai) (3.4)\n",
      "Requirement already satisfied: sniffio in c:\\users\\chandana\\appdata\\roaming\\python\\python311\\site-packages (from httpx->llama-index-core<0.11.0,>=0.10.24->llama-index-llms-openai) (1.3.0)\n",
      "Requirement already satisfied: h11<0.15,>=0.13 in c:\\users\\chandana\\appdata\\roaming\\python\\python311\\site-packages (from httpcore==1.*->httpx->llama-index-core<0.11.0,>=0.10.24->llama-index-llms-openai) (0.14.0)\n",
      "Requirement already satisfied: click in c:\\users\\chandana\\appdata\\roaming\\python\\python311\\site-packages (from nltk<4.0.0,>=3.8.1->llama-index-core<0.11.0,>=0.10.24->llama-index-llms-openai) (8.1.7)\n",
      "Requirement already satisfied: joblib in c:\\users\\chandana\\appdata\\roaming\\python\\python311\\site-packages (from nltk<4.0.0,>=3.8.1->llama-index-core<0.11.0,>=0.10.24->llama-index-llms-openai) (1.4.2)\n",
      "Requirement already satisfied: regex>=2021.8.3 in c:\\users\\chandana\\appdata\\roaming\\python\\python311\\site-packages (from nltk<4.0.0,>=3.8.1->llama-index-core<0.11.0,>=0.10.24->llama-index-llms-openai) (2024.7.24)\n",
      "Requirement already satisfied: distro<2,>=1.7.0 in c:\\users\\chandana\\appdata\\roaming\\python\\python311\\site-packages (from openai>=1.1.0->llama-index-core<0.11.0,>=0.10.24->llama-index-llms-openai) (1.9.0)\n",
      "Requirement already satisfied: jiter<1,>=0.4.0 in c:\\users\\chandana\\appdata\\roaming\\python\\python311\\site-packages (from openai>=1.1.0->llama-index-core<0.11.0,>=0.10.24->llama-index-llms-openai) (0.5.0)\n",
      "Requirement already satisfied: charset-normalizer<4,>=2 in c:\\users\\chandana\\appdata\\roaming\\python\\python311\\site-packages (from requests>=2.31.0->llama-index-core<0.11.0,>=0.10.24->llama-index-llms-openai) (3.3.0)\n",
      "Requirement already satisfied: urllib3<3,>=1.21.1 in c:\\users\\chandana\\appdata\\roaming\\python\\python311\\site-packages (from requests>=2.31.0->llama-index-core<0.11.0,>=0.10.24->llama-index-llms-openai) (1.26.18)\n",
      "Requirement already satisfied: greenlet!=0.4.17 in c:\\users\\chandana\\appdata\\roaming\\python\\python311\\site-packages (from SQLAlchemy[asyncio]>=1.4.49->llama-index-core<0.11.0,>=0.10.24->llama-index-llms-openai) (3.0.3)\n",
      "Requirement already satisfied: colorama in c:\\users\\chandana\\appdata\\roaming\\python\\python311\\site-packages (from tqdm<5.0.0,>=4.66.1->llama-index-core<0.11.0,>=0.10.24->llama-index-llms-openai) (0.4.6)\n",
      "Requirement already satisfied: mypy-extensions>=0.3.0 in c:\\users\\chandana\\appdata\\roaming\\python\\python311\\site-packages (from typing-inspect>=0.8.0->llama-index-core<0.11.0,>=0.10.24->llama-index-llms-openai) (1.0.0)\n",
      "Requirement already satisfied: marshmallow<4.0.0,>=3.18.0 in c:\\users\\chandana\\appdata\\roaming\\python\\python311\\site-packages (from dataclasses-json->llama-index-core<0.11.0,>=0.10.24->llama-index-llms-openai) (3.22.0)\n",
      "Requirement already satisfied: python-dateutil>=2.8.2 in c:\\users\\chandana\\appdata\\roaming\\python\\python311\\site-packages (from pandas->llama-index-core<0.11.0,>=0.10.24->llama-index-llms-openai) (2.8.2)\n",
      "Requirement already satisfied: pytz>=2020.1 in c:\\users\\chandana\\appdata\\roaming\\python\\python311\\site-packages (from pandas->llama-index-core<0.11.0,>=0.10.24->llama-index-llms-openai) (2023.3)\n",
      "Requirement already satisfied: tzdata>=2022.1 in c:\\users\\chandana\\appdata\\roaming\\python\\python311\\site-packages (from pandas->llama-index-core<0.11.0,>=0.10.24->llama-index-llms-openai) (2023.3)\n",
      "Requirement already satisfied: packaging>=17.0 in c:\\users\\chandana\\appdata\\roaming\\python\\python311\\site-packages (from marshmallow<4.0.0,>=3.18.0->dataclasses-json->llama-index-core<0.11.0,>=0.10.24->llama-index-llms-openai) (23.2)\n",
      "Requirement already satisfied: annotated-types>=0.4.0 in c:\\users\\chandana\\appdata\\roaming\\python\\python311\\site-packages (from pydantic>=1.10->llama-cloud<0.0.7,>=0.0.6->llama-index-core<0.11.0,>=0.10.24->llama-index-llms-openai) (0.7.0)\n",
      "Requirement already satisfied: pydantic-core==2.20.1 in c:\\users\\chandana\\appdata\\roaming\\python\\python311\\site-packages (from pydantic>=1.10->llama-cloud<0.0.7,>=0.0.6->llama-index-core<0.11.0,>=0.10.24->llama-index-llms-openai) (2.20.1)\n",
      "Requirement already satisfied: six>=1.5 in c:\\users\\chandana\\appdata\\roaming\\python\\python311\\site-packages (from python-dateutil>=2.8.2->pandas->llama-index-core<0.11.0,>=0.10.24->llama-index-llms-openai) (1.16.0)\n"
     ]
    },
    {
     "name": "stderr",
     "output_type": "stream",
     "text": [
      "\n",
      "[notice] A new release of pip is available: 23.0.1 -> 24.2\n",
      "[notice] To update, run: python.exe -m pip install --upgrade pip\n"
     ]
    },
    {
     "name": "stdout",
     "output_type": "stream",
     "text": [
      "Defaulting to user installation because normal site-packages is not writeable\n",
      "Collecting openinference-instrumentation-llama-index==2.2.4\n",
      "  Using cached openinference_instrumentation_llama_index-2.2.4-py3-none-any.whl (25 kB)\n",
      "Requirement already satisfied: openinference-instrumentation>=0.1.12 in c:\\users\\chandana\\appdata\\roaming\\python\\python311\\site-packages (from openinference-instrumentation-llama-index==2.2.4) (0.1.15)\n",
      "Requirement already satisfied: openinference-semantic-conventions>=0.1.9 in c:\\users\\chandana\\appdata\\roaming\\python\\python311\\site-packages (from openinference-instrumentation-llama-index==2.2.4) (0.1.10)\n",
      "Requirement already satisfied: opentelemetry-api in c:\\users\\chandana\\appdata\\roaming\\python\\python311\\site-packages (from openinference-instrumentation-llama-index==2.2.4) (1.27.0)\n",
      "Requirement already satisfied: opentelemetry-instrumentation in c:\\users\\chandana\\appdata\\roaming\\python\\python311\\site-packages (from openinference-instrumentation-llama-index==2.2.4) (0.48b0)\n",
      "Requirement already satisfied: opentelemetry-semantic-conventions in c:\\users\\chandana\\appdata\\roaming\\python\\python311\\site-packages (from openinference-instrumentation-llama-index==2.2.4) (0.48b0)\n",
      "Requirement already satisfied: typing-extensions in c:\\users\\chandana\\appdata\\roaming\\python\\python311\\site-packages (from openinference-instrumentation-llama-index==2.2.4) (4.12.2)\n",
      "Requirement already satisfied: wrapt in c:\\users\\chandana\\appdata\\roaming\\python\\python311\\site-packages (from openinference-instrumentation-llama-index==2.2.4) (1.14.1)\n",
      "Requirement already satisfied: deprecated>=1.2.6 in c:\\users\\chandana\\appdata\\roaming\\python\\python311\\site-packages (from opentelemetry-api->openinference-instrumentation-llama-index==2.2.4) (1.2.14)\n",
      "Requirement already satisfied: importlib-metadata<=8.4.0,>=6.0 in c:\\users\\chandana\\appdata\\roaming\\python\\python311\\site-packages (from opentelemetry-api->openinference-instrumentation-llama-index==2.2.4) (8.4.0)\n",
      "Requirement already satisfied: setuptools>=16.0 in c:\\program files\\python311\\lib\\site-packages (from opentelemetry-instrumentation->openinference-instrumentation-llama-index==2.2.4) (65.5.0)\n",
      "Requirement already satisfied: zipp>=0.5 in c:\\users\\chandana\\appdata\\roaming\\python\\python311\\site-packages (from importlib-metadata<=8.4.0,>=6.0->opentelemetry-api->openinference-instrumentation-llama-index==2.2.4) (3.20.1)\n",
      "Installing collected packages: openinference-instrumentation-llama-index\n",
      "  Attempting uninstall: openinference-instrumentation-llama-index\n",
      "    Found existing installation: openinference-instrumentation-llama-index 3.0.0\n",
      "    Uninstalling openinference-instrumentation-llama-index-3.0.0:\n",
      "      Successfully uninstalled openinference-instrumentation-llama-index-3.0.0\n",
      "Successfully installed openinference-instrumentation-llama-index-2.2.4\n"
     ]
    },
    {
     "name": "stderr",
     "output_type": "stream",
     "text": [
      "ERROR: pip's dependency resolver does not currently take into account all the packages that are installed. This behaviour is the source of the following dependency conflicts.\n",
      "llama-index-callbacks-arize-phoenix 0.2.1 requires llama-index-core<0.12.0,>=0.11.0, but you have llama-index-core 0.10.51 which is incompatible.\n",
      "llama-index-callbacks-arize-phoenix 0.2.1 requires openinference-instrumentation-llama-index>=3.0.0, but you have openinference-instrumentation-llama-index 2.2.4 which is incompatible.\n",
      "\n",
      "[notice] A new release of pip is available: 23.0.1 -> 24.2\n",
      "[notice] To update, run: python.exe -m pip install --upgrade pip\n"
     ]
    },
    {
     "name": "stdout",
     "output_type": "stream",
     "text": [
      "Defaulting to user installation because normal site-packages is not writeable\n",
      "Requirement already satisfied: llama-index-callbacks-arize-phoenix in c:\\users\\chandana\\appdata\\roaming\\python\\python311\\site-packages (0.2.1)\n",
      "Requirement already satisfied: arize-phoenix>=3.0.3 in c:\\users\\chandana\\appdata\\roaming\\python\\python311\\site-packages (from llama-index-callbacks-arize-phoenix) (4.32.0)\n",
      "Collecting llama-index-core<0.12.0,>=0.11.0\n",
      "  Downloading llama_index_core-0.11.7-py3-none-any.whl (1.6 MB)\n",
      "     ---------------------------------------- 0.0/1.6 MB ? eta -:--:--\n",
      "     - -------------------------------------- 0.0/1.6 MB 960.0 kB/s eta 0:00:02\n",
      "     -- ------------------------------------- 0.1/1.6 MB 1.0 MB/s eta 0:00:02\n",
      "     --- ------------------------------------ 0.1/1.6 MB 1.1 MB/s eta 0:00:02\n",
      "     ---- ----------------------------------- 0.2/1.6 MB 952.6 kB/s eta 0:00:02\n",
      "     ------ --------------------------------- 0.2/1.6 MB 1.0 MB/s eta 0:00:02\n",
      "     ------- -------------------------------- 0.3/1.6 MB 1.1 MB/s eta 0:00:02\n",
      "     -------- ------------------------------- 0.3/1.6 MB 1.1 MB/s eta 0:00:02\n",
      "     --------- ------------------------------ 0.4/1.6 MB 1.2 MB/s eta 0:00:02\n",
      "     ----------- ---------------------------- 0.4/1.6 MB 1.0 MB/s eta 0:00:02\n",
      "     ------------- -------------------------- 0.5/1.6 MB 1.1 MB/s eta 0:00:01\n",
      "     -------------- ------------------------- 0.6/1.6 MB 1.1 MB/s eta 0:00:01\n",
      "     ---------------- ----------------------- 0.6/1.6 MB 1.1 MB/s eta 0:00:01\n",
      "     ----------------- ---------------------- 0.7/1.6 MB 1.2 MB/s eta 0:00:01\n",
      "     -------------------- ------------------- 0.8/1.6 MB 1.2 MB/s eta 0:00:01\n",
      "     ---------------------- ----------------- 0.9/1.6 MB 1.2 MB/s eta 0:00:01\n",
      "     ------------------------ --------------- 0.9/1.6 MB 1.3 MB/s eta 0:00:01\n",
      "     ------------------------- -------------- 1.0/1.6 MB 1.3 MB/s eta 0:00:01\n",
      "     --------------------------- ------------ 1.1/1.6 MB 1.3 MB/s eta 0:00:01\n",
      "     ----------------------------- ---------- 1.1/1.6 MB 1.3 MB/s eta 0:00:01\n",
      "     ----------------------------- ---------- 1.1/1.6 MB 1.3 MB/s eta 0:00:01\n",
      "     -------------------------------- ------- 1.2/1.6 MB 1.3 MB/s eta 0:00:01\n",
      "     -------------------------------- ------- 1.2/1.6 MB 1.3 MB/s eta 0:00:01\n",
      "     ----------------------------------- ---- 1.4/1.6 MB 1.3 MB/s eta 0:00:01\n",
      "     ----------------------------------- ---- 1.4/1.6 MB 1.3 MB/s eta 0:00:01\n",
      "     -------------------------------------- - 1.5/1.6 MB 1.3 MB/s eta 0:00:01\n",
      "     -------------------------------------- - 1.5/1.6 MB 1.3 MB/s eta 0:00:01\n",
      "     ---------------------------------------  1.6/1.6 MB 1.3 MB/s eta 0:00:01\n",
      "     ---------------------------------------- 1.6/1.6 MB 1.2 MB/s eta 0:00:00\n",
      "Collecting openinference-instrumentation-llama-index>=3.0.0\n",
      "  Downloading openinference_instrumentation_llama_index-3.0.2-py3-none-any.whl (25 kB)\n",
      "Requirement already satisfied: aioitertools in c:\\users\\chandana\\appdata\\roaming\\python\\python311\\site-packages (from arize-phoenix>=3.0.3->llama-index-callbacks-arize-phoenix) (0.12.0)\n",
      "Requirement already satisfied: aiosqlite in c:\\users\\chandana\\appdata\\roaming\\python\\python311\\site-packages (from arize-phoenix>=3.0.3->llama-index-callbacks-arize-phoenix) (0.20.0)\n",
      "Requirement already satisfied: alembic<2,>=1.3.0 in c:\\users\\chandana\\appdata\\roaming\\python\\python311\\site-packages (from arize-phoenix>=3.0.3->llama-index-callbacks-arize-phoenix) (1.13.2)\n",
      "Requirement already satisfied: arize-phoenix-evals>=0.13.1 in c:\\users\\chandana\\appdata\\roaming\\python\\python311\\site-packages (from arize-phoenix>=3.0.3->llama-index-callbacks-arize-phoenix) (0.15.1)\n",
      "Requirement already satisfied: arize-phoenix-otel>=0.4.1 in c:\\users\\chandana\\appdata\\roaming\\python\\python311\\site-packages (from arize-phoenix>=3.0.3->llama-index-callbacks-arize-phoenix) (0.4.1)\n",
      "Requirement already satisfied: cachetools in c:\\users\\chandana\\appdata\\roaming\\python\\python311\\site-packages (from arize-phoenix>=3.0.3->llama-index-callbacks-arize-phoenix) (5.3.1)\n",
      "Requirement already satisfied: fastapi in c:\\users\\chandana\\appdata\\roaming\\python\\python311\\site-packages (from arize-phoenix>=3.0.3->llama-index-callbacks-arize-phoenix) (0.112.2)\n",
      "Requirement already satisfied: grpcio in c:\\users\\chandana\\appdata\\roaming\\python\\python311\\site-packages (from arize-phoenix>=3.0.3->llama-index-callbacks-arize-phoenix) (1.66.0)\n",
      "Requirement already satisfied: hdbscan>=0.8.33 in c:\\users\\chandana\\appdata\\roaming\\python\\python311\\site-packages (from arize-phoenix>=3.0.3->llama-index-callbacks-arize-phoenix) (0.8.38.post1)\n",
      "Requirement already satisfied: httpx in c:\\users\\chandana\\appdata\\roaming\\python\\python311\\site-packages (from arize-phoenix>=3.0.3->llama-index-callbacks-arize-phoenix) (0.27.0)\n",
      "Requirement already satisfied: jinja2 in c:\\users\\chandana\\appdata\\roaming\\python\\python311\\site-packages (from arize-phoenix>=3.0.3->llama-index-callbacks-arize-phoenix) (3.1.2)\n",
      "Requirement already satisfied: numpy<2 in c:\\users\\chandana\\appdata\\roaming\\python\\python311\\site-packages (from arize-phoenix>=3.0.3->llama-index-callbacks-arize-phoenix) (1.26.1)\n",
      "Requirement already satisfied: openinference-instrumentation-langchain>=0.1.26 in c:\\users\\chandana\\appdata\\roaming\\python\\python311\\site-packages (from arize-phoenix>=3.0.3->llama-index-callbacks-arize-phoenix) (0.1.27)\n",
      "Requirement already satisfied: openinference-instrumentation-openai>=0.1.11 in c:\\users\\chandana\\appdata\\roaming\\python\\python311\\site-packages (from arize-phoenix>=3.0.3->llama-index-callbacks-arize-phoenix) (0.1.14)\n",
      "Requirement already satisfied: openinference-instrumentation>=0.1.12 in c:\\users\\chandana\\appdata\\roaming\\python\\python311\\site-packages (from arize-phoenix>=3.0.3->llama-index-callbacks-arize-phoenix) (0.1.15)\n",
      "Requirement already satisfied: openinference-semantic-conventions>=0.1.9 in c:\\users\\chandana\\appdata\\roaming\\python\\python311\\site-packages (from arize-phoenix>=3.0.3->llama-index-callbacks-arize-phoenix) (0.1.10)\n",
      "Requirement already satisfied: opentelemetry-exporter-otlp in c:\\users\\chandana\\appdata\\roaming\\python\\python311\\site-packages (from arize-phoenix>=3.0.3->llama-index-callbacks-arize-phoenix) (1.27.0)\n",
      "Requirement already satisfied: opentelemetry-proto>=1.12.0 in c:\\users\\chandana\\appdata\\roaming\\python\\python311\\site-packages (from arize-phoenix>=3.0.3->llama-index-callbacks-arize-phoenix) (1.27.0)\n",
      "Requirement already satisfied: opentelemetry-sdk in c:\\users\\chandana\\appdata\\roaming\\python\\python311\\site-packages (from arize-phoenix>=3.0.3->llama-index-callbacks-arize-phoenix) (1.27.0)\n",
      "Requirement already satisfied: opentelemetry-semantic-conventions in c:\\users\\chandana\\appdata\\roaming\\python\\python311\\site-packages (from arize-phoenix>=3.0.3->llama-index-callbacks-arize-phoenix) (0.48b0)\n",
      "Requirement already satisfied: pandas>=1.0 in c:\\users\\chandana\\appdata\\roaming\\python\\python311\\site-packages (from arize-phoenix>=3.0.3->llama-index-callbacks-arize-phoenix) (2.0.0)\n",
      "Requirement already satisfied: protobuf<6.0,>=3.20 in c:\\users\\chandana\\appdata\\roaming\\python\\python311\\site-packages (from arize-phoenix>=3.0.3->llama-index-callbacks-arize-phoenix) (4.25.4)\n",
      "Requirement already satisfied: psutil in c:\\users\\chandana\\appdata\\roaming\\python\\python311\\site-packages (from arize-phoenix>=3.0.3->llama-index-callbacks-arize-phoenix) (5.9.7)\n",
      "Requirement already satisfied: pyarrow in c:\\users\\chandana\\appdata\\roaming\\python\\python311\\site-packages (from arize-phoenix>=3.0.3->llama-index-callbacks-arize-phoenix) (17.0.0)\n",
      "Requirement already satisfied: pydantic!=2.0.*,<3,>=1.0 in c:\\users\\chandana\\appdata\\roaming\\python\\python311\\site-packages (from arize-phoenix>=3.0.3->llama-index-callbacks-arize-phoenix) (2.8.2)\n",
      "Requirement already satisfied: pyjwt in c:\\users\\chandana\\appdata\\roaming\\python\\python311\\site-packages (from arize-phoenix>=3.0.3->llama-index-callbacks-arize-phoenix) (2.9.0)\n",
      "Requirement already satisfied: python-multipart in c:\\users\\chandana\\appdata\\roaming\\python\\python311\\site-packages (from arize-phoenix>=3.0.3->llama-index-callbacks-arize-phoenix) (0.0.9)\n",
      "Requirement already satisfied: scikit-learn in c:\\users\\chandana\\appdata\\roaming\\python\\python311\\site-packages (from arize-phoenix>=3.0.3->llama-index-callbacks-arize-phoenix) (1.5.1)\n",
      "Requirement already satisfied: scipy in c:\\users\\chandana\\appdata\\roaming\\python\\python311\\site-packages (from arize-phoenix>=3.0.3->llama-index-callbacks-arize-phoenix) (1.14.1)\n",
      "Requirement already satisfied: sqlalchemy[asyncio]<3,>=2.0.4 in c:\\users\\chandana\\appdata\\roaming\\python\\python311\\site-packages (from arize-phoenix>=3.0.3->llama-index-callbacks-arize-phoenix) (2.0.32)\n",
      "Requirement already satisfied: sqlean-py>=3.45.1 in c:\\users\\chandana\\appdata\\roaming\\python\\python311\\site-packages (from arize-phoenix>=3.0.3->llama-index-callbacks-arize-phoenix) (3.45.1)\n",
      "Requirement already satisfied: starlette in c:\\users\\chandana\\appdata\\roaming\\python\\python311\\site-packages (from arize-phoenix>=3.0.3->llama-index-callbacks-arize-phoenix) (0.38.4)\n",
      "Requirement already satisfied: strawberry-graphql==0.236.0 in c:\\users\\chandana\\appdata\\roaming\\python\\python311\\site-packages (from arize-phoenix>=3.0.3->llama-index-callbacks-arize-phoenix) (0.236.0)\n",
      "Requirement already satisfied: tqdm in c:\\users\\chandana\\appdata\\roaming\\python\\python311\\site-packages (from arize-phoenix>=3.0.3->llama-index-callbacks-arize-phoenix) (4.66.5)\n",
      "Requirement already satisfied: typing-extensions>=4.5 in c:\\users\\chandana\\appdata\\roaming\\python\\python311\\site-packages (from arize-phoenix>=3.0.3->llama-index-callbacks-arize-phoenix) (4.12.2)\n",
      "Requirement already satisfied: umap-learn in c:\\users\\chandana\\appdata\\roaming\\python\\python311\\site-packages (from arize-phoenix>=3.0.3->llama-index-callbacks-arize-phoenix) (0.5.6)\n",
      "Requirement already satisfied: uvicorn in c:\\users\\chandana\\appdata\\roaming\\python\\python311\\site-packages (from arize-phoenix>=3.0.3->llama-index-callbacks-arize-phoenix) (0.30.6)\n",
      "Requirement already satisfied: wrapt in c:\\users\\chandana\\appdata\\roaming\\python\\python311\\site-packages (from arize-phoenix>=3.0.3->llama-index-callbacks-arize-phoenix) (1.14.1)\n",
      "Requirement already satisfied: graphql-core<3.3.0,>=3.2.0 in c:\\users\\chandana\\appdata\\roaming\\python\\python311\\site-packages (from strawberry-graphql==0.236.0->arize-phoenix>=3.0.3->llama-index-callbacks-arize-phoenix) (3.2.3)\n",
      "Requirement already satisfied: python-dateutil<3.0.0,>=2.7.0 in c:\\users\\chandana\\appdata\\roaming\\python\\python311\\site-packages (from strawberry-graphql==0.236.0->arize-phoenix>=3.0.3->llama-index-callbacks-arize-phoenix) (2.8.2)\n",
      "Requirement already satisfied: PyYAML>=6.0.1 in c:\\users\\chandana\\appdata\\roaming\\python\\python311\\site-packages (from llama-index-core<0.12.0,>=0.11.0->llama-index-callbacks-arize-phoenix) (6.0.1)\n",
      "Requirement already satisfied: aiohttp<4.0.0,>=3.8.6 in c:\\users\\chandana\\appdata\\roaming\\python\\python311\\site-packages (from llama-index-core<0.12.0,>=0.11.0->llama-index-callbacks-arize-phoenix) (3.10.5)\n",
      "Requirement already satisfied: dataclasses-json in c:\\users\\chandana\\appdata\\roaming\\python\\python311\\site-packages (from llama-index-core<0.12.0,>=0.11.0->llama-index-callbacks-arize-phoenix) (0.6.7)\n",
      "Requirement already satisfied: deprecated>=1.2.9.3 in c:\\users\\chandana\\appdata\\roaming\\python\\python311\\site-packages (from llama-index-core<0.12.0,>=0.11.0->llama-index-callbacks-arize-phoenix) (1.2.14)\n",
      "Requirement already satisfied: dirtyjson<2.0.0,>=1.0.8 in c:\\users\\chandana\\appdata\\roaming\\python\\python311\\site-packages (from llama-index-core<0.12.0,>=0.11.0->llama-index-callbacks-arize-phoenix) (1.0.8)\n",
      "Requirement already satisfied: fsspec>=2023.5.0 in c:\\users\\chandana\\appdata\\roaming\\python\\python311\\site-packages (from llama-index-core<0.12.0,>=0.11.0->llama-index-callbacks-arize-phoenix) (2024.6.1)\n",
      "Requirement already satisfied: nest-asyncio<2.0.0,>=1.5.8 in c:\\users\\chandana\\appdata\\roaming\\python\\python311\\site-packages (from llama-index-core<0.12.0,>=0.11.0->llama-index-callbacks-arize-phoenix) (1.5.8)\n",
      "Requirement already satisfied: networkx>=3.0 in c:\\users\\chandana\\appdata\\roaming\\python\\python311\\site-packages (from llama-index-core<0.12.0,>=0.11.0->llama-index-callbacks-arize-phoenix) (3.3)\n",
      "Requirement already satisfied: nltk>3.8.1 in c:\\users\\chandana\\appdata\\roaming\\python\\python311\\site-packages (from llama-index-core<0.12.0,>=0.11.0->llama-index-callbacks-arize-phoenix) (3.9.1)\n",
      "Requirement already satisfied: pillow>=9.0.0 in c:\\users\\chandana\\appdata\\roaming\\python\\python311\\site-packages (from llama-index-core<0.12.0,>=0.11.0->llama-index-callbacks-arize-phoenix) (10.4.0)\n",
      "Requirement already satisfied: requests>=2.31.0 in c:\\users\\chandana\\appdata\\roaming\\python\\python311\\site-packages (from llama-index-core<0.12.0,>=0.11.0->llama-index-callbacks-arize-phoenix) (2.31.0)\n",
      "Requirement already satisfied: tenacity!=8.4.0,<9.0.0,>=8.2.0 in c:\\users\\chandana\\appdata\\roaming\\python\\python311\\site-packages (from llama-index-core<0.12.0,>=0.11.0->llama-index-callbacks-arize-phoenix) (8.5.0)\n",
      "Requirement already satisfied: tiktoken>=0.3.3 in c:\\users\\chandana\\appdata\\roaming\\python\\python311\\site-packages (from llama-index-core<0.12.0,>=0.11.0->llama-index-callbacks-arize-phoenix) (0.7.0)\n",
      "Requirement already satisfied: typing-inspect>=0.8.0 in c:\\users\\chandana\\appdata\\roaming\\python\\python311\\site-packages (from llama-index-core<0.12.0,>=0.11.0->llama-index-callbacks-arize-phoenix) (0.9.0)\n",
      "Requirement already satisfied: opentelemetry-api in c:\\users\\chandana\\appdata\\roaming\\python\\python311\\site-packages (from openinference-instrumentation-llama-index>=3.0.0->llama-index-callbacks-arize-phoenix) (1.27.0)\n",
      "Requirement already satisfied: opentelemetry-instrumentation in c:\\users\\chandana\\appdata\\roaming\\python\\python311\\site-packages (from openinference-instrumentation-llama-index>=3.0.0->llama-index-callbacks-arize-phoenix) (0.48b0)\n",
      "Requirement already satisfied: aiohappyeyeballs>=2.3.0 in c:\\users\\chandana\\appdata\\roaming\\python\\python311\\site-packages (from aiohttp<4.0.0,>=3.8.6->llama-index-core<0.12.0,>=0.11.0->llama-index-callbacks-arize-phoenix) (2.4.0)\n",
      "Requirement already satisfied: aiosignal>=1.1.2 in c:\\users\\chandana\\appdata\\roaming\\python\\python311\\site-packages (from aiohttp<4.0.0,>=3.8.6->llama-index-core<0.12.0,>=0.11.0->llama-index-callbacks-arize-phoenix) (1.3.1)\n",
      "Requirement already satisfied: attrs>=17.3.0 in c:\\users\\chandana\\appdata\\roaming\\python\\python311\\site-packages (from aiohttp<4.0.0,>=3.8.6->llama-index-core<0.12.0,>=0.11.0->llama-index-callbacks-arize-phoenix) (23.1.0)\n",
      "Requirement already satisfied: frozenlist>=1.1.1 in c:\\users\\chandana\\appdata\\roaming\\python\\python311\\site-packages (from aiohttp<4.0.0,>=3.8.6->llama-index-core<0.12.0,>=0.11.0->llama-index-callbacks-arize-phoenix) (1.4.1)\n",
      "Requirement already satisfied: multidict<7.0,>=4.5 in c:\\users\\chandana\\appdata\\roaming\\python\\python311\\site-packages (from aiohttp<4.0.0,>=3.8.6->llama-index-core<0.12.0,>=0.11.0->llama-index-callbacks-arize-phoenix) (6.0.5)\n",
      "Requirement already satisfied: yarl<2.0,>=1.0 in c:\\users\\chandana\\appdata\\roaming\\python\\python311\\site-packages (from aiohttp<4.0.0,>=3.8.6->llama-index-core<0.12.0,>=0.11.0->llama-index-callbacks-arize-phoenix) (1.9.4)\n",
      "Requirement already satisfied: Mako in c:\\users\\chandana\\appdata\\roaming\\python\\python311\\site-packages (from alembic<2,>=1.3.0->arize-phoenix>=3.0.3->llama-index-callbacks-arize-phoenix) (1.3.5)\n",
      "Requirement already satisfied: joblib>=1.0 in c:\\users\\chandana\\appdata\\roaming\\python\\python311\\site-packages (from hdbscan>=0.8.33->arize-phoenix>=3.0.3->llama-index-callbacks-arize-phoenix) (1.4.2)\n",
      "Requirement already satisfied: click in c:\\users\\chandana\\appdata\\roaming\\python\\python311\\site-packages (from nltk>3.8.1->llama-index-core<0.12.0,>=0.11.0->llama-index-callbacks-arize-phoenix) (8.1.7)\n",
      "Requirement already satisfied: regex>=2021.8.3 in c:\\users\\chandana\\appdata\\roaming\\python\\python311\\site-packages (from nltk>3.8.1->llama-index-core<0.12.0,>=0.11.0->llama-index-callbacks-arize-phoenix) (2024.7.24)\n",
      "Requirement already satisfied: pytz>=2020.1 in c:\\users\\chandana\\appdata\\roaming\\python\\python311\\site-packages (from pandas>=1.0->arize-phoenix>=3.0.3->llama-index-callbacks-arize-phoenix) (2023.3)\n",
      "Requirement already satisfied: tzdata>=2022.1 in c:\\users\\chandana\\appdata\\roaming\\python\\python311\\site-packages (from pandas>=1.0->arize-phoenix>=3.0.3->llama-index-callbacks-arize-phoenix) (2023.3)\n",
      "Requirement already satisfied: annotated-types>=0.4.0 in c:\\users\\chandana\\appdata\\roaming\\python\\python311\\site-packages (from pydantic!=2.0.*,<3,>=1.0->arize-phoenix>=3.0.3->llama-index-callbacks-arize-phoenix) (0.7.0)\n",
      "Requirement already satisfied: pydantic-core==2.20.1 in c:\\users\\chandana\\appdata\\roaming\\python\\python311\\site-packages (from pydantic!=2.0.*,<3,>=1.0->arize-phoenix>=3.0.3->llama-index-callbacks-arize-phoenix) (2.20.1)\n",
      "Requirement already satisfied: charset-normalizer<4,>=2 in c:\\users\\chandana\\appdata\\roaming\\python\\python311\\site-packages (from requests>=2.31.0->llama-index-core<0.12.0,>=0.11.0->llama-index-callbacks-arize-phoenix) (3.3.0)\n",
      "Requirement already satisfied: idna<4,>=2.5 in c:\\users\\chandana\\appdata\\roaming\\python\\python311\\site-packages (from requests>=2.31.0->llama-index-core<0.12.0,>=0.11.0->llama-index-callbacks-arize-phoenix) (3.4)\n",
      "Requirement already satisfied: urllib3<3,>=1.21.1 in c:\\users\\chandana\\appdata\\roaming\\python\\python311\\site-packages (from requests>=2.31.0->llama-index-core<0.12.0,>=0.11.0->llama-index-callbacks-arize-phoenix) (1.26.18)\n",
      "Requirement already satisfied: certifi>=2017.4.17 in c:\\users\\chandana\\appdata\\roaming\\python\\python311\\site-packages (from requests>=2.31.0->llama-index-core<0.12.0,>=0.11.0->llama-index-callbacks-arize-phoenix) (2023.7.22)\n",
      "Requirement already satisfied: threadpoolctl>=3.1.0 in c:\\users\\chandana\\appdata\\roaming\\python\\python311\\site-packages (from scikit-learn->arize-phoenix>=3.0.3->llama-index-callbacks-arize-phoenix) (3.5.0)\n",
      "Requirement already satisfied: greenlet!=0.4.17 in c:\\users\\chandana\\appdata\\roaming\\python\\python311\\site-packages (from sqlalchemy[asyncio]<3,>=2.0.4->arize-phoenix>=3.0.3->llama-index-callbacks-arize-phoenix) (3.0.3)\n",
      "Requirement already satisfied: colorama in c:\\users\\chandana\\appdata\\roaming\\python\\python311\\site-packages (from tqdm->arize-phoenix>=3.0.3->llama-index-callbacks-arize-phoenix) (0.4.6)\n",
      "Requirement already satisfied: mypy-extensions>=0.3.0 in c:\\users\\chandana\\appdata\\roaming\\python\\python311\\site-packages (from typing-inspect>=0.8.0->llama-index-core<0.12.0,>=0.11.0->llama-index-callbacks-arize-phoenix) (1.0.0)\n",
      "Requirement already satisfied: marshmallow<4.0.0,>=3.18.0 in c:\\users\\chandana\\appdata\\roaming\\python\\python311\\site-packages (from dataclasses-json->llama-index-core<0.12.0,>=0.11.0->llama-index-callbacks-arize-phoenix) (3.22.0)\n",
      "Requirement already satisfied: anyio<5,>=3.4.0 in c:\\users\\chandana\\appdata\\roaming\\python\\python311\\site-packages (from starlette->arize-phoenix>=3.0.3->llama-index-callbacks-arize-phoenix) (4.2.0)\n",
      "Requirement already satisfied: httpcore==1.* in c:\\users\\chandana\\appdata\\roaming\\python\\python311\\site-packages (from httpx->arize-phoenix>=3.0.3->llama-index-callbacks-arize-phoenix) (1.0.5)\n",
      "Requirement already satisfied: sniffio in c:\\users\\chandana\\appdata\\roaming\\python\\python311\\site-packages (from httpx->arize-phoenix>=3.0.3->llama-index-callbacks-arize-phoenix) (1.3.0)\n",
      "Requirement already satisfied: h11<0.15,>=0.13 in c:\\users\\chandana\\appdata\\roaming\\python\\python311\\site-packages (from httpcore==1.*->httpx->arize-phoenix>=3.0.3->llama-index-callbacks-arize-phoenix) (0.14.0)\n",
      "Requirement already satisfied: MarkupSafe>=2.0 in c:\\users\\chandana\\appdata\\roaming\\python\\python311\\site-packages (from jinja2->arize-phoenix>=3.0.3->llama-index-callbacks-arize-phoenix) (2.1.3)\n",
      "Requirement already satisfied: importlib-metadata<=8.4.0,>=6.0 in c:\\users\\chandana\\appdata\\roaming\\python\\python311\\site-packages (from opentelemetry-api->openinference-instrumentation-llama-index>=3.0.0->llama-index-callbacks-arize-phoenix) (8.4.0)\n",
      "Requirement already satisfied: opentelemetry-exporter-otlp-proto-grpc==1.27.0 in c:\\users\\chandana\\appdata\\roaming\\python\\python311\\site-packages (from opentelemetry-exporter-otlp->arize-phoenix>=3.0.3->llama-index-callbacks-arize-phoenix) (1.27.0)\n",
      "Requirement already satisfied: opentelemetry-exporter-otlp-proto-http==1.27.0 in c:\\users\\chandana\\appdata\\roaming\\python\\python311\\site-packages (from opentelemetry-exporter-otlp->arize-phoenix>=3.0.3->llama-index-callbacks-arize-phoenix) (1.27.0)\n",
      "Requirement already satisfied: googleapis-common-protos~=1.52 in c:\\users\\chandana\\appdata\\roaming\\python\\python311\\site-packages (from opentelemetry-exporter-otlp-proto-grpc==1.27.0->opentelemetry-exporter-otlp->arize-phoenix>=3.0.3->llama-index-callbacks-arize-phoenix) (1.61.0)\n",
      "Requirement already satisfied: opentelemetry-exporter-otlp-proto-common==1.27.0 in c:\\users\\chandana\\appdata\\roaming\\python\\python311\\site-packages (from opentelemetry-exporter-otlp-proto-grpc==1.27.0->opentelemetry-exporter-otlp->arize-phoenix>=3.0.3->llama-index-callbacks-arize-phoenix) (1.27.0)\n",
      "Requirement already satisfied: setuptools>=16.0 in c:\\program files\\python311\\lib\\site-packages (from opentelemetry-instrumentation->openinference-instrumentation-llama-index>=3.0.0->llama-index-callbacks-arize-phoenix) (65.5.0)\n",
      "Requirement already satisfied: numba>=0.51.2 in c:\\users\\chandana\\appdata\\roaming\\python\\python311\\site-packages (from umap-learn->arize-phoenix>=3.0.3->llama-index-callbacks-arize-phoenix) (0.60.0)\n",
      "Requirement already satisfied: pynndescent>=0.5 in c:\\users\\chandana\\appdata\\roaming\\python\\python311\\site-packages (from umap-learn->arize-phoenix>=3.0.3->llama-index-callbacks-arize-phoenix) (0.5.13)\n",
      "Requirement already satisfied: zipp>=0.5 in c:\\users\\chandana\\appdata\\roaming\\python\\python311\\site-packages (from importlib-metadata<=8.4.0,>=6.0->opentelemetry-api->openinference-instrumentation-llama-index>=3.0.0->llama-index-callbacks-arize-phoenix) (3.20.1)\n",
      "Requirement already satisfied: packaging>=17.0 in c:\\users\\chandana\\appdata\\roaming\\python\\python311\\site-packages (from marshmallow<4.0.0,>=3.18.0->dataclasses-json->llama-index-core<0.12.0,>=0.11.0->llama-index-callbacks-arize-phoenix) (23.2)\n",
      "Requirement already satisfied: llvmlite<0.44,>=0.43.0dev0 in c:\\users\\chandana\\appdata\\roaming\\python\\python311\\site-packages (from numba>=0.51.2->umap-learn->arize-phoenix>=3.0.3->llama-index-callbacks-arize-phoenix) (0.43.0)\n",
      "Requirement already satisfied: six>=1.5 in c:\\users\\chandana\\appdata\\roaming\\python\\python311\\site-packages (from python-dateutil<3.0.0,>=2.7.0->strawberry-graphql==0.236.0->arize-phoenix>=3.0.3->llama-index-callbacks-arize-phoenix) (1.16.0)\n",
      "Installing collected packages: llama-index-core, openinference-instrumentation-llama-index\n",
      "  Attempting uninstall: llama-index-core\n",
      "    Found existing installation: llama-index-core 0.10.51\n",
      "    Uninstalling llama-index-core-0.10.51:\n",
      "      Successfully uninstalled llama-index-core-0.10.51\n",
      "  Attempting uninstall: openinference-instrumentation-llama-index\n",
      "    Found existing installation: openinference-instrumentation-llama-index 2.2.4\n",
      "    Uninstalling openinference-instrumentation-llama-index-2.2.4:\n",
      "      Successfully uninstalled openinference-instrumentation-llama-index-2.2.4\n",
      "Successfully installed llama-index-core-0.11.7 openinference-instrumentation-llama-index-3.0.2\n"
     ]
    },
    {
     "name": "stderr",
     "output_type": "stream",
     "text": [
      "ERROR: pip's dependency resolver does not currently take into account all the packages that are installed. This behaviour is the source of the following dependency conflicts.\n",
      "llama-index 0.10.51 requires llama-index-core==0.10.51, but you have llama-index-core 0.11.7 which is incompatible.\n",
      "llama-index-agent-openai 0.2.7 requires llama-index-core<0.11.0,>=0.10.41, but you have llama-index-core 0.11.7 which is incompatible.\n",
      "llama-index-cli 0.1.13 requires llama-index-core<0.11.0,>=0.10.11.post1, but you have llama-index-core 0.11.7 which is incompatible.\n",
      "llama-index-embeddings-openai 0.1.10 requires llama-index-core<0.11.0,>=0.10.1, but you have llama-index-core 0.11.7 which is incompatible.\n",
      "llama-index-indices-managed-llama-cloud 0.2.4 requires llama-index-core<0.11.0,>=0.10.48.post1, but you have llama-index-core 0.11.7 which is incompatible.\n",
      "llama-index-llms-openai 0.1.24 requires llama-index-core<0.11.0,>=0.10.24, but you have llama-index-core 0.11.7 which is incompatible.\n",
      "llama-index-multi-modal-llms-openai 0.1.9 requires llama-index-core<0.11.0,>=0.10.1, but you have llama-index-core 0.11.7 which is incompatible.\n",
      "llama-index-program-openai 0.1.6 requires llama-index-core<0.11.0,>=0.10.1, but you have llama-index-core 0.11.7 which is incompatible.\n",
      "llama-index-question-gen-openai 0.1.3 requires llama-index-core<0.11.0,>=0.10.1, but you have llama-index-core 0.11.7 which is incompatible.\n",
      "llama-index-readers-file 0.1.25 requires llama-index-core<0.11.0,>=0.10.37.post1, but you have llama-index-core 0.11.7 which is incompatible.\n",
      "llama-index-readers-llama-parse 0.1.6 requires llama-index-core<0.11.0,>=0.10.7, but you have llama-index-core 0.11.7 which is incompatible.\n",
      "\n",
      "[notice] A new release of pip is available: 23.0.1 -> 24.2\n",
      "[notice] To update, run: python.exe -m pip install --upgrade pip\n"
     ]
    },
    {
     "name": "stdout",
     "output_type": "stream",
     "text": [
      "Defaulting to user installation because normal site-packages is not writeable\n",
      "Requirement already satisfied: arize-phoenix[llama-index] in c:\\users\\chandana\\appdata\\roaming\\python\\python311\\site-packages (4.32.0)\n",
      "Requirement already satisfied: aioitertools in c:\\users\\chandana\\appdata\\roaming\\python\\python311\\site-packages (from arize-phoenix[llama-index]) (0.12.0)\n",
      "Requirement already satisfied: aiosqlite in c:\\users\\chandana\\appdata\\roaming\\python\\python311\\site-packages (from arize-phoenix[llama-index]) (0.20.0)\n",
      "Requirement already satisfied: alembic<2,>=1.3.0 in c:\\users\\chandana\\appdata\\roaming\\python\\python311\\site-packages (from arize-phoenix[llama-index]) (1.13.2)\n",
      "Requirement already satisfied: arize-phoenix-evals>=0.13.1 in c:\\users\\chandana\\appdata\\roaming\\python\\python311\\site-packages (from arize-phoenix[llama-index]) (0.15.1)\n",
      "Requirement already satisfied: arize-phoenix-otel>=0.4.1 in c:\\users\\chandana\\appdata\\roaming\\python\\python311\\site-packages (from arize-phoenix[llama-index]) (0.4.1)\n",
      "Requirement already satisfied: cachetools in c:\\users\\chandana\\appdata\\roaming\\python\\python311\\site-packages (from arize-phoenix[llama-index]) (5.3.1)\n",
      "Requirement already satisfied: fastapi in c:\\users\\chandana\\appdata\\roaming\\python\\python311\\site-packages (from arize-phoenix[llama-index]) (0.112.2)\n",
      "Requirement already satisfied: grpcio in c:\\users\\chandana\\appdata\\roaming\\python\\python311\\site-packages (from arize-phoenix[llama-index]) (1.66.0)\n",
      "Requirement already satisfied: hdbscan>=0.8.33 in c:\\users\\chandana\\appdata\\roaming\\python\\python311\\site-packages (from arize-phoenix[llama-index]) (0.8.38.post1)\n",
      "Requirement already satisfied: httpx in c:\\users\\chandana\\appdata\\roaming\\python\\python311\\site-packages (from arize-phoenix[llama-index]) (0.27.0)\n",
      "Requirement already satisfied: jinja2 in c:\\users\\chandana\\appdata\\roaming\\python\\python311\\site-packages (from arize-phoenix[llama-index]) (3.1.2)\n",
      "Requirement already satisfied: numpy<2 in c:\\users\\chandana\\appdata\\roaming\\python\\python311\\site-packages (from arize-phoenix[llama-index]) (1.26.1)\n",
      "Requirement already satisfied: openinference-instrumentation-langchain>=0.1.26 in c:\\users\\chandana\\appdata\\roaming\\python\\python311\\site-packages (from arize-phoenix[llama-index]) (0.1.27)\n",
      "Requirement already satisfied: openinference-instrumentation-llama-index>=2.2.1 in c:\\users\\chandana\\appdata\\roaming\\python\\python311\\site-packages (from arize-phoenix[llama-index]) (3.0.2)\n",
      "Requirement already satisfied: openinference-instrumentation-openai>=0.1.11 in c:\\users\\chandana\\appdata\\roaming\\python\\python311\\site-packages (from arize-phoenix[llama-index]) (0.1.14)\n",
      "Requirement already satisfied: openinference-instrumentation>=0.1.12 in c:\\users\\chandana\\appdata\\roaming\\python\\python311\\site-packages (from arize-phoenix[llama-index]) (0.1.15)\n",
      "Requirement already satisfied: openinference-semantic-conventions>=0.1.9 in c:\\users\\chandana\\appdata\\roaming\\python\\python311\\site-packages (from arize-phoenix[llama-index]) (0.1.10)\n",
      "Requirement already satisfied: opentelemetry-exporter-otlp in c:\\users\\chandana\\appdata\\roaming\\python\\python311\\site-packages (from arize-phoenix[llama-index]) (1.27.0)\n",
      "Requirement already satisfied: opentelemetry-proto>=1.12.0 in c:\\users\\chandana\\appdata\\roaming\\python\\python311\\site-packages (from arize-phoenix[llama-index]) (1.27.0)\n",
      "Requirement already satisfied: opentelemetry-sdk in c:\\users\\chandana\\appdata\\roaming\\python\\python311\\site-packages (from arize-phoenix[llama-index]) (1.27.0)\n",
      "Requirement already satisfied: opentelemetry-semantic-conventions in c:\\users\\chandana\\appdata\\roaming\\python\\python311\\site-packages (from arize-phoenix[llama-index]) (0.48b0)\n",
      "Requirement already satisfied: pandas>=1.0 in c:\\users\\chandana\\appdata\\roaming\\python\\python311\\site-packages (from arize-phoenix[llama-index]) (2.0.0)\n",
      "Requirement already satisfied: protobuf<6.0,>=3.20 in c:\\users\\chandana\\appdata\\roaming\\python\\python311\\site-packages (from arize-phoenix[llama-index]) (4.25.4)\n",
      "Requirement already satisfied: psutil in c:\\users\\chandana\\appdata\\roaming\\python\\python311\\site-packages (from arize-phoenix[llama-index]) (5.9.7)\n",
      "Requirement already satisfied: pyarrow in c:\\users\\chandana\\appdata\\roaming\\python\\python311\\site-packages (from arize-phoenix[llama-index]) (17.0.0)\n",
      "Requirement already satisfied: pydantic!=2.0.*,<3,>=1.0 in c:\\users\\chandana\\appdata\\roaming\\python\\python311\\site-packages (from arize-phoenix[llama-index]) (2.8.2)\n",
      "Requirement already satisfied: pyjwt in c:\\users\\chandana\\appdata\\roaming\\python\\python311\\site-packages (from arize-phoenix[llama-index]) (2.9.0)\n",
      "Requirement already satisfied: python-multipart in c:\\users\\chandana\\appdata\\roaming\\python\\python311\\site-packages (from arize-phoenix[llama-index]) (0.0.9)\n",
      "Requirement already satisfied: scikit-learn in c:\\users\\chandana\\appdata\\roaming\\python\\python311\\site-packages (from arize-phoenix[llama-index]) (1.5.1)\n",
      "Requirement already satisfied: scipy in c:\\users\\chandana\\appdata\\roaming\\python\\python311\\site-packages (from arize-phoenix[llama-index]) (1.14.1)\n",
      "Requirement already satisfied: sqlalchemy[asyncio]<3,>=2.0.4 in c:\\users\\chandana\\appdata\\roaming\\python\\python311\\site-packages (from arize-phoenix[llama-index]) (2.0.32)\n",
      "Requirement already satisfied: sqlean-py>=3.45.1 in c:\\users\\chandana\\appdata\\roaming\\python\\python311\\site-packages (from arize-phoenix[llama-index]) (3.45.1)\n",
      "Requirement already satisfied: starlette in c:\\users\\chandana\\appdata\\roaming\\python\\python311\\site-packages (from arize-phoenix[llama-index]) (0.38.4)\n",
      "Requirement already satisfied: strawberry-graphql==0.236.0 in c:\\users\\chandana\\appdata\\roaming\\python\\python311\\site-packages (from arize-phoenix[llama-index]) (0.236.0)\n",
      "Requirement already satisfied: tqdm in c:\\users\\chandana\\appdata\\roaming\\python\\python311\\site-packages (from arize-phoenix[llama-index]) (4.66.5)\n",
      "Requirement already satisfied: typing-extensions>=4.5 in c:\\users\\chandana\\appdata\\roaming\\python\\python311\\site-packages (from arize-phoenix[llama-index]) (4.12.2)\n",
      "Requirement already satisfied: umap-learn in c:\\users\\chandana\\appdata\\roaming\\python\\python311\\site-packages (from arize-phoenix[llama-index]) (0.5.6)\n",
      "Requirement already satisfied: uvicorn in c:\\users\\chandana\\appdata\\roaming\\python\\python311\\site-packages (from arize-phoenix[llama-index]) (0.30.6)\n",
      "Requirement already satisfied: wrapt in c:\\users\\chandana\\appdata\\roaming\\python\\python311\\site-packages (from arize-phoenix[llama-index]) (1.14.1)\n",
      "Requirement already satisfied: llama-index-agent-openai==0.2.7 in c:\\users\\chandana\\appdata\\roaming\\python\\python311\\site-packages (from arize-phoenix[llama-index]) (0.2.7)\n",
      "Requirement already satisfied: llama-index-embeddings-openai==0.1.10 in c:\\users\\chandana\\appdata\\roaming\\python\\python311\\site-packages (from arize-phoenix[llama-index]) (0.1.10)\n",
      "Requirement already satisfied: llama-index-llms-openai==0.1.24 in c:\\users\\chandana\\appdata\\roaming\\python\\python311\\site-packages (from arize-phoenix[llama-index]) (0.1.24)\n",
      "Requirement already satisfied: llama-index-readers-file==0.1.25 in c:\\users\\chandana\\appdata\\roaming\\python\\python311\\site-packages (from arize-phoenix[llama-index]) (0.1.25)\n",
      "Requirement already satisfied: llama-index==0.10.51 in c:\\users\\chandana\\appdata\\roaming\\python\\python311\\site-packages (from arize-phoenix[llama-index]) (0.10.51)\n",
      "Requirement already satisfied: llama-index-cli<0.2.0,>=0.1.2 in c:\\users\\chandana\\appdata\\roaming\\python\\python311\\site-packages (from llama-index==0.10.51->arize-phoenix[llama-index]) (0.1.13)\n",
      "Collecting llama-index-core==0.10.51\n",
      "  Using cached llama_index_core-0.10.51-py3-none-any.whl (15.4 MB)\n",
      "Requirement already satisfied: llama-index-indices-managed-llama-cloud>=0.2.0 in c:\\users\\chandana\\appdata\\roaming\\python\\python311\\site-packages (from llama-index==0.10.51->arize-phoenix[llama-index]) (0.2.4)\n",
      "Requirement already satisfied: llama-index-legacy<0.10.0,>=0.9.48 in c:\\users\\chandana\\appdata\\roaming\\python\\python311\\site-packages (from llama-index==0.10.51->arize-phoenix[llama-index]) (0.9.48.post3)\n",
      "Requirement already satisfied: llama-index-multi-modal-llms-openai<0.2.0,>=0.1.3 in c:\\users\\chandana\\appdata\\roaming\\python\\python311\\site-packages (from llama-index==0.10.51->arize-phoenix[llama-index]) (0.1.9)\n",
      "Requirement already satisfied: llama-index-program-openai<0.2.0,>=0.1.3 in c:\\users\\chandana\\appdata\\roaming\\python\\python311\\site-packages (from llama-index==0.10.51->arize-phoenix[llama-index]) (0.1.6)\n",
      "Requirement already satisfied: llama-index-question-gen-openai<0.2.0,>=0.1.2 in c:\\users\\chandana\\appdata\\roaming\\python\\python311\\site-packages (from llama-index==0.10.51->arize-phoenix[llama-index]) (0.1.3)\n",
      "Requirement already satisfied: llama-index-readers-llama-parse<0.2.0,>=0.1.2 in c:\\users\\chandana\\appdata\\roaming\\python\\python311\\site-packages (from llama-index==0.10.51->arize-phoenix[llama-index]) (0.1.6)\n",
      "Requirement already satisfied: openai>=1.14.0 in c:\\users\\chandana\\appdata\\roaming\\python\\python311\\site-packages (from llama-index-agent-openai==0.2.7->arize-phoenix[llama-index]) (1.42.0)\n",
      "Requirement already satisfied: beautifulsoup4<5.0.0,>=4.12.3 in c:\\users\\chandana\\appdata\\roaming\\python\\python311\\site-packages (from llama-index-readers-file==0.1.25->arize-phoenix[llama-index]) (4.12.3)\n",
      "Requirement already satisfied: pypdf<5.0.0,>=4.0.1 in c:\\users\\chandana\\appdata\\roaming\\python\\python311\\site-packages (from llama-index-readers-file==0.1.25->arize-phoenix[llama-index]) (4.3.1)\n",
      "Requirement already satisfied: striprtf<0.0.27,>=0.0.26 in c:\\users\\chandana\\appdata\\roaming\\python\\python311\\site-packages (from llama-index-readers-file==0.1.25->arize-phoenix[llama-index]) (0.0.26)\n",
      "Requirement already satisfied: graphql-core<3.3.0,>=3.2.0 in c:\\users\\chandana\\appdata\\roaming\\python\\python311\\site-packages (from strawberry-graphql==0.236.0->arize-phoenix[llama-index]) (3.2.3)\n",
      "Requirement already satisfied: python-dateutil<3.0.0,>=2.7.0 in c:\\users\\chandana\\appdata\\roaming\\python\\python311\\site-packages (from strawberry-graphql==0.236.0->arize-phoenix[llama-index]) (2.8.2)\n",
      "Requirement already satisfied: PyYAML>=6.0.1 in c:\\users\\chandana\\appdata\\roaming\\python\\python311\\site-packages (from llama-index-core==0.10.51->llama-index==0.10.51->arize-phoenix[llama-index]) (6.0.1)\n",
      "Requirement already satisfied: aiohttp<4.0.0,>=3.8.6 in c:\\users\\chandana\\appdata\\roaming\\python\\python311\\site-packages (from llama-index-core==0.10.51->llama-index==0.10.51->arize-phoenix[llama-index]) (3.10.5)\n",
      "Requirement already satisfied: dataclasses-json in c:\\users\\chandana\\appdata\\roaming\\python\\python311\\site-packages (from llama-index-core==0.10.51->llama-index==0.10.51->arize-phoenix[llama-index]) (0.6.7)\n",
      "Requirement already satisfied: deprecated>=1.2.9.3 in c:\\users\\chandana\\appdata\\roaming\\python\\python311\\site-packages (from llama-index-core==0.10.51->llama-index==0.10.51->arize-phoenix[llama-index]) (1.2.14)\n",
      "Requirement already satisfied: dirtyjson<2.0.0,>=1.0.8 in c:\\users\\chandana\\appdata\\roaming\\python\\python311\\site-packages (from llama-index-core==0.10.51->llama-index==0.10.51->arize-phoenix[llama-index]) (1.0.8)\n",
      "Requirement already satisfied: fsspec>=2023.5.0 in c:\\users\\chandana\\appdata\\roaming\\python\\python311\\site-packages (from llama-index-core==0.10.51->llama-index==0.10.51->arize-phoenix[llama-index]) (2024.6.1)\n",
      "Requirement already satisfied: llama-cloud<0.0.7,>=0.0.6 in c:\\users\\chandana\\appdata\\roaming\\python\\python311\\site-packages (from llama-index-core==0.10.51->llama-index==0.10.51->arize-phoenix[llama-index]) (0.0.6)\n",
      "Requirement already satisfied: nest-asyncio<2.0.0,>=1.5.8 in c:\\users\\chandana\\appdata\\roaming\\python\\python311\\site-packages (from llama-index-core==0.10.51->llama-index==0.10.51->arize-phoenix[llama-index]) (1.5.8)\n",
      "Requirement already satisfied: networkx>=3.0 in c:\\users\\chandana\\appdata\\roaming\\python\\python311\\site-packages (from llama-index-core==0.10.51->llama-index==0.10.51->arize-phoenix[llama-index]) (3.3)\n",
      "Requirement already satisfied: nltk<4.0.0,>=3.8.1 in c:\\users\\chandana\\appdata\\roaming\\python\\python311\\site-packages (from llama-index-core==0.10.51->llama-index==0.10.51->arize-phoenix[llama-index]) (3.9.1)\n",
      "Requirement already satisfied: pillow>=9.0.0 in c:\\users\\chandana\\appdata\\roaming\\python\\python311\\site-packages (from llama-index-core==0.10.51->llama-index==0.10.51->arize-phoenix[llama-index]) (10.4.0)\n",
      "Requirement already satisfied: requests>=2.31.0 in c:\\users\\chandana\\appdata\\roaming\\python\\python311\\site-packages (from llama-index-core==0.10.51->llama-index==0.10.51->arize-phoenix[llama-index]) (2.31.0)\n",
      "Requirement already satisfied: tenacity!=8.4.0,<9.0.0,>=8.2.0 in c:\\users\\chandana\\appdata\\roaming\\python\\python311\\site-packages (from llama-index-core==0.10.51->llama-index==0.10.51->arize-phoenix[llama-index]) (8.5.0)\n",
      "Requirement already satisfied: tiktoken>=0.3.3 in c:\\users\\chandana\\appdata\\roaming\\python\\python311\\site-packages (from llama-index-core==0.10.51->llama-index==0.10.51->arize-phoenix[llama-index]) (0.7.0)\n",
      "Requirement already satisfied: typing-inspect>=0.8.0 in c:\\users\\chandana\\appdata\\roaming\\python\\python311\\site-packages (from llama-index-core==0.10.51->llama-index==0.10.51->arize-phoenix[llama-index]) (0.9.0)\n",
      "Requirement already satisfied: Mako in c:\\users\\chandana\\appdata\\roaming\\python\\python311\\site-packages (from alembic<2,>=1.3.0->arize-phoenix[llama-index]) (1.3.5)\n",
      "Requirement already satisfied: joblib>=1.0 in c:\\users\\chandana\\appdata\\roaming\\python\\python311\\site-packages (from hdbscan>=0.8.33->arize-phoenix[llama-index]) (1.4.2)\n",
      "Requirement already satisfied: opentelemetry-api in c:\\users\\chandana\\appdata\\roaming\\python\\python311\\site-packages (from openinference-instrumentation>=0.1.12->arize-phoenix[llama-index]) (1.27.0)\n",
      "Requirement already satisfied: opentelemetry-instrumentation in c:\\users\\chandana\\appdata\\roaming\\python\\python311\\site-packages (from openinference-instrumentation-langchain>=0.1.26->arize-phoenix[llama-index]) (0.48b0)\n",
      "Requirement already satisfied: pytz>=2020.1 in c:\\users\\chandana\\appdata\\roaming\\python\\python311\\site-packages (from pandas>=1.0->arize-phoenix[llama-index]) (2023.3)\n",
      "Requirement already satisfied: tzdata>=2022.1 in c:\\users\\chandana\\appdata\\roaming\\python\\python311\\site-packages (from pandas>=1.0->arize-phoenix[llama-index]) (2023.3)\n",
      "Requirement already satisfied: annotated-types>=0.4.0 in c:\\users\\chandana\\appdata\\roaming\\python\\python311\\site-packages (from pydantic!=2.0.*,<3,>=1.0->arize-phoenix[llama-index]) (0.7.0)\n",
      "Requirement already satisfied: pydantic-core==2.20.1 in c:\\users\\chandana\\appdata\\roaming\\python\\python311\\site-packages (from pydantic!=2.0.*,<3,>=1.0->arize-phoenix[llama-index]) (2.20.1)\n",
      "Requirement already satisfied: threadpoolctl>=3.1.0 in c:\\users\\chandana\\appdata\\roaming\\python\\python311\\site-packages (from scikit-learn->arize-phoenix[llama-index]) (3.5.0)\n",
      "Requirement already satisfied: greenlet!=0.4.17 in c:\\users\\chandana\\appdata\\roaming\\python\\python311\\site-packages (from sqlalchemy[asyncio]<3,>=2.0.4->arize-phoenix[llama-index]) (3.0.3)\n",
      "Requirement already satisfied: colorama in c:\\users\\chandana\\appdata\\roaming\\python\\python311\\site-packages (from tqdm->arize-phoenix[llama-index]) (0.4.6)\n",
      "Requirement already satisfied: anyio<5,>=3.4.0 in c:\\users\\chandana\\appdata\\roaming\\python\\python311\\site-packages (from starlette->arize-phoenix[llama-index]) (4.2.0)\n",
      "Requirement already satisfied: certifi in c:\\users\\chandana\\appdata\\roaming\\python\\python311\\site-packages (from httpx->arize-phoenix[llama-index]) (2023.7.22)\n",
      "Requirement already satisfied: httpcore==1.* in c:\\users\\chandana\\appdata\\roaming\\python\\python311\\site-packages (from httpx->arize-phoenix[llama-index]) (1.0.5)\n",
      "Requirement already satisfied: idna in c:\\users\\chandana\\appdata\\roaming\\python\\python311\\site-packages (from httpx->arize-phoenix[llama-index]) (3.4)\n",
      "Requirement already satisfied: sniffio in c:\\users\\chandana\\appdata\\roaming\\python\\python311\\site-packages (from httpx->arize-phoenix[llama-index]) (1.3.0)\n",
      "Requirement already satisfied: h11<0.15,>=0.13 in c:\\users\\chandana\\appdata\\roaming\\python\\python311\\site-packages (from httpcore==1.*->httpx->arize-phoenix[llama-index]) (0.14.0)\n",
      "Requirement already satisfied: MarkupSafe>=2.0 in c:\\users\\chandana\\appdata\\roaming\\python\\python311\\site-packages (from jinja2->arize-phoenix[llama-index]) (2.1.3)\n",
      "Requirement already satisfied: opentelemetry-exporter-otlp-proto-grpc==1.27.0 in c:\\users\\chandana\\appdata\\roaming\\python\\python311\\site-packages (from opentelemetry-exporter-otlp->arize-phoenix[llama-index]) (1.27.0)\n",
      "Requirement already satisfied: opentelemetry-exporter-otlp-proto-http==1.27.0 in c:\\users\\chandana\\appdata\\roaming\\python\\python311\\site-packages (from opentelemetry-exporter-otlp->arize-phoenix[llama-index]) (1.27.0)\n",
      "Requirement already satisfied: googleapis-common-protos~=1.52 in c:\\users\\chandana\\appdata\\roaming\\python\\python311\\site-packages (from opentelemetry-exporter-otlp-proto-grpc==1.27.0->opentelemetry-exporter-otlp->arize-phoenix[llama-index]) (1.61.0)\n",
      "Requirement already satisfied: opentelemetry-exporter-otlp-proto-common==1.27.0 in c:\\users\\chandana\\appdata\\roaming\\python\\python311\\site-packages (from opentelemetry-exporter-otlp-proto-grpc==1.27.0->opentelemetry-exporter-otlp->arize-phoenix[llama-index]) (1.27.0)\n",
      "Requirement already satisfied: importlib-metadata<=8.4.0,>=6.0 in c:\\users\\chandana\\appdata\\roaming\\python\\python311\\site-packages (from opentelemetry-api->openinference-instrumentation>=0.1.12->arize-phoenix[llama-index]) (8.4.0)\n",
      "Requirement already satisfied: numba>=0.51.2 in c:\\users\\chandana\\appdata\\roaming\\python\\python311\\site-packages (from umap-learn->arize-phoenix[llama-index]) (0.60.0)\n",
      "Requirement already satisfied: pynndescent>=0.5 in c:\\users\\chandana\\appdata\\roaming\\python\\python311\\site-packages (from umap-learn->arize-phoenix[llama-index]) (0.5.13)\n",
      "Requirement already satisfied: click>=7.0 in c:\\users\\chandana\\appdata\\roaming\\python\\python311\\site-packages (from uvicorn->arize-phoenix[llama-index]) (8.1.7)\n",
      "Requirement already satisfied: soupsieve>1.2 in c:\\users\\chandana\\appdata\\roaming\\python\\python311\\site-packages (from beautifulsoup4<5.0.0,>=4.12.3->llama-index-readers-file==0.1.25->arize-phoenix[llama-index]) (2.5)\n",
      "Requirement already satisfied: llama-parse>=0.4.0 in c:\\users\\chandana\\appdata\\roaming\\python\\python311\\site-packages (from llama-index-readers-llama-parse<0.2.0,>=0.1.2->llama-index==0.10.51->arize-phoenix[llama-index]) (0.4.9)\n",
      "Requirement already satisfied: llvmlite<0.44,>=0.43.0dev0 in c:\\users\\chandana\\appdata\\roaming\\python\\python311\\site-packages (from numba>=0.51.2->umap-learn->arize-phoenix[llama-index]) (0.43.0)\n",
      "Requirement already satisfied: distro<2,>=1.7.0 in c:\\users\\chandana\\appdata\\roaming\\python\\python311\\site-packages (from openai>=1.14.0->llama-index-agent-openai==0.2.7->arize-phoenix[llama-index]) (1.9.0)\n",
      "Requirement already satisfied: jiter<1,>=0.4.0 in c:\\users\\chandana\\appdata\\roaming\\python\\python311\\site-packages (from openai>=1.14.0->llama-index-agent-openai==0.2.7->arize-phoenix[llama-index]) (0.5.0)\n",
      "Requirement already satisfied: six>=1.5 in c:\\users\\chandana\\appdata\\roaming\\python\\python311\\site-packages (from python-dateutil<3.0.0,>=2.7.0->strawberry-graphql==0.236.0->arize-phoenix[llama-index]) (1.16.0)\n",
      "Requirement already satisfied: setuptools>=16.0 in c:\\program files\\python311\\lib\\site-packages (from opentelemetry-instrumentation->openinference-instrumentation-langchain>=0.1.26->arize-phoenix[llama-index]) (65.5.0)\n",
      "Requirement already satisfied: aiohappyeyeballs>=2.3.0 in c:\\users\\chandana\\appdata\\roaming\\python\\python311\\site-packages (from aiohttp<4.0.0,>=3.8.6->llama-index-core==0.10.51->llama-index==0.10.51->arize-phoenix[llama-index]) (2.4.0)\n",
      "Requirement already satisfied: aiosignal>=1.1.2 in c:\\users\\chandana\\appdata\\roaming\\python\\python311\\site-packages (from aiohttp<4.0.0,>=3.8.6->llama-index-core==0.10.51->llama-index==0.10.51->arize-phoenix[llama-index]) (1.3.1)\n",
      "Requirement already satisfied: attrs>=17.3.0 in c:\\users\\chandana\\appdata\\roaming\\python\\python311\\site-packages (from aiohttp<4.0.0,>=3.8.6->llama-index-core==0.10.51->llama-index==0.10.51->arize-phoenix[llama-index]) (23.1.0)\n",
      "Requirement already satisfied: frozenlist>=1.1.1 in c:\\users\\chandana\\appdata\\roaming\\python\\python311\\site-packages (from aiohttp<4.0.0,>=3.8.6->llama-index-core==0.10.51->llama-index==0.10.51->arize-phoenix[llama-index]) (1.4.1)\n",
      "Requirement already satisfied: multidict<7.0,>=4.5 in c:\\users\\chandana\\appdata\\roaming\\python\\python311\\site-packages (from aiohttp<4.0.0,>=3.8.6->llama-index-core==0.10.51->llama-index==0.10.51->arize-phoenix[llama-index]) (6.0.5)\n",
      "Requirement already satisfied: yarl<2.0,>=1.0 in c:\\users\\chandana\\appdata\\roaming\\python\\python311\\site-packages (from aiohttp<4.0.0,>=3.8.6->llama-index-core==0.10.51->llama-index==0.10.51->arize-phoenix[llama-index]) (1.9.4)\n",
      "Requirement already satisfied: zipp>=0.5 in c:\\users\\chandana\\appdata\\roaming\\python\\python311\\site-packages (from importlib-metadata<=8.4.0,>=6.0->opentelemetry-api->openinference-instrumentation>=0.1.12->arize-phoenix[llama-index]) (3.20.1)\n",
      "Requirement already satisfied: regex>=2021.8.3 in c:\\users\\chandana\\appdata\\roaming\\python\\python311\\site-packages (from nltk<4.0.0,>=3.8.1->llama-index-core==0.10.51->llama-index==0.10.51->arize-phoenix[llama-index]) (2024.7.24)\n",
      "Requirement already satisfied: charset-normalizer<4,>=2 in c:\\users\\chandana\\appdata\\roaming\\python\\python311\\site-packages (from requests>=2.31.0->llama-index-core==0.10.51->llama-index==0.10.51->arize-phoenix[llama-index]) (3.3.0)\n",
      "Requirement already satisfied: urllib3<3,>=1.21.1 in c:\\users\\chandana\\appdata\\roaming\\python\\python311\\site-packages (from requests>=2.31.0->llama-index-core==0.10.51->llama-index==0.10.51->arize-phoenix[llama-index]) (1.26.18)\n",
      "Requirement already satisfied: mypy-extensions>=0.3.0 in c:\\users\\chandana\\appdata\\roaming\\python\\python311\\site-packages (from typing-inspect>=0.8.0->llama-index-core==0.10.51->llama-index==0.10.51->arize-phoenix[llama-index]) (1.0.0)\n",
      "Requirement already satisfied: marshmallow<4.0.0,>=3.18.0 in c:\\users\\chandana\\appdata\\roaming\\python\\python311\\site-packages (from dataclasses-json->llama-index-core==0.10.51->llama-index==0.10.51->arize-phoenix[llama-index]) (3.22.0)\n",
      "Requirement already satisfied: packaging>=17.0 in c:\\users\\chandana\\appdata\\roaming\\python\\python311\\site-packages (from marshmallow<4.0.0,>=3.18.0->dataclasses-json->llama-index-core==0.10.51->llama-index==0.10.51->arize-phoenix[llama-index]) (23.2)\n",
      "Installing collected packages: llama-index-core\n",
      "  Attempting uninstall: llama-index-core\n",
      "    Found existing installation: llama-index-core 0.11.7\n",
      "    Uninstalling llama-index-core-0.11.7:\n",
      "      Successfully uninstalled llama-index-core-0.11.7\n",
      "Successfully installed llama-index-core-0.10.51\n"
     ]
    },
    {
     "name": "stderr",
     "output_type": "stream",
     "text": [
      "ERROR: pip's dependency resolver does not currently take into account all the packages that are installed. This behaviour is the source of the following dependency conflicts.\n",
      "llama-index-callbacks-arize-phoenix 0.2.1 requires llama-index-core<0.12.0,>=0.11.0, but you have llama-index-core 0.10.51 which is incompatible.\n",
      "llama-index-embeddings-fastembed 0.2.0 requires llama-index-core<0.12.0,>=0.11.0, but you have llama-index-core 0.10.51 which is incompatible.\n",
      "llama-index-vector-stores-qdrant 0.3.0 requires llama-index-core<0.12.0,>=0.11.0, but you have llama-index-core 0.10.51 which is incompatible.\n",
      "\n",
      "[notice] A new release of pip is available: 23.0.1 -> 24.2\n",
      "[notice] To update, run: python.exe -m pip install --upgrade pip\n"
     ]
    }
   ],
   "source": [
    "# !pip install llama-index\n",
    "# !pip install llama-index-core\n",
    "# !pip install llama-index-llms-openai\n",
    "# !pip install openinference-instrumentation-llama-index==2.2.4\n",
    "# !pip install -U llama-index-callbacks-arize-phoenix\n",
    "# !pip install \"arize-phoenix[llama-index]\""
   ]
  },
  {
   "cell_type": "markdown",
   "metadata": {},
   "source": [
    "- `llama-index`: Core package for Llama Index functionality.\n",
    "\n",
    "- `llama-index-core`: Provides core features and utilities for Llama Index.\n",
    "\n",
    "- `llama-index-llms-openai`: Integration package for Llama Index and OpenAI models.\n",
    "\n",
    "- `openinference-instrumentation-llama-index==2.2.4`: Provides instrumentation for tracing Llama Index interactions.\n",
    "\n",
    "- `llama-index-callbacks-arize-phoenix`: Callback integration for Arize Phoenix with Llama Index.\n",
    "\n",
    "- `arize-phoenix[llama-index]`: Extends Arize Phoenix to support Llama Index tracing."
   ]
  },
  {
   "cell_type": "markdown",
   "metadata": {},
   "source": [
    "### 3.2 Retrieve the URL of the Active Phoenix Session"
   ]
  },
  {
   "cell_type": "code",
   "execution_count": 18,
   "metadata": {},
   "outputs": [
    {
     "data": {
      "text/plain": [
       "'http://localhost:6006/'"
      ]
     },
     "execution_count": 18,
     "metadata": {},
     "output_type": "execute_result"
    }
   ],
   "source": [
    "# Retrieve the URL of the active Phoenix session\n",
    "px.active_session().url"
   ]
  },
  {
   "cell_type": "markdown",
   "metadata": {},
   "source": [
    "Accesses the current active session of the Phoenix app and retrieves its URL, allowing you to view or share the link to the Phoenix interface where you can monitor and analyze trace data."
   ]
  },
  {
   "cell_type": "markdown",
   "metadata": {},
   "source": [
    "### 3.3 Set Up Tracing for Llama Index\n",
    "\n",
    "To instrument Llama Index for tracing with OpenTelemetry, configure the tracer provider and integrate the Llama Index instrumentor."
   ]
  },
  {
   "cell_type": "code",
   "execution_count": null,
   "metadata": {},
   "outputs": [],
   "source": [
    "from openinference.instrumentation.llama_index import LlamaIndexInstrumentor\n",
    "from opentelemetry.exporter.otlp.proto.http.trace_exporter import OTLPSpanExporter\n",
    "from opentelemetry.sdk import trace as trace_sdk\n",
    "from opentelemetry.sdk.trace.export import SimpleSpanProcessor\n",
    "\n",
    "# Set up the Tracer Provider\n",
    "tracer_provider = trace_sdk.TracerProvider()\n",
    "\n",
    "# Add Span Processor to the Tracer Provider\n",
    "tracer_provider.add_span_processor(SimpleSpanProcessor(OTLPSpanExporter(endpoint)))\n",
    "\n",
    "# Instrument Llama Index with the Tracer Provider\n",
    "LlamaIndexInstrumentor().instrument(tracer_provider=tracer_provider)"
   ]
  },
  {
   "cell_type": "markdown",
   "metadata": {},
   "source": [
    "- `LlamaIndexInstrumentor`: This class from openinference.instrumentation.llama_index instruments Llama Index to support tracing and observability.\n",
    "\n",
    "- `trace_sdk.TracerProvider()`: Initializes a new Tracer Provider responsible for creating and managing trace data.\n",
    "  OTLPSpanExporter(endpoint): Configures the OTLP exporter to send trace data to the specified endpoint.\n",
    "- `SimpleSpanProcessor`: Processes and exports spans synchronously.\n",
    "\n",
    "- `tracer_provider.add_span_processor`: Adds the span processor to the Tracer Provider.\n",
    "\n",
    "- `LlamaIndexInstrumentor().instrument(tracer_provider=tracer_provider)`: Applies the instrumentation to Llama Index, using the provided Tracer Provider for tracing."
   ]
  },
  {
   "cell_type": "markdown",
   "metadata": {},
   "source": [
    "### 3.4 Interact with Llama Index Using OpenAI\n",
    "\n",
    "To perform a completion request with Llama Index using an OpenAI model, use the following code:"
   ]
  },
  {
   "cell_type": "code",
   "execution_count": 20,
   "metadata": {},
   "outputs": [
    {
     "name": "stdout",
     "output_type": "stream",
     "text": [
      "Paul Graham is a prominent computer scientist, entrepreneur, and venture capitalist, best known for his work in the field of programming languages and for co-founding the startup accelerator Y Combinator. He is also an essayist and has written extensively on topics related to startups, technology, and the philosophy of entrepreneurship. Graham is known for his influential essays, which cover a wide range of subjects, including the nature of startups, the importance of programming, and the dynamics of innovation. He is also the creator of the programming language Lisp dialect called Arc. His insights and writings have had a significant impact on the startup ecosystem and the tech industry as a whole.\n"
     ]
    }
   ],
   "source": [
    "from llama_index.llms.openai import OpenAI\n",
    "\n",
    "# Initialize the OpenAI model\n",
    "llm = OpenAI(model=\"gpt-4o-mini\")\n",
    "\n",
    "# Make a completion request\n",
    "resp = llm.complete(\"Paul Graham is \")\n",
    "\n",
    "# Print the response\n",
    "print(resp)"
   ]
  },
  {
   "cell_type": "markdown",
   "metadata": {},
   "source": [
    "- `from llama_index.llms.openai import OpenAI`: Imports the OpenAI class from the llama_index package, allowing interaction with OpenAI models.\n",
    "\n",
    "- `OpenAI(model=\"gpt-4o-mini\")`: Initializes an instance of the OpenAI class with the specified model (e.g., gpt-4).\n",
    "\n",
    "- `llm.complete(...)`: Sends a prompt to the model to generate a completion based on the input text."
   ]
  },
  {
   "cell_type": "markdown",
   "metadata": {},
   "source": [
    "### 3.5 Perform a Chat Interaction with Llama Index Using OpenAI"
   ]
  },
  {
   "cell_type": "code",
   "execution_count": 21,
   "metadata": {},
   "outputs": [],
   "source": [
    "from llama_index.llms.openai import OpenAI\n",
    "from llama_index.core.llms import ChatMessage\n",
    "\n",
    "# Initialize the OpenAI model\n",
    "llm = OpenAI()\n",
    "\n",
    "# Define the chat messages\n",
    "messages = [\n",
    "    ChatMessage(\n",
    "        role=\"system\", content=\"You are a pirate with a colorful personality\"\n",
    "    ),\n",
    "    ChatMessage(role=\"user\", content=\"What is your name\"),\n",
    "]\n",
    "\n",
    "# Get the response from the model\n",
    "resp = llm.chat(messages)"
   ]
  },
  {
   "cell_type": "markdown",
   "metadata": {},
   "source": [
    "- `OpenAI`: A class for interacting with OpenAI models.\n",
    "\n",
    "- `ChatMessage`: A class to format chat messages.\n",
    "\n",
    "- `OpenAI()`: Initializes an instance of the OpenAI class.\n",
    "\n",
    "- `ChatMessage`: Creates chat message objects with a specified role (e.g., \"system\", \"user\") and content.\n",
    "\n",
    "  - `role=\"system\"`: Defines the system message to set the context or personality of the model.\n",
    "  - `role=\"user\"`: Represents a user message in the chat.\n",
    "\n",
    "- `llm.chat(messages)`: Sends the defined messages to the model and retrieves the response.\n",
    "\n",
    "This code sets up a chat with an OpenAI model, specifying system and user messages to guide the interaction."
   ]
  },
  {
   "cell_type": "markdown",
   "metadata": {},
   "source": [
    "## 4. Observe RAG Pipeline\n",
    "\n",
    "### 4.1 Setup an environment for observing a RAG piepline"
   ]
  },
  {
   "cell_type": "code",
   "execution_count": null,
   "metadata": {},
   "outputs": [],
   "source": [
    "# !pip install llama-index\n",
    "# !pip install llama-index-vector-stores-qdrant \n",
    "# !pip install llama-index-readers-file \n",
    "# !pip install llama-index-embeddings-fastembed \n",
    "# !pip install llama-index-llms-openai\n",
    "# !pip install -U qdrant_client fastembed"
   ]
  },
  {
   "cell_type": "markdown",
   "metadata": {},
   "source": [
    "- `llama-index`: Core package for Llama Index functionality.\n",
    "\n",
    "- `llama-index-vector-stores-qdrant`: Integration for using Qdrant as a vector store with Llama Index.\n",
    "\n",
    "- `llama-index-readers-file`: Provides file reading capabilities for Llama Index.\n",
    "\n",
    "- `llama-index-embeddings-fastembed`: Adds FastEmbed support for generating embeddings with Llama Index.\n",
    "\n",
    "- `llama-index-llms-openai`: Integration for using OpenAI models with Llama Index.\n",
    "\n",
    "- `qdrant_client`: Client library for interacting with Qdrant, a vector search engine.\n",
    "\n",
    "- `fastembed`: Library for generating embeddings quickly."
   ]
  },
  {
   "cell_type": "markdown",
   "metadata": {},
   "source": [
    "### 4.2 Prepare RAG Pipeline with Embeddings and Document Indexing"
   ]
  },
  {
   "cell_type": "code",
   "execution_count": 20,
   "metadata": {},
   "outputs": [],
   "source": [
    "from llama_index.core import VectorStoreIndex, SimpleDirectoryReader\n",
    "from llama_index.embeddings.fastembed import FastEmbedEmbedding\n",
    "# from llama_index.embeddings.openai import OpenAIEmbedding\n",
    "\n",
    "from llama_index.core.settings import Settings\n",
    "\n",
    "Settings.embed_model = FastEmbedEmbedding(model_name=\"BAAI/bge-base-en-v1.5\")\n",
    "# Settings.embed_model = OpenAIEmbedding(embed_batch_size=10)\n",
    "\n",
    "documents = SimpleDirectoryReader(\"data\").load_data()\n",
    "index = VectorStoreIndex.from_documents(documents)"
   ]
  },
  {
   "cell_type": "markdown",
   "metadata": {},
   "source": [
    "- `VectorStoreIndex`: A class used to create and manage a vector store index. This index allows for efficient similarity search and retrieval based on vector representations of documents.\n",
    "\n",
    "- `SimpleDirectoryReader`: A class for loading documents from a specified directory. It reads and preprocesses files from the directory \"sample_data\" to be used in the indexing process.\n",
    "\n",
    "- `FastEmbedEmbedding`: Provides an embedding model for generating vector representations of text using the FastEmbed library. The model specified (\"BAAI/bge-base-en-v1.5\") is used to convert documents into embeddings, which are then used for similarity search within the vector store index.\n",
    "\n",
    "- `from llama_index.embeddings.openai import OpenAIEmbedding`:\n",
    "\n",
    "  `OpenAIEmbedding`: (Commented out) Provides an embedding model for generating vector representations using OpenAI’s embeddings. Uncomment this line if you wish to use OpenAI’s model instead of FastEmbed. This model can be configured with parameters like `embed_batch_size` for batch processing.\n",
    "\n",
    "- `Settings`: A configuration class used to set global settings for embedding models. By assigning the embed_model attribute, you specify which embedding model to use for the RAG pipeline.\n",
    "\n",
    "- `Settings.embed_model = FastEmbedEmbedding(model_name=\"BAAI/bge-base-en-v1.5\")`:\n",
    "  Configures the Settings class to use the FastEmbed model for generating embeddings. This step is crucial for defining how text data will be represented in the vector store.\n",
    "\n",
    "- `documents = SimpleDirectoryReader(\"data\").load_data()`:\n",
    "  Loads and preprocesses documents (in this case) from the \"data\" directory. Please ensure to tweak the directory name according to your project. The `load_data()` method reads all files in the specified directory and prepares them for indexing.\n",
    "\n",
    "- `index = VectorStoreIndex.from_documents(documents)`:\n",
    "  Creates a VectorStoreIndex from the preprocessed documents. This index allows for efficient querying and retrieval based on the vector representations generated by the embedding model."
   ]
  },
  {
   "cell_type": "markdown",
   "metadata": {},
   "source": [
    "### 4.3 Query the Vector Store Index\n",
    "\n",
    "Once the vector store index is set up, you can use it to perform queries and retrieve relevant information."
   ]
  },
  {
   "cell_type": "code",
   "execution_count": 23,
   "metadata": {},
   "outputs": [
    {
     "name": "stdout",
     "output_type": "stream",
     "text": [
      "The author focused on writing short stories and programming during their time before college.\n"
     ]
    }
   ],
   "source": [
    "query_engine = index.as_query_engine()\n",
    "response = query_engine.query(\"What did the author do growing up?\")\n",
    "print(response)"
   ]
  },
  {
   "cell_type": "markdown",
   "metadata": {},
   "source": [
    "- `as_query_engine()`: Converts the `VectorStoreIndex` into a query engine. This engine allows you to perform searches and retrieve information based on the vector representations of documents stored in the index.\n",
    "\n",
    "- `query()`: Executes a query against the vector store index. The query string \"What did the author do growing up?\" is used to search for relevant documents and retrieve information based on the context provided by the vector embeddings.\n",
    "\n",
    "Finally, the `response` containing the information retrieved from the vector store index, which is based on the query and the indexed documents is output."
   ]
  },
  {
   "cell_type": "markdown",
   "metadata": {},
   "source": [
    "## Conclusion\n",
    "\n",
    "In this guide, we have set up a Retrieval-Augmented Generation (RAG) pipeline using Llama Index and integrated it with various components to observe its functionality. We began by configuring and installing the necessary libraries, including Llama Index, OpenTelemetry, and various embedding models.\n",
    "\n",
    "We then proceeded to:\n",
    "\n",
    "- Initialize and configure the embedding models, using FastEmbed or OpenAI models as needed.\n",
    "- Load and index documents from a directory to prepare the data for querying.\n",
    "- Set up a query engine to perform searches and retrieve relevant information based on the indexed documents.\n",
    "\n",
    "By following these steps, you have successfully prepared a RAG pipeline capable of efficient document retrieval and query processing. This setup enables advanced search and information retrieval capabilities, leveraging the power of vector-based embeddings and indexing.\n",
    "\n",
    "Feel free to experiment with different configurations and queries to further explore the capabilities of the RAG pipeline. For any questions or additional customization, consult the documentation of the libraries used or seek further guidance.\n",
    "\n",
    "If you find this guide helpful, please consider giving us a star on GitHub! ⭐\n",
    "\n",
    "[![GitHub stars](https://img.shields.io/github/stars/adithya-s-k/AI-Engineering.academy.svg?style=social&label=Star&maxAge=2482000)](https://github.com/adithya-s-k/AI-Engineering.academy)\n",
    "\n",
    "Thank you for following this guide, and happy querying!"
   ]
  }
 ],
 "metadata": {
  "kernelspec": {
   "display_name": "rag-venv",
   "language": "python",
   "name": "python3"
  },
  "language_info": {
   "codemirror_mode": {
    "name": "ipython",
    "version": 3
   },
   "file_extension": ".py",
   "mimetype": "text/x-python",
   "name": "python",
   "nbconvert_exporter": "python",
   "pygments_lexer": "ipython3",
   "version": "3.11.0"
  }
 },
 "nbformat": 4,
 "nbformat_minor": 2
}
